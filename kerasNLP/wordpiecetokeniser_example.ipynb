{
  "cells": [
    {
      "cell_type": "code",
      "execution_count": 49,
      "metadata": {
        "id": "zZWRh3qeFswx"
      },
      "outputs": [],
      "source": [
        "!pip install keras_nlp"
      ]
    },
    {
      "cell_type": "code",
      "execution_count": 50,
      "metadata": {
        "id": "j4NBUmXbE2SU"
      },
      "outputs": [],
      "source": [
        "import keras_nlp\n",
        "import random\n",
        "import tensorflow as tf\n",
        "import os\n",
        "\n",
        "from tensorflow import keras\n",
        "from tensorflow_text.tools.wordpiece_vocab import bert_vocab_from_dataset as bert_vocab\n",
        "\n",
        "keras.utils.set_random_seed(42)"
      ]
    },
    {
      "cell_type": "code",
      "execution_count": 51,
      "metadata": {
        "id": "eIsHTkSvFoOp"
      },
      "outputs": [],
      "source": [
        "BATCH_SIZE = 64\n",
        "EPOCHS = 3\n",
        "MAX_SEQUENCE_LENGTH = 512\n",
        "VOCAB_SIZE = 15000\n",
        "\n",
        "EMBED_DIM = 128\n",
        "INTERMEDIATE_DIM = 512"
      ]
    },
    {
      "cell_type": "markdown",
      "source": [
        "### Prepare Data"
      ],
      "metadata": {
        "id": "jxXVg5qrQ8Ef"
      }
    },
    {
      "cell_type": "code",
      "execution_count": 52,
      "metadata": {
        "colab": {
          "base_uri": "https://localhost:8080/"
        },
        "id": "47RADXRgHBzN",
        "outputId": "8600954b-2270-461d-c32b-caa30bccaa92"
      },
      "outputs": [
        {
          "output_type": "stream",
          "name": "stdout",
          "text": [
            "--2022-12-17 08:47:00--  http://ai.stanford.edu/~amaas/data/sentiment/aclImdb_v1.tar.gz\n",
            "Resolving ai.stanford.edu (ai.stanford.edu)... 171.64.68.10\n",
            "Connecting to ai.stanford.edu (ai.stanford.edu)|171.64.68.10|:80... connected.\n",
            "HTTP request sent, awaiting response... 200 OK\n",
            "Length: 84125825 (80M) [application/x-gzip]\n",
            "Saving to: ‘aclImdb_v1.tar.gz.2’\n",
            "\n",
            "aclImdb_v1.tar.gz.2 100%[===================>]  80.23M  49.1MB/s    in 1.6s    \n",
            "\n",
            "2022-12-17 08:47:02 (49.1 MB/s) - ‘aclImdb_v1.tar.gz.2’ saved [84125825/84125825]\n",
            "\n"
          ]
        }
      ],
      "source": [
        "!wget http://ai.stanford.edu/~amaas/data/sentiment/aclImdb_v1.tar.gz\n",
        "!tar -xzf aclImdb_v1.tar.gz"
      ]
    },
    {
      "cell_type": "code",
      "execution_count": 53,
      "metadata": {
        "colab": {
          "base_uri": "https://localhost:8080/"
        },
        "id": "RfTlN4h0H9ba",
        "outputId": "baf5d480-b4db-46e7-d4d6-12e14161edc1"
      },
      "outputs": [
        {
          "output_type": "stream",
          "name": "stdout",
          "text": [
            "I never attended the midnight showing of a movie before \"Dick Tracy\" came out.<br /><br />I still have the \"t-shirt ticket\" I had to wear to get admitted to the showing around here somewhere and, like that shirt, \"Dick Tracy\" has stuck with me ever since.<br /><br />If you've seen the movie, the sharp visuals, bright primary colors and strong characters have no doubt been etched into your brain. It's a wonder to behold.<br /><br />As director/star/co-writer/producer, Beatty knows what works in a film and shows it here, taking a familiar American icon and re-creating him for a whole new era. Still set in the '30s, \"Tracy\" has a kind of timeless quality like all good films do. I've lost track of how many times I've watched \"Tracy\" and I still catch something new every time I do.<br /><br />The others are all top notch, starting with Pacino's Big Boy Caprice (a reminder that he can do comedy with the best of them), even Madonna's Breathless Mahoney is a relevation in that under the right environment, she can act (GASP!). <br /><br />But there's still such themes touched on as the necessity of family, keeping true to one's self, good versus evil, even Machiavellian themes are explored. Odd for a comic strip film, but hey, it works.<br /><br />All in all, \"Dick Tracy\" is a classic unto itself. Compared with other films of this decade, it makes a strong statement. It's a good, strong film that doesn't depend on blood, violence, profanity or nudity to make its point. <br /><br />There's a lesson to be learned here.<br /><br />Ten stars. Great Scott!"
          ]
        }
      ],
      "source": [
        "# aclImdb contains train,test folders containing txt file\n",
        "!cat aclImdb/train/pos/11826_10.txt"
      ]
    },
    {
      "cell_type": "code",
      "execution_count": 54,
      "metadata": {
        "colab": {
          "base_uri": "https://localhost:8080/"
        },
        "id": "7sunKSHXHEo-",
        "outputId": "2cee9c3a-c2e3-401b-eec6-277b5bac1914"
      },
      "outputs": [
        {
          "output_type": "stream",
          "name": "stdout",
          "text": [
            "['imdbEr.txt', 'test', 'train', 'imdb.vocab', 'README']\n",
            "['urls_unsup.txt', 'pos', 'urls_pos.txt', 'labeledBow.feat', 'unsupBow.feat', 'urls_neg.txt', 'unsup', 'neg']\n",
            "['pos', 'urls_pos.txt', 'labeledBow.feat', 'urls_neg.txt', 'neg']\n"
          ]
        }
      ],
      "source": [
        "print(os.listdir(\"./aclImdb\"))\n",
        "print(os.listdir(\"./aclImdb/train\"))\n",
        "print(os.listdir(\"./aclImdb/test\"))"
      ]
    },
    {
      "cell_type": "code",
      "execution_count": 55,
      "metadata": {
        "id": "KlHpHybaHNTa"
      },
      "outputs": [],
      "source": [
        "!rm -rf aclImdb/train/unsup"
      ]
    },
    {
      "cell_type": "markdown",
      "source": [
        "### Define Dataset"
      ],
      "metadata": {
        "id": "v0Fw81AcRCtn"
      }
    },
    {
      "cell_type": "code",
      "execution_count": null,
      "metadata": {
        "colab": {
          "base_uri": "https://localhost:8080/"
        },
        "id": "J9OxU9MaHS7x",
        "outputId": "68ecd070-da30-4ee9-93a2-fb26eb4527cc"
      },
      "outputs": [
        {
          "name": "stdout",
          "output_type": "stream",
          "text": [
            "Found 25000 files belonging to 2 classes.\n",
            "Using 20000 files for training.\n",
            "Found 25000 files belonging to 2 classes.\n",
            "Using 5000 files for validation.\n",
            "Found 25000 files belonging to 2 classes.\n"
          ]
        }
      ],
      "source": [
        "# Define Datasets\n",
        "train_ds = keras.utils.text_dataset_from_directory(\n",
        "    \"aclImdb/train\",\n",
        "    batch_size=BATCH_SIZE,\n",
        "    validation_split=0.2,\n",
        "    subset=\"training\",\n",
        "    seed=42,\n",
        ")\n",
        "\n",
        "val_ds = keras.utils.text_dataset_from_directory(\n",
        "    \"aclImdb/train\",\n",
        "    batch_size=BATCH_SIZE,\n",
        "    validation_split=0.2,\n",
        "    subset=\"validation\",\n",
        "    seed=42,\n",
        ")\n",
        "\n",
        "test_ds = keras.utils.text_dataset_from_directory(\"aclImdb/test\", \n",
        "                                                  batch_size=BATCH_SIZE)"
      ]
    },
    {
      "cell_type": "code",
      "execution_count": null,
      "metadata": {
        "colab": {
          "base_uri": "https://localhost:8080/"
        },
        "id": "LzwH8vneHvB2",
        "outputId": "6e9e5556-037a-4c30-b450-d92dda243d89"
      },
      "outputs": [
        {
          "data": {
            "text/plain": [
              "['neg', 'pos']"
            ]
          },
          "execution_count": 11,
          "metadata": {},
          "output_type": "execute_result"
        }
      ],
      "source": [
        "train_ds.class_names"
      ]
    },
    {
      "cell_type": "markdown",
      "source": [
        "### Basic Text Normalisation"
      ],
      "metadata": {
        "id": "pVHGN0S1S8Ll"
      }
    },
    {
      "cell_type": "code",
      "execution_count": null,
      "metadata": {
        "id": "6k36HZwwHnkP"
      },
      "outputs": [],
      "source": [
        "# normalise all sentences in dataset\n",
        "train_ds = train_ds.map(lambda x, y: (tf.strings.lower(x), y))\n",
        "val_ds = val_ds.map(lambda x, y: (tf.strings.lower(x), y))\n",
        "test_ds = test_ds.map(lambda x, y: (tf.strings.lower(x), y))"
      ]
    },
    {
      "cell_type": "code",
      "execution_count": 57,
      "metadata": {
        "colab": {
          "base_uri": "https://localhost:8080/"
        },
        "id": "xGHJcGM9Lelr",
        "outputId": "c353799b-9353-48ba-df84-520561d06ffb"
      },
      "outputs": [
        {
          "output_type": "stream",
          "name": "stdout",
          "text": [
            "text: b\"this movie is not as good as all think. the actors are lowlevel and the story is very comic-like. i respect fantasy but lord of the rings is fantasy...conan..is fantasy...this is just normal hk-lowprice-entertainment...why did they include this splatter-tongue, it makes everything worse. the only good thing is the cinematography and the cutter's job.\"\n",
            "label: 0\n"
          ]
        }
      ],
      "source": [
        "# print sample from batch\n",
        "for text_batch,label_batch in train_ds.take(1):\n",
        "  print(f'text: {text_batch.numpy()[0]}')\n",
        "  print(f'label: {label_batch.numpy()[0]}')"
      ]
    },
    {
      "cell_type": "markdown",
      "metadata": {
        "id": "DwrMjqEKJvn-"
      },
      "source": [
        "### Tokenisation\n",
        "\n",
        "[subword tokeniser](https://www.tensorflow.org/text/guide/subwords_tokenizer)"
      ]
    },
    {
      "cell_type": "code",
      "execution_count": 59,
      "metadata": {
        "id": "ZQKXE5JoJzrD"
      },
      "outputs": [],
      "source": [
        "'''\n",
        "\n",
        "Generate Vocabulary for WordPieceTokenizer\n",
        "\n",
        "'''\n",
        "\n",
        "def train_word_piece(ds, vocab_size, reserved_tokens):\n",
        "\n",
        "    # arguments for \n",
        "    bert_vocab_args = dict(\n",
        "        \n",
        "        vocab_size=vocab_size,          # The target vocabulary size\n",
        "        reserved_tokens=reserved_tokens, # Reserved tokens that must be included in the vocabulary\n",
        "        bert_tokenizer_params={\"lower_case\": True}, # Arguments for `text.BertTokenizer`\n",
        "    )\n",
        "\n",
        "    # Extract text samples (remove the labels).\n",
        "    word_piece_ds = ds.unbatch().map(lambda x, y: x)\n",
        "    vocab = bert_vocab.bert_vocab_from_dataset(\n",
        "        word_piece_ds.batch(1000).prefetch(2), **bert_vocab_args\n",
        "    )\n",
        "    return vocab\n",
        "\n",
        "# Generate Vocabulary\n",
        "reserved_tokens = [\"[PAD]\", \"[UNK]\"]\n",
        "train_sentences = [element[0] for element in train_ds]\n",
        "\n",
        "# Vocabulary -> list of unique words\n",
        "vocab = train_word_piece(train_ds, VOCAB_SIZE, reserved_tokens)"
      ]
    },
    {
      "cell_type": "code",
      "source": [
        "# Slightly lower than target vocab size\n",
        "print(\"Tokens: \", vocab[100:110])\n",
        "print(f\"Vocabulary length: {len(vocab)}\")"
      ],
      "metadata": {
        "colab": {
          "base_uri": "https://localhost:8080/"
        },
        "id": "UdS0zo4gT94a",
        "outputId": "99b7aafa-8782-470d-a29c-0224b623afec"
      },
      "execution_count": 64,
      "outputs": [
        {
          "output_type": "stream",
          "name": "stdout",
          "text": [
            "Tokens:  ['in', 'this', 'that', 'was', 'as', 'for', 'movie', 'with', 'but', 'film']\n",
            "Vocabulary length: 14339\n"
          ]
        }
      ]
    },
    {
      "cell_type": "code",
      "source": [
        "'''\n",
        "\n",
        "WordPieceTokenizer (requires vocabulary list)\n",
        "\n",
        "'''\n",
        "\n",
        "\n",
        "# define tokeniser\n",
        "tokenizer = keras_nlp.tokenizers.WordPieceTokenizer(vocabulary=vocab,\n",
        "                                                    lowercase=False,\n",
        "                                                    sequence_length=MAX_SEQUENCE_LENGTH,\n",
        ")\n",
        "\n",
        "# Sample Tokenisation, get text data for one element\n",
        "input_sentence_ex = train_ds.take(1).get_single_element()[0][1]\n",
        "print(input_sentence_ex)\n",
        "\n",
        "# Tokenise text\n",
        "input_tokens_ex = tokenizer(input_sentence_ex)\n",
        "\n",
        "print(\"Sentence: \", input_sentence_ex)\n",
        "print(\"Tokens: \", input_tokens_ex)\n",
        "print(\"Recovered text after detokenizing: \", tokenizer.detokenize(input_tokens_ex))"
      ],
      "metadata": {
        "colab": {
          "base_uri": "https://localhost:8080/"
        },
        "id": "gMe1MZ8dUSWr",
        "outputId": "c04fec81-62c3-4d04-814c-e763ce27eeab"
      },
      "execution_count": 70,
      "outputs": [
        {
          "output_type": "stream",
          "name": "stdout",
          "text": [
            "tf.Tensor(b'ah, lucio fulci, rest in peace. this infamous italian is most<br /><br />famous for \"zombie,\" and the absolutely unwatchable \"the<br /><br />psychic\" and \"manhattan baby.\" well, add this to the unwatchable<br /><br />list.<br /><br />the plot, as it were, concerns a nekkid woman who wears a gold<br /><br />mask and a g-string. she wants the power of a young dubbed<br /><br />stud who has a set of magic arrows and a bow. they are magic<br /><br />because they glow. arrow boy teams up with a guy in a bad wig,<br /><br />and they spend most of the movie rescuing each other from flat<br /><br />action sequences. in the end, the nekkid chick is defeated, but not<br /><br />before taking the mask off and reminding me why i broke up with<br /><br />my high school girlfriend.<br /><br />fulci bathes every shot in an orange glow and fills the screen with<br /><br />smoke. nothing like a smoky orange action sequence to make you<br /><br />crave sunny delight and a cigarette. the special effects are<br /><br />laughable. in one sequence, our ambiguously gay duo are<br /><br />attacked by dozens of arrows that are obviously pin scratches on<br /><br />the film itself. the majority of the effects budget must have been<br /><br />spent on the fulci-licious gore, which consists entirely of spurting<br /><br />wounds. hey, we can all use a good spurting wound once in a<br /><br />while, but when you get into spurting wound overkill, it gets boring.<br /><br />i kept having to play with the brightness setting on my tv anyway<br /><br />just to see what the heck was happening.<br /><br />there is lots of talk of fulfilling omens and prophecies, so let me<br /><br />do a little look into the future...if you find this movie and watch it,<br /><br />you will regret it. the scene on the video box (by media) does not<br /><br />appear in the film in any context whatsoever. \"conquest\" is a con<br /><br />job. what mst3k could have done with this!<br /><br />this is rated (r) for strong physical violence, strong gore, female<br /><br />nudity, brief male nudity, and mild sexual content.<br /><br />', shape=(), dtype=string)\n",
            "Sentence:  tf.Tensor(b'ah, lucio fulci, rest in peace. this infamous italian is most<br /><br />famous for \"zombie,\" and the absolutely unwatchable \"the<br /><br />psychic\" and \"manhattan baby.\" well, add this to the unwatchable<br /><br />list.<br /><br />the plot, as it were, concerns a nekkid woman who wears a gold<br /><br />mask and a g-string. she wants the power of a young dubbed<br /><br />stud who has a set of magic arrows and a bow. they are magic<br /><br />because they glow. arrow boy teams up with a guy in a bad wig,<br /><br />and they spend most of the movie rescuing each other from flat<br /><br />action sequences. in the end, the nekkid chick is defeated, but not<br /><br />before taking the mask off and reminding me why i broke up with<br /><br />my high school girlfriend.<br /><br />fulci bathes every shot in an orange glow and fills the screen with<br /><br />smoke. nothing like a smoky orange action sequence to make you<br /><br />crave sunny delight and a cigarette. the special effects are<br /><br />laughable. in one sequence, our ambiguously gay duo are<br /><br />attacked by dozens of arrows that are obviously pin scratches on<br /><br />the film itself. the majority of the effects budget must have been<br /><br />spent on the fulci-licious gore, which consists entirely of spurting<br /><br />wounds. hey, we can all use a good spurting wound once in a<br /><br />while, but when you get into spurting wound overkill, it gets boring.<br /><br />i kept having to play with the brightness setting on my tv anyway<br /><br />just to see what the heck was happening.<br /><br />there is lots of talk of fulfilling omens and prophecies, so let me<br /><br />do a little look into the future...if you find this movie and watch it,<br /><br />you will regret it. the scene on the video box (by media) does not<br /><br />appear in the film in any context whatsoever. \"conquest\" is a con<br /><br />job. what mst3k could have done with this!<br /><br />this is rated (r) for strong physical violence, strong gore, female<br /><br />nudity, brief male nudity, and mild sexual content.<br /><br />', shape=(), dtype=string)\n",
            "Tokens:  tf.Tensor(\n",
            "[ 4194    13 10023  3859    13   463   100  2798    15   101  3643  1277\n",
            "    97   179    29    98    16    31    29    98    16    31   912   105\n",
            "     3   947    13     3    94    93   527  4507     3    93    29    98\n",
            "    16    31    29    98    16    31  5090     3    94     3  4208   962\n",
            "    15     3   161    13   850   101    96    93  4507    29    98    16\n",
            "    31    29    98    16    31  1140    15    29    98    16    31    29\n",
            "    98    16    31    93   200    13   104    99   160    13  3701    40\n",
            " 12229   681  2507   244   337   125  3230    40  1992    29    98    16\n",
            "    31    29    98    16    31  2574    94    40    46    14  4139    15\n",
            "   143   588    93   752    95    40   278  2590    29    98    16    31\n",
            "    29    98    16    31 11978   125   135    40   369    95  1365 12104\n",
            "    94    40  5765    15   122   114  1365    29    98    16    31    29\n",
            "    98    16    31   176   122  8895    15  7152   505  7616   145   107\n",
            "    40   320   100    40   165  6500    13    29    98    16    31    29\n",
            "    98    16    31    94   122  1282   179    95    93   106 13649   349\n",
            "   168   127  1122    29    98    16    31    29    98    16    31   299\n",
            "   919    15   100    93   221    13    93 12229   681  2507   244  2453\n",
            "    97  6544    13   108   112    29    98    16    31    29    98    16\n",
            "    31   252   767    93  2574   216    94  8131   159   228    48  3348\n",
            "   145   107    29    98    16    31    29    98    16    31   149   417\n",
            "   497  1078    15    29    98    16    31    29    98    16    31  3859\n",
            "  5063   430   266   418   100   124  5375  8895    94  7942    93   357\n",
            "   107    29    98    16    31    29    98    16    31  4054    15   256\n",
            "   128    40    58  2668  2191  5375   299   831    96   182   111    29\n",
            "    98    16    31    29    98    16    31    42  1307  1679  6319  3292\n",
            "    94    40  7660    15    93   412   395   114    29    98    16    31\n",
            "    29    98    16    31  1474    15   100   118   831    13   351  5543\n",
            "   218  1139  4159   114    29    98    16    31    29    98    16    31\n",
            "  3271   123  4353    95 12104   102   114   637  5379  7113   430   110\n",
            "    29    98    16    31    29    98    16    31    93   109   516    15\n",
            "    93  2390    95    93   395   442   301   116   166    29    98    16\n",
            "    31    29    98    16    31  1169   110    93  3859    14  4497  4702\n",
            "   671    13   151  3610  1235    95 13681   974    29    98    16    31\n",
            "    29    98    16    31  7625    15  1488    13   158   140   119   451\n",
            "    40   139 13681   974  5044   378   100    40    29    98    16    31\n",
            "    29    98    16    31   226    13   108   142   111   167   173 13681\n",
            "   974  5044   209 10138    13    99   307   447    15    29    98    16\n",
            "    31    29    98    16    31    48   927   355    96   392   107    93\n",
            "  2091   518  1035   110   149   335   658    29    98    16    31    29\n",
            "    98    16    31   132    96   156   137    93  2503   103  1627    15\n",
            "    29    98    16    31    29    98    16    31   129    97   868    95\n",
            "   837    95  9727  6050   120    94  9145  4841  4943    13   126   373\n",
            "   159    29    98    16    31    29    98    16], shape=(512,), dtype=int32)\n",
            "Recovered text after detokenizing:  tf.Tensor(b'ah , lucio fulci , rest in peace . this infamous italian is most < br / > < br / > famous for \" zombie , \" and the absolutely unwatchable \" the < br / > < br / > psychic \" and \" manhattan baby . \" well , add this to the unwatchable < br / > < br / > list . < br / > < br / > the plot , as it were , concerns a nekkid woman who wears a gold < br / > < br / > mask and a g - string . she wants the power of a young dubbed < br / > < br / > stud who has a set of magic arrows and a bow . they are magic < br / > < br / > because they glow . arrow boy teams up with a guy in a bad wig , < br / > < br / > and they spend most of the movie rescuing each other from flat < br / > < br / > action sequences . in the end , the nekkid chick is defeated , but not < br / > < br / > before taking the mask off and reminding me why i broke up with < br / > < br / > my high school girlfriend . < br / > < br / > fulci bathes every shot in an orange glow and fills the screen with < br / > < br / > smoke . nothing like a smoky orange action sequence to make you < br / > < br / > crave sunny delight and a cigarette . the special effects are < br / > < br / > laughable . in one sequence , our ambiguously gay duo are < br / > < br / > attacked by dozens of arrows that are obviously pin scratches on < br / > < br / > the film itself . the majority of the effects budget must have been < br / > < br / > spent on the fulci - licious gore , which consists entirely of spurting < br / > < br / > wounds . hey , we can all use a good spurting wound once in a < br / > < br / > while , but when you get into spurting wound overkill , it gets boring . < br / > < br / > i kept having to play with the brightness setting on my tv anyway < br / > < br / > just to see what the heck was happening . < br / > < br / > there is lots of talk of fulfilling omens and prophecies , so let me < br / > < br /', shape=(), dtype=string)\n"
          ]
        }
      ]
    }
  ],
  "metadata": {
    "colab": {
      "provenance": []
    },
    "kernelspec": {
      "display_name": "Python 3",
      "name": "python3"
    },
    "language_info": {
      "name": "python"
    }
  },
  "nbformat": 4,
  "nbformat_minor": 0
}