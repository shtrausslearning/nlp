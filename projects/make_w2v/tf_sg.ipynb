{
 "cells": [
  {
   "cell_type": "code",
   "execution_count": 1,
   "id": "6dab081d",
   "metadata": {
    "_cell_guid": "b1076dfc-b9ad-4769-8c92-a6c4dae69d19",
    "_uuid": "8f2839f25d086af736a60e9eeb907d3b93b6e0e5",
    "execution": {
     "iopub.execute_input": "2023-03-26T13:38:31.342849Z",
     "iopub.status.busy": "2023-03-26T13:38:31.342454Z",
     "iopub.status.idle": "2023-03-26T13:38:40.301868Z",
     "shell.execute_reply": "2023-03-26T13:38:40.300401Z"
    },
    "papermill": {
     "duration": 8.96773,
     "end_time": "2023-03-26T13:38:40.304930",
     "exception": false,
     "start_time": "2023-03-26T13:38:31.337200",
     "status": "completed"
    },
    "tags": []
   },
   "outputs": [],
   "source": [
    "from keras.preprocessing import text\n",
    "from keras.preprocessing.text import Tokenizer\n",
    "from keras.preprocessing.sequence import skipgrams\n",
    "import pandas as pd\n",
    "import numpy as np"
   ]
  },
  {
   "cell_type": "code",
   "execution_count": 2,
   "id": "f45254c5",
   "metadata": {
    "execution": {
     "iopub.execute_input": "2023-03-26T13:38:40.312738Z",
     "iopub.status.busy": "2023-03-26T13:38:40.311456Z",
     "iopub.status.idle": "2023-03-26T13:38:40.323596Z",
     "shell.execute_reply": "2023-03-26T13:38:40.322049Z"
    },
    "papermill": {
     "duration": 0.019734,
     "end_time": "2023-03-26T13:38:40.327376",
     "exception": false,
     "start_time": "2023-03-26T13:38:40.307642",
     "status": "completed"
    },
    "tags": []
   },
   "outputs": [
    {
     "name": "stdout",
     "output_type": "stream",
     "text": [
      "Corpus Length: 1\n",
      "{'a': 1, 'today': 2, 'is': 3, 'good': 4, 'day': 5, 'for': 6, 'taking': 7, 'walk': 8}\n",
      "\n",
      "tokens\n",
      "[['today', 'is', 'a', 'good', 'day', 'for', 'taking', 'a', 'walk']]\n",
      "\n",
      "numerical representation of tokens\n",
      "[[2, 3, 1, 4, 5, 6, 7, 1, 8]]\n"
     ]
    }
   ],
   "source": [
    "corpus = ['Today is a good day for taking a walk']\n",
    "print(f'Corpus Length: {len(corpus)}')\n",
    "\n",
    "tokeniser = Tokenizer()  # tokeniser initialisation\n",
    "tokeniser.fit_on_texts(corpus)  # fit tokeniser on corpus (list of strings)\n",
    "vocab_size = len(tokeniser.word_index) + 1\n",
    "\n",
    "# tokeniser.word_index - unique words (word,index) dictionary\n",
    "# text.text_to_word_sequence - tokenise string\n",
    "# text.text_to_sequences - tokenised numerisation\n",
    "\n",
    "word2id = tokeniser.word_index; print(word2id) # tokens to id\n",
    "id2word = {v:k for k, v in word2id.items()} # id to token\n",
    "\n",
    "embed_size = 10 # size of embeddings\n",
    "epochs = 40\n",
    "\n",
    "# tokenise and convert token to unique number id\n",
    "tokens = [[w for w in text.text_to_word_sequence(doc)] for doc in corpus]\n",
    "numerical_id = [[word2id[w] for w in text.text_to_word_sequence(doc)] for doc in corpus]\n",
    "\n",
    "print('\\ntokens')\n",
    "print(tokens)\n",
    "print('\\nnumerical representation of tokens')\n",
    "print(numerical_id)"
   ]
  },
  {
   "cell_type": "code",
   "execution_count": 3,
   "id": "67edb8df",
   "metadata": {
    "execution": {
     "iopub.execute_input": "2023-03-26T13:38:40.335459Z",
     "iopub.status.busy": "2023-03-26T13:38:40.334969Z",
     "iopub.status.idle": "2023-03-26T13:38:41.052895Z",
     "shell.execute_reply": "2023-03-26T13:38:41.051565Z"
    },
    "papermill": {
     "duration": 0.724722,
     "end_time": "2023-03-26T13:38:41.055486",
     "exception": false,
     "start_time": "2023-03-26T13:38:40.330764",
     "status": "completed"
    },
    "tags": []
   },
   "outputs": [
    {
     "name": "stdout",
     "output_type": "stream",
     "text": [
      "Model: \"model\"\n",
      "__________________________________________________________________________________________________\n",
      " Layer (type)                   Output Shape         Param #     Connected to                     \n",
      "==================================================================================================\n",
      " embedding_input (InputLayer)   [(None, 1)]          0           []                               \n",
      "                                                                                                  \n",
      " embedding_1_input (InputLayer)  [(None, 1)]         0           []                               \n",
      "                                                                                                  \n",
      " embedding (Embedding)          (None, 1, 10)        90          ['embedding_input[0][0]']        \n",
      "                                                                                                  \n",
      " embedding_1 (Embedding)        (None, 1, 10)        90          ['embedding_1_input[0][0]']      \n",
      "                                                                                                  \n",
      " reshape (Reshape)              (None, 10)           0           ['embedding[0][0]']              \n",
      "                                                                                                  \n",
      " reshape_1 (Reshape)            (None, 10)           0           ['embedding_1[0][0]']            \n",
      "                                                                                                  \n",
      " dot (Dot)                      (None, 1)            0           ['reshape[0][0]',                \n",
      "                                                                  'reshape_1[0][0]']              \n",
      "                                                                                                  \n",
      " dense (Dense)                  (None, 1)            2           ['dot[0][0]']                    \n",
      "                                                                                                  \n",
      "==================================================================================================\n",
      "Total params: 182\n",
      "Trainable params: 182\n",
      "Non-trainable params: 0\n",
      "__________________________________________________________________________________________________\n"
     ]
    }
   ],
   "source": [
    "''' Define SG Model '''\n",
    "# requires two separate input vectors; word and context\n",
    "\n",
    "from tensorflow.keras.layers import Dot, Dense, Reshape, Embedding\n",
    "from tensorflow.keras.models import Sequential, Model\n",
    "\n",
    "# word\n",
    "word_model = Sequential()\n",
    "word_model.add(Embedding(vocab_size, embed_size,input_length=1))\n",
    "word_model.add(Reshape((embed_size, )))      # [1,embed_dim] -> [embed_dim]\n",
    "\n",
    "# context \n",
    "context_model = Sequential()\n",
    "context_model.add(Embedding(vocab_size, embed_size,input_length=1))\n",
    "context_model.add(Reshape((embed_size,)))\n",
    "\n",
    "# dot product of both embed vectors\n",
    "model_arch = Dot(axes=1)([word_model.output, context_model.output]) \n",
    "model_arch = Dense(1,activation=\"sigmoid\")(model_arch)\n",
    "\n",
    "model = Model([word_model.input,\n",
    "               context_model.input], model_arch)\n",
    "\n",
    "model.compile(loss=\"mean_squared_error\",\n",
    "              optimizer=\"rmsprop\")\n",
    "\n",
    "model.summary()"
   ]
  },
  {
   "cell_type": "code",
   "execution_count": 4,
   "id": "2542eb62",
   "metadata": {
    "execution": {
     "iopub.execute_input": "2023-03-26T13:38:41.065771Z",
     "iopub.status.busy": "2023-03-26T13:38:41.065365Z",
     "iopub.status.idle": "2023-03-26T13:38:42.236927Z",
     "shell.execute_reply": "2023-03-26T13:38:42.235696Z"
    },
    "papermill": {
     "duration": 1.180028,
     "end_time": "2023-03-26T13:38:42.239745",
     "exception": false,
     "start_time": "2023-03-26T13:38:41.059717",
     "status": "completed"
    },
    "tags": []
   },
   "outputs": [],
   "source": [
    "lst_loss = []\n",
    "for epoch in range(epochs):\n",
    "    \n",
    "    loss = 0.0\n",
    "    \n",
    "    # Enumerate over tokenised text\n",
    "    for i, doc in enumerate(tokeniser.texts_to_sequences(corpus)):\n",
    "        \n",
    "        # create training samples\n",
    "        # data - list of [word,context] , label (next to one another)\n",
    "        \n",
    "        data, labels = skipgrams(sequence=doc,   \n",
    "                                 vocabulary_size=vocab_size, \n",
    "                                 window_size=2,\n",
    "                                 shuffle=True)\n",
    "        \n",
    "        x = [np.array(x) for x in zip(*data)] # word, context vectors \n",
    "        y = np.array(labels, dtype=np.int32)  # label (words are next to each other)\n",
    "        \n",
    "        if x:\n",
    "            loss += model.train_on_batch(x, y)\n",
    "            \n",
    "    lst_loss.append(loss)"
   ]
  },
  {
   "cell_type": "code",
   "execution_count": 5,
   "id": "711e863d",
   "metadata": {
    "execution": {
     "iopub.execute_input": "2023-03-26T13:38:42.250546Z",
     "iopub.status.busy": "2023-03-26T13:38:42.249192Z",
     "iopub.status.idle": "2023-03-26T13:38:42.288675Z",
     "shell.execute_reply": "2023-03-26T13:38:42.286786Z"
    },
    "papermill": {
     "duration": 0.047911,
     "end_time": "2023-03-26T13:38:42.291787",
     "exception": false,
     "start_time": "2023-03-26T13:38:42.243876",
     "status": "completed"
    },
    "tags": []
   },
   "outputs": [
    {
     "name": "stdout",
     "output_type": "stream",
     "text": [
      "Last Iteration Word Embedding:\n",
      "vocab size: 9\n"
     ]
    },
    {
     "data": {
      "text/html": [
       "<div>\n",
       "<style scoped>\n",
       "    .dataframe tbody tr th:only-of-type {\n",
       "        vertical-align: middle;\n",
       "    }\n",
       "\n",
       "    .dataframe tbody tr th {\n",
       "        vertical-align: top;\n",
       "    }\n",
       "\n",
       "    .dataframe thead th {\n",
       "        text-align: right;\n",
       "    }\n",
       "</style>\n",
       "<table border=\"1\" class=\"dataframe\">\n",
       "  <thead>\n",
       "    <tr style=\"text-align: right;\">\n",
       "      <th></th>\n",
       "      <th>0</th>\n",
       "      <th>1</th>\n",
       "      <th>2</th>\n",
       "      <th>3</th>\n",
       "      <th>4</th>\n",
       "      <th>5</th>\n",
       "      <th>6</th>\n",
       "      <th>7</th>\n",
       "      <th>8</th>\n",
       "      <th>9</th>\n",
       "    </tr>\n",
       "  </thead>\n",
       "  <tbody>\n",
       "    <tr>\n",
       "      <th>a</th>\n",
       "      <td>-0.011746</td>\n",
       "      <td>0.006677</td>\n",
       "      <td>-0.013652</td>\n",
       "      <td>0.009860</td>\n",
       "      <td>-0.039301</td>\n",
       "      <td>-0.041331</td>\n",
       "      <td>0.010881</td>\n",
       "      <td>-0.011189</td>\n",
       "      <td>0.014499</td>\n",
       "      <td>0.026029</td>\n",
       "    </tr>\n",
       "    <tr>\n",
       "      <th>today</th>\n",
       "      <td>0.015985</td>\n",
       "      <td>0.009962</td>\n",
       "      <td>0.034722</td>\n",
       "      <td>-0.034140</td>\n",
       "      <td>-0.011411</td>\n",
       "      <td>-0.050048</td>\n",
       "      <td>0.052077</td>\n",
       "      <td>-0.067040</td>\n",
       "      <td>-0.003490</td>\n",
       "      <td>0.021565</td>\n",
       "    </tr>\n",
       "    <tr>\n",
       "      <th>is</th>\n",
       "      <td>0.069740</td>\n",
       "      <td>-0.066058</td>\n",
       "      <td>-0.012894</td>\n",
       "      <td>0.023048</td>\n",
       "      <td>0.006557</td>\n",
       "      <td>0.048443</td>\n",
       "      <td>-0.070513</td>\n",
       "      <td>0.004748</td>\n",
       "      <td>-0.017071</td>\n",
       "      <td>-0.018088</td>\n",
       "    </tr>\n",
       "    <tr>\n",
       "      <th>good</th>\n",
       "      <td>-0.019644</td>\n",
       "      <td>-0.045336</td>\n",
       "      <td>-0.011896</td>\n",
       "      <td>-0.058437</td>\n",
       "      <td>0.046689</td>\n",
       "      <td>-0.043507</td>\n",
       "      <td>0.011198</td>\n",
       "      <td>0.026951</td>\n",
       "      <td>-0.003062</td>\n",
       "      <td>0.019800</td>\n",
       "    </tr>\n",
       "    <tr>\n",
       "      <th>day</th>\n",
       "      <td>-0.046940</td>\n",
       "      <td>-0.071056</td>\n",
       "      <td>-0.005800</td>\n",
       "      <td>-0.033562</td>\n",
       "      <td>-0.058224</td>\n",
       "      <td>0.011280</td>\n",
       "      <td>0.023172</td>\n",
       "      <td>0.018498</td>\n",
       "      <td>-0.012863</td>\n",
       "      <td>-0.001334</td>\n",
       "    </tr>\n",
       "  </tbody>\n",
       "</table>\n",
       "</div>"
      ],
      "text/plain": [
       "              0         1         2         3         4         5         6  \\\n",
       "a     -0.011746  0.006677 -0.013652  0.009860 -0.039301 -0.041331  0.010881   \n",
       "today  0.015985  0.009962  0.034722 -0.034140 -0.011411 -0.050048  0.052077   \n",
       "is     0.069740 -0.066058 -0.012894  0.023048  0.006557  0.048443 -0.070513   \n",
       "good  -0.019644 -0.045336 -0.011896 -0.058437  0.046689 -0.043507  0.011198   \n",
       "day   -0.046940 -0.071056 -0.005800 -0.033562 -0.058224  0.011280  0.023172   \n",
       "\n",
       "              7         8         9  \n",
       "a     -0.011189  0.014499  0.026029  \n",
       "today -0.067040 -0.003490  0.021565  \n",
       "is     0.004748 -0.017071 -0.018088  \n",
       "good   0.026951 -0.003062  0.019800  \n",
       "day    0.018498 -0.012863 -0.001334  "
      ]
     },
     "execution_count": 5,
     "metadata": {},
     "output_type": "execute_result"
    }
   ],
   "source": [
    "print('Last Iteration Word Embedding:')\n",
    "word_embed_layer = model.layers[2]\n",
    "print('vocab size:', vocab_size)\n",
    "word_embed_layer.get_weights()[0].shape\n",
    "\n",
    "weights = word_embed_layer.get_weights()[0][1:]\n",
    "pd.DataFrame(weights, index=id2word.values()).head()"
   ]
  }
 ],
 "metadata": {
  "kernelspec": {
   "display_name": "Python 3",
   "language": "python",
   "name": "python3"
  },
  "language_info": {
   "codemirror_mode": {
    "name": "ipython",
    "version": 3
   },
   "file_extension": ".py",
   "mimetype": "text/x-python",
   "name": "python",
   "nbconvert_exporter": "python",
   "pygments_lexer": "ipython3",
   "version": "3.7.12"
  },
  "papermill": {
   "default_parameters": {},
   "duration": 24.748803,
   "end_time": "2023-03-26T13:38:45.705920",
   "environment_variables": {},
   "exception": null,
   "input_path": "__notebook__.ipynb",
   "output_path": "__notebook__.ipynb",
   "parameters": {},
   "start_time": "2023-03-26T13:38:20.957117",
   "version": "2.4.0"
  }
 },
 "nbformat": 4,
 "nbformat_minor": 5
}
