{
 "cells": [
  {
   "cell_type": "markdown",
   "id": "e1f42ed9",
   "metadata": {
    "papermill": {
     "duration": 0.009365,
     "end_time": "2023-06-05T06:47:15.758582",
     "exception": false,
     "start_time": "2023-06-05T06:47:15.749217",
     "status": "completed"
    },
    "tags": []
   },
   "source": [
    "# Skip-gram with naiive softmax \n",
    "\n",
    "Getting the embeddings by solving the skip-gram fake problem"
   ]
  },
  {
   "cell_type": "code",
   "execution_count": 1,
   "id": "b650bc32",
   "metadata": {
    "execution": {
     "iopub.execute_input": "2023-06-05T06:47:15.776750Z",
     "iopub.status.busy": "2023-06-05T06:47:15.776313Z",
     "iopub.status.idle": "2023-06-05T06:47:20.458836Z",
     "shell.execute_reply": "2023-06-05T06:47:20.457622Z"
    },
    "papermill": {
     "duration": 4.69442,
     "end_time": "2023-06-05T06:47:20.461226",
     "exception": false,
     "start_time": "2023-06-05T06:47:15.766806",
     "status": "completed"
    },
    "tags": []
   },
   "outputs": [],
   "source": [
    "import torch\n",
    "import torch.nn as nn\n",
    "from torch.autograd import Variable\n",
    "import torch.optim as optim\n",
    "import torch.nn.functional as F\n",
    "import nltk\n",
    "import random\n",
    "import numpy as np\n",
    "from collections import Counter\n",
    "\n",
    "# group all sublists into one list\n",
    "flatten = lambda l: [item for sublist in l for item in sublist]\n",
    "random.seed(1024)"
   ]
  },
  {
   "cell_type": "code",
   "execution_count": 2,
   "id": "1f094580",
   "metadata": {
    "execution": {
     "iopub.execute_input": "2023-06-05T06:47:20.480062Z",
     "iopub.status.busy": "2023-06-05T06:47:20.479558Z",
     "iopub.status.idle": "2023-06-05T06:47:20.561021Z",
     "shell.execute_reply": "2023-06-05T06:47:20.560133Z"
    },
    "papermill": {
     "duration": 0.092584,
     "end_time": "2023-06-05T06:47:20.563021",
     "exception": false,
     "start_time": "2023-06-05T06:47:20.470437",
     "status": "completed"
    },
    "tags": []
   },
   "outputs": [],
   "source": [
    "USE_CUDA = torch.cuda.is_available()\n",
    "gpus = [0]\n",
    "torch.cuda.set_device(gpus[0])\n",
    "\n",
    "FloatTensor = torch.cuda.FloatTensor if USE_CUDA else torch.FloatTensor\n",
    "LongTensor = torch.cuda.LongTensor if USE_CUDA else torch.LongTensor\n",
    "ByteTensor = torch.cuda.ByteTensor if USE_CUDA else torch.ByteTensor"
   ]
  },
  {
   "cell_type": "code",
   "execution_count": 3,
   "id": "9a4537b0",
   "metadata": {
    "execution": {
     "iopub.execute_input": "2023-06-05T06:47:20.581084Z",
     "iopub.status.busy": "2023-06-05T06:47:20.580198Z",
     "iopub.status.idle": "2023-06-05T06:47:20.753061Z",
     "shell.execute_reply": "2023-06-05T06:47:20.752338Z"
    },
    "papermill": {
     "duration": 0.183846,
     "end_time": "2023-06-05T06:47:20.754987",
     "exception": false,
     "start_time": "2023-06-05T06:47:20.571141",
     "status": "completed"
    },
    "tags": []
   },
   "outputs": [],
   "source": [
    "# for batch looping during training \n",
    "def getBatch(batch_size, train_data):\n",
    "    random.shuffle(train_data)\n",
    "    sindex = 0\n",
    "    eindex = batch_size\n",
    "    while eindex < len(train_data):\n",
    "        batch = train_data[sindex: eindex]\n",
    "        temp = eindex\n",
    "        eindex = eindex + batch_size\n",
    "        sindex = temp\n",
    "        yield batch\n",
    "    \n",
    "    if eindex >= len(train_data):\n",
    "        batch = train_data[sindex:]\n",
    "        yield batch\n",
    "        \n",
    "def prepare_sequence(seq, word2index):\n",
    "    idxs = list(map(lambda w: word2index[w] if word2index.get(w) is not None else word2index[\"<UNK>\"], seq))\n",
    "    return Variable(LongTensor(idxs))\n",
    "\n",
    "def prepare_word(word, word2index):\n",
    "    return Variable(LongTensor([word2index[word]]) if word2index.get(word) is not None else LongTensor([word2index[\"<UNK>\"]]))"
   ]
  },
  {
   "cell_type": "markdown",
   "id": "8a586127",
   "metadata": {
    "papermill": {
     "duration": 0.008338,
     "end_time": "2023-06-05T06:47:20.772235",
     "exception": false,
     "start_time": "2023-06-05T06:47:20.763897",
     "status": "completed"
    },
    "tags": []
   },
   "source": [
    "## 1. Data load and Preprocessing \n",
    "\n",
    "### 1.1. Load corpus : Gutenberg corpus\n",
    "\n",
    "Let's use `melvill-moby_dick` corpus from Gutenberg corpus"
   ]
  },
  {
   "cell_type": "code",
   "execution_count": 4,
   "id": "1a071af1",
   "metadata": {
    "collapsed": false,
    "execution": {
     "iopub.execute_input": "2023-06-05T06:47:20.789917Z",
     "iopub.status.busy": "2023-06-05T06:47:20.789602Z",
     "iopub.status.idle": "2023-06-05T06:47:20.800256Z",
     "shell.execute_reply": "2023-06-05T06:47:20.799442Z"
    },
    "jupyter": {
     "outputs_hidden": false
    },
    "papermill": {
     "duration": 0.021436,
     "end_time": "2023-06-05T06:47:20.802134",
     "exception": false,
     "start_time": "2023-06-05T06:47:20.780698",
     "status": "completed"
    },
    "tags": []
   },
   "outputs": [
    {
     "data": {
      "text/plain": [
       "['austen-emma.txt',\n",
       " 'austen-persuasion.txt',\n",
       " 'austen-sense.txt',\n",
       " 'bible-kjv.txt',\n",
       " 'blake-poems.txt',\n",
       " 'bryant-stories.txt',\n",
       " 'burgess-busterbrown.txt',\n",
       " 'carroll-alice.txt',\n",
       " 'chesterton-ball.txt',\n",
       " 'chesterton-brown.txt',\n",
       " 'chesterton-thursday.txt',\n",
       " 'edgeworth-parents.txt',\n",
       " 'melville-moby_dick.txt',\n",
       " 'milton-paradise.txt',\n",
       " 'shakespeare-caesar.txt',\n",
       " 'shakespeare-hamlet.txt',\n",
       " 'shakespeare-macbeth.txt',\n",
       " 'whitman-leaves.txt']"
      ]
     },
     "execution_count": 4,
     "metadata": {},
     "output_type": "execute_result"
    }
   ],
   "source": [
    "nltk.corpus.gutenberg.fileids()"
   ]
  },
  {
   "cell_type": "code",
   "execution_count": 5,
   "id": "37820c0f",
   "metadata": {
    "execution": {
     "iopub.execute_input": "2023-06-05T06:47:20.820096Z",
     "iopub.status.busy": "2023-06-05T06:47:20.819392Z",
     "iopub.status.idle": "2023-06-05T06:47:21.658448Z",
     "shell.execute_reply": "2023-06-05T06:47:21.657438Z"
    },
    "papermill": {
     "duration": 0.850446,
     "end_time": "2023-06-05T06:47:21.660630",
     "exception": false,
     "start_time": "2023-06-05T06:47:20.810184",
     "status": "completed"
    },
    "tags": []
   },
   "outputs": [
    {
     "data": {
      "text/plain": [
       "['[', 'moby', 'dick', 'by', 'herman', 'melville', '1851', ']']"
      ]
     },
     "execution_count": 5,
     "metadata": {},
     "output_type": "execute_result"
    }
   ],
   "source": [
    "corpus = nltk.corpus.gutenberg.sents('melville-moby_dick.txt') # sampling sentences for test\n",
    "corpus = [[word.lower() for word in sent] for sent in corpus] # list of lists\n",
    "corpus[0]"
   ]
  },
  {
   "cell_type": "code",
   "execution_count": 6,
   "id": "393c6c93",
   "metadata": {
    "execution": {
     "iopub.execute_input": "2023-06-05T06:47:21.678604Z",
     "iopub.status.busy": "2023-06-05T06:47:21.678268Z",
     "iopub.status.idle": "2023-06-05T06:47:21.687866Z",
     "shell.execute_reply": "2023-06-05T06:47:21.687000Z"
    },
    "papermill": {
     "duration": 0.020869,
     "end_time": "2023-06-05T06:47:21.689986",
     "exception": false,
     "start_time": "2023-06-05T06:47:21.669117",
     "status": "completed"
    },
    "tags": []
   },
   "outputs": [],
   "source": [
    "# lets use only a portion of the corpus documents\n",
    "corpus = corpus[:500]"
   ]
  },
  {
   "cell_type": "markdown",
   "id": "09b95304",
   "metadata": {
    "papermill": {
     "duration": 0.008011,
     "end_time": "2023-06-05T06:47:21.706196",
     "exception": false,
     "start_time": "2023-06-05T06:47:21.698185",
     "status": "completed"
    },
    "tags": []
   },
   "source": [
    "### 1.2. Extract Stopwords from unigram distribution's tails\n",
    "\n",
    "flatten is a lambda function to combine all lists in list"
   ]
  },
  {
   "cell_type": "code",
   "execution_count": 7,
   "id": "3ad199ab",
   "metadata": {
    "execution": {
     "iopub.execute_input": "2023-06-05T06:47:21.724235Z",
     "iopub.status.busy": "2023-06-05T06:47:21.723499Z",
     "iopub.status.idle": "2023-06-05T06:47:21.729794Z",
     "shell.execute_reply": "2023-06-05T06:47:21.729028Z"
    },
    "papermill": {
     "duration": 0.017461,
     "end_time": "2023-06-05T06:47:21.731693",
     "exception": false,
     "start_time": "2023-06-05T06:47:21.714232",
     "status": "completed"
    },
    "tags": []
   },
   "outputs": [],
   "source": [
    "word_count = Counter(flatten(corpus))\n",
    "border = int(len(word_count) * 0.01)  # stop words will be top 1% "
   ]
  },
  {
   "cell_type": "code",
   "execution_count": 8,
   "id": "060f5fae",
   "metadata": {
    "execution": {
     "iopub.execute_input": "2023-06-05T06:47:21.749611Z",
     "iopub.status.busy": "2023-06-05T06:47:21.748900Z",
     "iopub.status.idle": "2023-06-05T06:47:21.754712Z",
     "shell.execute_reply": "2023-06-05T06:47:21.753946Z"
    },
    "papermill": {
     "duration": 0.016637,
     "end_time": "2023-06-05T06:47:21.756647",
     "exception": false,
     "start_time": "2023-06-05T06:47:21.740010",
     "status": "completed"
    },
    "tags": []
   },
   "outputs": [],
   "source": [
    "stopwords = word_count.most_common()[:border] + list(reversed(word_count.most_common()))[:border]"
   ]
  },
  {
   "cell_type": "code",
   "execution_count": 9,
   "id": "ab17bacd",
   "metadata": {
    "execution": {
     "iopub.execute_input": "2023-06-05T06:47:21.774604Z",
     "iopub.status.busy": "2023-06-05T06:47:21.774349Z",
     "iopub.status.idle": "2023-06-05T06:47:21.780449Z",
     "shell.execute_reply": "2023-06-05T06:47:21.779636Z"
    },
    "papermill": {
     "duration": 0.017322,
     "end_time": "2023-06-05T06:47:21.782537",
     "exception": false,
     "start_time": "2023-06-05T06:47:21.765215",
     "status": "completed"
    },
    "tags": []
   },
   "outputs": [
    {
     "data": {
      "text/plain": [
       "[',', 'the', '.', 'of', 'a', 'and', 'in', 'to', '--', '\"']"
      ]
     },
     "execution_count": 9,
     "metadata": {},
     "output_type": "execute_result"
    }
   ],
   "source": [
    "stopwords = [s[0] for s in stopwords]\n",
    "stopwords[:10]"
   ]
  },
  {
   "cell_type": "markdown",
   "id": "bce241a7",
   "metadata": {
    "papermill": {
     "duration": 0.008207,
     "end_time": "2023-06-05T06:47:21.799035",
     "exception": false,
     "start_time": "2023-06-05T06:47:21.790828",
     "status": "completed"
    },
    "tags": []
   },
   "source": [
    "### 1.3. Build vocab\n",
    "\n",
    "Remove stopwords from the corpus vocabulary using sets, add special token as well"
   ]
  },
  {
   "cell_type": "code",
   "execution_count": 10,
   "id": "985256af",
   "metadata": {
    "execution": {
     "iopub.execute_input": "2023-06-05T06:47:21.816550Z",
     "iopub.status.busy": "2023-06-05T06:47:21.816266Z",
     "iopub.status.idle": "2023-06-05T06:47:21.824580Z",
     "shell.execute_reply": "2023-06-05T06:47:21.823631Z"
    },
    "papermill": {
     "duration": 0.01925,
     "end_time": "2023-06-05T06:47:21.826547",
     "exception": false,
     "start_time": "2023-06-05T06:47:21.807297",
     "status": "completed"
    },
    "tags": []
   },
   "outputs": [],
   "source": [
    "# remove stopwords\n",
    "vocab = list(set(flatten(corpus)) - set(stopwords))\n",
    "vocab.append('<UNK>')\n",
    "\n",
    "# create mapping dictionary \n",
    "word2index = {'<UNK>' : 0} \n",
    "\n",
    "for vo in vocab:\n",
    "    if word2index.get(vo) is None:\n",
    "        word2index[vo] = len(word2index)\n",
    "\n",
    "index2word = {v:k for k, v in word2index.items()} "
   ]
  },
  {
   "cell_type": "code",
   "execution_count": 11,
   "id": "84b3b24c",
   "metadata": {
    "collapsed": false,
    "execution": {
     "iopub.execute_input": "2023-06-05T06:47:21.845194Z",
     "iopub.status.busy": "2023-06-05T06:47:21.844497Z",
     "iopub.status.idle": "2023-06-05T06:47:21.850790Z",
     "shell.execute_reply": "2023-06-05T06:47:21.849782Z"
    },
    "jupyter": {
     "outputs_hidden": false
    },
    "papermill": {
     "duration": 0.018729,
     "end_time": "2023-06-05T06:47:21.853803",
     "exception": false,
     "start_time": "2023-06-05T06:47:21.835074",
     "status": "completed"
    },
    "tags": []
   },
   "outputs": [
    {
     "name": "stdout",
     "output_type": "stream",
     "text": [
      "2607 2556\n"
     ]
    }
   ],
   "source": [
    "# length of all corpus token, filtered corpus token length\n",
    "print(len(set(flatten(corpus))), len(vocab))"
   ]
  },
  {
   "cell_type": "markdown",
   "id": "851eb0ac",
   "metadata": {
    "papermill": {
     "duration": 0.008139,
     "end_time": "2023-06-05T06:47:21.870585",
     "exception": false,
     "start_time": "2023-06-05T06:47:21.862446",
     "status": "completed"
    },
    "tags": []
   },
   "source": [
    "### 1.4. Prepare train data \n",
    "\n",
    "Lets prepare the context and target word data "
   ]
  },
  {
   "cell_type": "code",
   "execution_count": 12,
   "id": "4e99e370",
   "metadata": {
    "execution": {
     "iopub.execute_input": "2023-06-05T06:47:21.889269Z",
     "iopub.status.busy": "2023-06-05T06:47:21.888954Z",
     "iopub.status.idle": "2023-06-05T06:47:21.933105Z",
     "shell.execute_reply": "2023-06-05T06:47:21.932183Z"
    },
    "papermill": {
     "duration": 0.055655,
     "end_time": "2023-06-05T06:47:21.935230",
     "exception": false,
     "start_time": "2023-06-05T06:47:21.879575",
     "status": "completed"
    },
    "tags": []
   },
   "outputs": [
    {
     "name": "stdout",
     "output_type": "stream",
     "text": [
      "[('[', 'moby'), ('[', 'dick'), ('[', 'by'), ('moby', '['), ('moby', 'dick'), ('moby', 'by')]\n"
     ]
    },
    {
     "data": {
      "text/plain": [
       "('[', 'moby')"
      ]
     },
     "execution_count": 12,
     "metadata": {},
     "output_type": "execute_result"
    }
   ],
   "source": [
    "WINDOW_SIZE = 3\n",
    "\n",
    "def create_data(ws=3):\n",
    "\n",
    "    windows = flatten([list(nltk.ngrams(['<DUMMY>'] * WINDOW_SIZE + c + ['<DUMMY>'] * WINDOW_SIZE, WINDOW_SIZE * 2 + 1)) for c in corpus])\n",
    "    train_data = []\n",
    "\n",
    "    for window in windows:\n",
    "        for i in range(ws * 2 + 1):\n",
    "            if i == ws or window[i] == '<DUMMY>': \n",
    "                continue\n",
    "            train_data.append((window[ws], window[i]))\n",
    "\n",
    "    print(train_data[:ws * 2])\n",
    "    return train_data\n",
    "\n",
    "# create skipgram pairs \n",
    "train_data = create_data()\n",
    "train_data[0] # first document"
   ]
  },
  {
   "cell_type": "code",
   "execution_count": 13,
   "id": "5f94dada",
   "metadata": {
    "execution": {
     "iopub.execute_input": "2023-06-05T06:47:21.955657Z",
     "iopub.status.busy": "2023-06-05T06:47:21.955313Z",
     "iopub.status.idle": "2023-06-05T06:47:28.513107Z",
     "shell.execute_reply": "2023-06-05T06:47:28.512136Z"
    },
    "papermill": {
     "duration": 6.571077,
     "end_time": "2023-06-05T06:47:28.515665",
     "exception": false,
     "start_time": "2023-06-05T06:47:21.944588",
     "status": "completed"
    },
    "tags": []
   },
   "outputs": [],
   "source": [
    "X_p = []; y_p = []\n",
    "for tr in train_data:\n",
    "    X_p.append(prepare_word(tr[0], word2index).view(1, -1))\n",
    "    y_p.append(prepare_word(tr[1], word2index).view(1, -1))\n",
    "    \n",
    "train_data = list(zip(X_p, y_p))"
   ]
  },
  {
   "cell_type": "markdown",
   "id": "4fda3cd4",
   "metadata": {
    "papermill": {
     "duration": 0.008629,
     "end_time": "2023-06-05T06:47:28.533324",
     "exception": false,
     "start_time": "2023-06-05T06:47:28.524695",
     "status": "completed"
    },
    "tags": []
   },
   "source": [
    "## 2. Modeling\n",
    "\n",
    "### 2.1 Define model architecture"
   ]
  },
  {
   "cell_type": "code",
   "execution_count": 14,
   "id": "e1c72d42",
   "metadata": {
    "execution": {
     "iopub.execute_input": "2023-06-05T06:47:28.552956Z",
     "iopub.status.busy": "2023-06-05T06:47:28.552633Z",
     "iopub.status.idle": "2023-06-05T06:47:28.561634Z",
     "shell.execute_reply": "2023-06-05T06:47:28.560677Z"
    },
    "papermill": {
     "duration": 0.021034,
     "end_time": "2023-06-05T06:47:28.563612",
     "exception": false,
     "start_time": "2023-06-05T06:47:28.542578",
     "status": "completed"
    },
    "tags": []
   },
   "outputs": [],
   "source": [
    "class Skipgram(nn.Module):\n",
    "    \n",
    "    def __init__(self, vocab_size, projection_dim):\n",
    "        \n",
    "        super(Skipgram,self).__init__()\n",
    "        self.embedding_v = nn.Embedding(vocab_size, projection_dim)\n",
    "        self.embedding_u = nn.Embedding(vocab_size, projection_dim)\n",
    "\n",
    "        self.embedding_v.weight.data.uniform_(-1, 1) # init\n",
    "        self.embedding_u.weight.data.uniform_(0, 0) # init\n",
    "        #self.out = nn.Linear(projection_dim,vocab_size)\n",
    "    def forward(self, center_words,target_words, outer_words):\n",
    "        center_embeds = self.embedding_v(center_words) # B x 1 x D\n",
    "        target_embeds = self.embedding_u(target_words) # B x 1 x D\n",
    "        outer_embeds = self.embedding_u(outer_words) # B x V x D\n",
    "        \n",
    "        scores = target_embeds.bmm(center_embeds.transpose(1, 2)).squeeze(2) # Bx1xD * BxDx1 => Bx1\n",
    "        norm_scores = outer_embeds.bmm(center_embeds.transpose(1, 2)).squeeze(2) # BxVxD * BxDx1 => BxV\n",
    "        \n",
    "        nll = -torch.mean(torch.log(torch.exp(scores)/torch.sum(torch.exp(norm_scores), 1).unsqueeze(1))) # log-softmax\n",
    "        \n",
    "        return nll # negative log likelihood\n",
    "    \n",
    "    def prediction(self, inputs):\n",
    "        embeds = self.embedding_v(inputs)\n",
    "        \n",
    "        return embeds  "
   ]
  },
  {
   "cell_type": "markdown",
   "id": "910b598e",
   "metadata": {
    "papermill": {
     "duration": 0.008679,
     "end_time": "2023-06-05T06:47:28.580925",
     "exception": false,
     "start_time": "2023-06-05T06:47:28.572246",
     "status": "completed"
    },
    "tags": []
   },
   "source": [
    "### 2.2. Train  \n",
    "\n",
    "We are interested in generating word embeddings of dimension 30"
   ]
  },
  {
   "cell_type": "code",
   "execution_count": 15,
   "id": "cb089c87",
   "metadata": {
    "execution": {
     "iopub.execute_input": "2023-06-05T06:47:28.600379Z",
     "iopub.status.busy": "2023-06-05T06:47:28.599572Z",
     "iopub.status.idle": "2023-06-05T06:47:28.621541Z",
     "shell.execute_reply": "2023-06-05T06:47:28.620675Z"
    },
    "papermill": {
     "duration": 0.034044,
     "end_time": "2023-06-05T06:47:28.623563",
     "exception": false,
     "start_time": "2023-06-05T06:47:28.589519",
     "status": "completed"
    },
    "tags": []
   },
   "outputs": [],
   "source": [
    "EMBEDDING_SIZE = 30\n",
    "BATCH_SIZE = 256\n",
    "EPOCH = 100\n",
    "VOCAB_SIZE = len(word2index)\n",
    "\n",
    "# initialise model weights\n",
    "model = Skipgram(VOCAB_SIZE, EMBEDDING_SIZE)\n",
    "\n",
    "if USE_CUDA:\n",
    "    model = model.cuda()\n",
    "\n",
    "# network optimiser\n",
    "optimizer = optim.Adam(model.parameters(), lr=0.01)"
   ]
  },
  {
   "cell_type": "code",
   "execution_count": 16,
   "id": "295d620b",
   "metadata": {
    "execution": {
     "iopub.execute_input": "2023-06-05T06:47:28.642806Z",
     "iopub.status.busy": "2023-06-05T06:47:28.641956Z",
     "iopub.status.idle": "2023-06-05T06:49:25.167024Z",
     "shell.execute_reply": "2023-06-05T06:49:25.166087Z"
    },
    "papermill": {
     "duration": 116.537516,
     "end_time": "2023-06-05T06:49:25.169763",
     "exception": false,
     "start_time": "2023-06-05T06:47:28.632247",
     "status": "completed"
    },
    "tags": []
   },
   "outputs": [
    {
     "name": "stdout",
     "output_type": "stream",
     "text": [
      "Epoch : 0, mean_loss : 5.93\n",
      "Epoch : 10, mean_loss : 4.35\n",
      "Epoch : 20, mean_loss : 3.89\n",
      "Epoch : 30, mean_loss : 3.82\n",
      "Epoch : 40, mean_loss : 3.79\n",
      "Epoch : 50, mean_loss : 3.78\n",
      "Epoch : 60, mean_loss : 3.77\n",
      "Epoch : 70, mean_loss : 3.76\n",
      "Epoch : 80, mean_loss : 3.76\n",
      "Epoch : 90, mean_loss : 3.75\n"
     ]
    }
   ],
   "source": [
    "losses = []\n",
    "for epoch in range(EPOCH):\n",
    "    \n",
    "    # loop through batches\n",
    "    for i, batch in enumerate(getBatch(BATCH_SIZE, train_data)):\n",
    "        \n",
    "        inputs, targets = zip(*batch)\n",
    "        \n",
    "        inputs = torch.cat(inputs) # B x 1\n",
    "        targets = torch.cat(targets) # B x 1\n",
    "        vocabs = prepare_sequence(list(vocab), word2index).expand(inputs.size(0), len(vocab))  # B x V\n",
    "        model.zero_grad()\n",
    "        \n",
    "        # returns loss function value as opposed to prediction\n",
    "        loss = model(inputs, targets, vocabs)\n",
    "        \n",
    "        loss.backward()  # we can do backward propagation \n",
    "        optimizer.step()\n",
    "   \n",
    "        losses.append(loss.data.item())\n",
    "\n",
    "    # mean loss over 10 iterations\n",
    "    if epoch % 10 == 0:\n",
    "        print(\"Epoch : %d, mean_loss : %.02f\" % (epoch,np.mean(losses)))\n",
    "        losses = []"
   ]
  },
  {
   "cell_type": "markdown",
   "id": "44fbc84e",
   "metadata": {
    "papermill": {
     "duration": 0.00906,
     "end_time": "2023-06-05T06:49:25.188393",
     "exception": false,
     "start_time": "2023-06-05T06:49:25.179333",
     "status": "completed"
    },
    "tags": []
   },
   "source": [
    "### 2.3. Test\n",
    "\n",
    "Lets check our created embeddings by finding the most similar words"
   ]
  },
  {
   "cell_type": "code",
   "execution_count": 17,
   "id": "34361581",
   "metadata": {
    "execution": {
     "iopub.execute_input": "2023-06-05T06:49:25.209231Z",
     "iopub.status.busy": "2023-06-05T06:49:25.207771Z",
     "iopub.status.idle": "2023-06-05T06:49:25.215706Z",
     "shell.execute_reply": "2023-06-05T06:49:25.214863Z"
    },
    "papermill": {
     "duration": 0.01999,
     "end_time": "2023-06-05T06:49:25.217648",
     "exception": false,
     "start_time": "2023-06-05T06:49:25.197658",
     "status": "completed"
    },
    "tags": []
   },
   "outputs": [],
   "source": [
    "# word similarity based on coside similarity \n",
    "def word_similarity(target, vocab):\n",
    "    \n",
    "    if USE_CUDA:\n",
    "        target_V = model.prediction(prepare_word(target, word2index))\n",
    "    else:\n",
    "        target_V = model.prediction(prepare_word(target, word2index))\n",
    "    similarities = []\n",
    "    for i in range(len(vocab)):\n",
    "        if vocab[i] == target: continue\n",
    "        \n",
    "        if USE_CUDA:\n",
    "            vector = model.prediction(prepare_word(list(vocab)[i], word2index))\n",
    "        else:\n",
    "            vector = model.prediction(prepare_word(list(vocab)[i], word2index))\n",
    "        cosine_sim = F.cosine_similarity(target_V, vector).data.tolist()[0] \n",
    "        similarities.append([vocab[i], cosine_sim])\n",
    "        \n",
    "    return sorted(similarities, key=lambda x: x[1], reverse=True)[:10] # sort by similarity"
   ]
  },
  {
   "cell_type": "code",
   "execution_count": 18,
   "id": "6f0ca1b9",
   "metadata": {
    "collapsed": false,
    "execution": {
     "iopub.execute_input": "2023-06-05T06:49:25.237654Z",
     "iopub.status.busy": "2023-06-05T06:49:25.237113Z",
     "iopub.status.idle": "2023-06-05T06:49:25.244738Z",
     "shell.execute_reply": "2023-06-05T06:49:25.243936Z"
    },
    "jupyter": {
     "outputs_hidden": false
    },
    "papermill": {
     "duration": 0.019742,
     "end_time": "2023-06-05T06:49:25.246587",
     "exception": false,
     "start_time": "2023-06-05T06:49:25.226845",
     "status": "completed"
    },
    "tags": []
   },
   "outputs": [
    {
     "data": {
      "text/plain": [
       "'pekee'"
      ]
     },
     "execution_count": 18,
     "metadata": {},
     "output_type": "execute_result"
    }
   ],
   "source": [
    "test = random.choice(list(vocab))\n",
    "test"
   ]
  },
  {
   "cell_type": "code",
   "execution_count": 19,
   "id": "fee3c087",
   "metadata": {
    "collapsed": false,
    "execution": {
     "iopub.execute_input": "2023-06-05T06:49:25.266492Z",
     "iopub.status.busy": "2023-06-05T06:49:25.265667Z",
     "iopub.status.idle": "2023-06-05T06:49:25.903782Z",
     "shell.execute_reply": "2023-06-05T06:49:25.902745Z"
    },
    "jupyter": {
     "outputs_hidden": false
    },
    "papermill": {
     "duration": 0.650549,
     "end_time": "2023-06-05T06:49:25.906250",
     "exception": false,
     "start_time": "2023-06-05T06:49:25.255701",
     "status": "completed"
    },
    "tags": []
   },
   "outputs": [
    {
     "data": {
      "text/plain": [
       "[['erromangoan', 0.970512866973877],\n",
       " ['fegee', 0.9619144201278687],\n",
       " ['nuee', 0.9046104550361633],\n",
       " ['regulating', 0.7587066888809204],\n",
       " ['shuddered', 0.7463520765304565],\n",
       " ['montaigne', 0.7317308187484741],\n",
       " ['moses', 0.7304397225379944],\n",
       " ['unwieldy', 0.722458004951477],\n",
       " ['senate', 0.7208307981491089],\n",
       " ['lodgings', 0.7186830043792725]]"
      ]
     },
     "execution_count": 19,
     "metadata": {},
     "output_type": "execute_result"
    }
   ],
   "source": [
    "word_similarity(test, vocab)"
   ]
  },
  {
   "cell_type": "markdown",
   "id": "00e36501",
   "metadata": {
    "papermill": {
     "duration": 0.009505,
     "end_time": "2023-06-05T06:49:25.925496",
     "exception": false,
     "start_time": "2023-06-05T06:49:25.915991",
     "status": "completed"
    },
    "tags": []
   },
   "source": [
    "## 3. Extracting Embeddings\n",
    "\n",
    "Our main goal in this fake task is to extract the word embeddings"
   ]
  },
  {
   "cell_type": "code",
   "execution_count": 20,
   "id": "70b5cb35",
   "metadata": {
    "execution": {
     "iopub.execute_input": "2023-06-05T06:49:25.945894Z",
     "iopub.status.busy": "2023-06-05T06:49:25.945357Z",
     "iopub.status.idle": "2023-06-05T06:49:25.953111Z",
     "shell.execute_reply": "2023-06-05T06:49:25.952212Z"
    },
    "papermill": {
     "duration": 0.020189,
     "end_time": "2023-06-05T06:49:25.955055",
     "exception": false,
     "start_time": "2023-06-05T06:49:25.934866",
     "status": "completed"
    },
    "tags": []
   },
   "outputs": [
    {
     "data": {
      "text/plain": [
       "array([[ 0.31058446,  0.38394982, -0.27791247, ...,  0.27956843,\n",
       "        -0.48745468,  0.3338015 ],\n",
       "       [ 1.751076  ,  0.40787688, -1.0316286 , ..., -0.34953263,\n",
       "        -0.5261852 ,  1.1141593 ],\n",
       "       [ 0.36493415, -0.6966971 , -0.7607147 , ...,  0.42251995,\n",
       "        -1.2338314 ,  0.04637641],\n",
       "       ...,\n",
       "       [ 0.70431477,  1.0412371 , -0.06481844, ...,  0.66100353,\n",
       "        -1.6041203 ,  0.45222238],\n",
       "       [ 0.78536123, -0.20106986,  0.4013988 , ...,  1.1091657 ,\n",
       "        -0.03339152,  1.5519061 ],\n",
       "       [-0.33312085,  1.0145313 ,  0.25008214, ...,  1.1328151 ,\n",
       "        -1.0193429 ,  0.7683327 ]], dtype=float32)"
      ]
     },
     "execution_count": 20,
     "metadata": {},
     "output_type": "execute_result"
    }
   ],
   "source": [
    "# working on gpu, need cpu()\n",
    "list(model.parameters())[0].cpu().detach().numpy()"
   ]
  },
  {
   "cell_type": "code",
   "execution_count": 21,
   "id": "bdc274ca",
   "metadata": {
    "execution": {
     "iopub.execute_input": "2023-06-05T06:49:25.976211Z",
     "iopub.status.busy": "2023-06-05T06:49:25.974872Z",
     "iopub.status.idle": "2023-06-05T06:49:25.983540Z",
     "shell.execute_reply": "2023-06-05T06:49:25.982573Z"
    },
    "papermill": {
     "duration": 0.020901,
     "end_time": "2023-06-05T06:49:25.985456",
     "exception": false,
     "start_time": "2023-06-05T06:49:25.964555",
     "status": "completed"
    },
    "tags": []
   },
   "outputs": [],
   "source": [
    "import pandas as pd\n",
    "\n",
    "if USE_CUDA:\n",
    "    embeds = list(model.parameters())[0].cpu().detach().numpy()\n",
    "else:\n",
    "    embeds = list(model.parameters())[0].detach().numpy()\n",
    "    \n",
    "vectors = pd.DataFrame(embeds,index=index2word.values())"
   ]
  },
  {
   "cell_type": "markdown",
   "id": "47d6a710",
   "metadata": {
    "papermill": {
     "duration": 0.00934,
     "end_time": "2023-06-05T06:49:26.004357",
     "exception": false,
     "start_time": "2023-06-05T06:49:25.995017",
     "status": "completed"
    },
    "tags": []
   },
   "source": [
    "## 4. Embedding Visualisation\n",
    "\n",
    "We can visualise our word embeddings using a dimension reduction algorithm <code>tsne</code>"
   ]
  },
  {
   "cell_type": "code",
   "execution_count": 22,
   "id": "c259e3c8",
   "metadata": {
    "execution": {
     "iopub.execute_input": "2023-06-05T06:49:26.026080Z",
     "iopub.status.busy": "2023-06-05T06:49:26.024735Z",
     "iopub.status.idle": "2023-06-05T06:49:49.072019Z",
     "shell.execute_reply": "2023-06-05T06:49:49.071090Z"
    },
    "papermill": {
     "duration": 23.060016,
     "end_time": "2023-06-05T06:49:49.074436",
     "exception": false,
     "start_time": "2023-06-05T06:49:26.014420",
     "status": "completed"
    },
    "tags": []
   },
   "outputs": [],
   "source": [
    "from sklearn.manifold import TSNE\n",
    "tsne = TSNE(n_components=2, random_state=0)\n",
    "top_words_tsne = tsne.fit_transform(vectors)"
   ]
  },
  {
   "cell_type": "code",
   "execution_count": 23,
   "id": "ceb39249",
   "metadata": {
    "execution": {
     "iopub.execute_input": "2023-06-05T06:49:49.096986Z",
     "iopub.status.busy": "2023-06-05T06:49:49.095329Z",
     "iopub.status.idle": "2023-06-05T06:49:49.567431Z",
     "shell.execute_reply": "2023-06-05T06:49:49.566330Z"
    },
    "papermill": {
     "duration": 0.485751,
     "end_time": "2023-06-05T06:49:49.570380",
     "exception": false,
     "start_time": "2023-06-05T06:49:49.084629",
     "status": "completed"
    },
    "tags": []
   },
   "outputs": [
    {
     "data": {
      "text/html": [
       "<div class=\"bk-root\">\n",
       "        <a href=\"https://bokeh.org\" target=\"_blank\" class=\"bk-logo bk-logo-small bk-logo-notebook\"></a>\n",
       "        <span id=\"1002\">Loading BokehJS ...</span>\n",
       "    </div>\n"
      ]
     },
     "metadata": {},
     "output_type": "display_data"
    },
    {
     "data": {
      "application/javascript": [
       "(function(root) {\n",
       "  function now() {\n",
       "    return new Date();\n",
       "  }\n",
       "\n",
       "  const force = true;\n",
       "\n",
       "  if (typeof root._bokeh_onload_callbacks === \"undefined\" || force === true) {\n",
       "    root._bokeh_onload_callbacks = [];\n",
       "    root._bokeh_is_loading = undefined;\n",
       "  }\n",
       "\n",
       "const JS_MIME_TYPE = 'application/javascript';\n",
       "  const HTML_MIME_TYPE = 'text/html';\n",
       "  const EXEC_MIME_TYPE = 'application/vnd.bokehjs_exec.v0+json';\n",
       "  const CLASS_NAME = 'output_bokeh rendered_html';\n",
       "\n",
       "  /**\n",
       "   * Render data to the DOM node\n",
       "   */\n",
       "  function render(props, node) {\n",
       "    const script = document.createElement(\"script\");\n",
       "    node.appendChild(script);\n",
       "  }\n",
       "\n",
       "  /**\n",
       "   * Handle when an output is cleared or removed\n",
       "   */\n",
       "  function handleClearOutput(event, handle) {\n",
       "    const cell = handle.cell;\n",
       "\n",
       "    const id = cell.output_area._bokeh_element_id;\n",
       "    const server_id = cell.output_area._bokeh_server_id;\n",
       "    // Clean up Bokeh references\n",
       "    if (id != null && id in Bokeh.index) {\n",
       "      Bokeh.index[id].model.document.clear();\n",
       "      delete Bokeh.index[id];\n",
       "    }\n",
       "\n",
       "    if (server_id !== undefined) {\n",
       "      // Clean up Bokeh references\n",
       "      const cmd_clean = \"from bokeh.io.state import curstate; print(curstate().uuid_to_server['\" + server_id + \"'].get_sessions()[0].document.roots[0]._id)\";\n",
       "      cell.notebook.kernel.execute(cmd_clean, {\n",
       "        iopub: {\n",
       "          output: function(msg) {\n",
       "            const id = msg.content.text.trim();\n",
       "            if (id in Bokeh.index) {\n",
       "              Bokeh.index[id].model.document.clear();\n",
       "              delete Bokeh.index[id];\n",
       "            }\n",
       "          }\n",
       "        }\n",
       "      });\n",
       "      // Destroy server and session\n",
       "      const cmd_destroy = \"import bokeh.io.notebook as ion; ion.destroy_server('\" + server_id + \"')\";\n",
       "      cell.notebook.kernel.execute(cmd_destroy);\n",
       "    }\n",
       "  }\n",
       "\n",
       "  /**\n",
       "   * Handle when a new output is added\n",
       "   */\n",
       "  function handleAddOutput(event, handle) {\n",
       "    const output_area = handle.output_area;\n",
       "    const output = handle.output;\n",
       "\n",
       "    // limit handleAddOutput to display_data with EXEC_MIME_TYPE content only\n",
       "    if ((output.output_type != \"display_data\") || (!Object.prototype.hasOwnProperty.call(output.data, EXEC_MIME_TYPE))) {\n",
       "      return\n",
       "    }\n",
       "\n",
       "    const toinsert = output_area.element.find(\".\" + CLASS_NAME.split(' ')[0]);\n",
       "\n",
       "    if (output.metadata[EXEC_MIME_TYPE][\"id\"] !== undefined) {\n",
       "      toinsert[toinsert.length - 1].firstChild.textContent = output.data[JS_MIME_TYPE];\n",
       "      // store reference to embed id on output_area\n",
       "      output_area._bokeh_element_id = output.metadata[EXEC_MIME_TYPE][\"id\"];\n",
       "    }\n",
       "    if (output.metadata[EXEC_MIME_TYPE][\"server_id\"] !== undefined) {\n",
       "      const bk_div = document.createElement(\"div\");\n",
       "      bk_div.innerHTML = output.data[HTML_MIME_TYPE];\n",
       "      const script_attrs = bk_div.children[0].attributes;\n",
       "      for (let i = 0; i < script_attrs.length; i++) {\n",
       "        toinsert[toinsert.length - 1].firstChild.setAttribute(script_attrs[i].name, script_attrs[i].value);\n",
       "        toinsert[toinsert.length - 1].firstChild.textContent = bk_div.children[0].textContent\n",
       "      }\n",
       "      // store reference to server id on output_area\n",
       "      output_area._bokeh_server_id = output.metadata[EXEC_MIME_TYPE][\"server_id\"];\n",
       "    }\n",
       "  }\n",
       "\n",
       "  function register_renderer(events, OutputArea) {\n",
       "\n",
       "    function append_mime(data, metadata, element) {\n",
       "      // create a DOM node to render to\n",
       "      const toinsert = this.create_output_subarea(\n",
       "        metadata,\n",
       "        CLASS_NAME,\n",
       "        EXEC_MIME_TYPE\n",
       "      );\n",
       "      this.keyboard_manager.register_events(toinsert);\n",
       "      // Render to node\n",
       "      const props = {data: data, metadata: metadata[EXEC_MIME_TYPE]};\n",
       "      render(props, toinsert[toinsert.length - 1]);\n",
       "      element.append(toinsert);\n",
       "      return toinsert\n",
       "    }\n",
       "\n",
       "    /* Handle when an output is cleared or removed */\n",
       "    events.on('clear_output.CodeCell', handleClearOutput);\n",
       "    events.on('delete.Cell', handleClearOutput);\n",
       "\n",
       "    /* Handle when a new output is added */\n",
       "    events.on('output_added.OutputArea', handleAddOutput);\n",
       "\n",
       "    /**\n",
       "     * Register the mime type and append_mime function with output_area\n",
       "     */\n",
       "    OutputArea.prototype.register_mime_type(EXEC_MIME_TYPE, append_mime, {\n",
       "      /* Is output safe? */\n",
       "      safe: true,\n",
       "      /* Index of renderer in `output_area.display_order` */\n",
       "      index: 0\n",
       "    });\n",
       "  }\n",
       "\n",
       "  // register the mime type if in Jupyter Notebook environment and previously unregistered\n",
       "  if (root.Jupyter !== undefined) {\n",
       "    const events = require('base/js/events');\n",
       "    const OutputArea = require('notebook/js/outputarea').OutputArea;\n",
       "\n",
       "    if (OutputArea.prototype.mime_types().indexOf(EXEC_MIME_TYPE) == -1) {\n",
       "      register_renderer(events, OutputArea);\n",
       "    }\n",
       "  }\n",
       "  if (typeof (root._bokeh_timeout) === \"undefined\" || force === true) {\n",
       "    root._bokeh_timeout = Date.now() + 5000;\n",
       "    root._bokeh_failed_load = false;\n",
       "  }\n",
       "\n",
       "  const NB_LOAD_WARNING = {'data': {'text/html':\n",
       "     \"<div style='background-color: #fdd'>\\n\"+\n",
       "     \"<p>\\n\"+\n",
       "     \"BokehJS does not appear to have successfully loaded. If loading BokehJS from CDN, this \\n\"+\n",
       "     \"may be due to a slow or bad network connection. Possible fixes:\\n\"+\n",
       "     \"</p>\\n\"+\n",
       "     \"<ul>\\n\"+\n",
       "     \"<li>re-rerun `output_notebook()` to attempt to load from CDN again, or</li>\\n\"+\n",
       "     \"<li>use INLINE resources instead, as so:</li>\\n\"+\n",
       "     \"</ul>\\n\"+\n",
       "     \"<code>\\n\"+\n",
       "     \"from bokeh.resources import INLINE\\n\"+\n",
       "     \"output_notebook(resources=INLINE)\\n\"+\n",
       "     \"</code>\\n\"+\n",
       "     \"</div>\"}};\n",
       "\n",
       "  function display_loaded() {\n",
       "    const el = document.getElementById(\"1002\");\n",
       "    if (el != null) {\n",
       "      el.textContent = \"BokehJS is loading...\";\n",
       "    }\n",
       "    if (root.Bokeh !== undefined) {\n",
       "      if (el != null) {\n",
       "        el.textContent = \"BokehJS \" + root.Bokeh.version + \" successfully loaded.\";\n",
       "      }\n",
       "    } else if (Date.now() < root._bokeh_timeout) {\n",
       "      setTimeout(display_loaded, 100)\n",
       "    }\n",
       "  }\n",
       "\n",
       "  function run_callbacks() {\n",
       "    try {\n",
       "      root._bokeh_onload_callbacks.forEach(function(callback) {\n",
       "        if (callback != null)\n",
       "          callback();\n",
       "      });\n",
       "    } finally {\n",
       "      delete root._bokeh_onload_callbacks\n",
       "    }\n",
       "    console.debug(\"Bokeh: all callbacks have finished\");\n",
       "  }\n",
       "\n",
       "  function load_libs(css_urls, js_urls, callback) {\n",
       "    if (css_urls == null) css_urls = [];\n",
       "    if (js_urls == null) js_urls = [];\n",
       "\n",
       "    root._bokeh_onload_callbacks.push(callback);\n",
       "    if (root._bokeh_is_loading > 0) {\n",
       "      console.debug(\"Bokeh: BokehJS is being loaded, scheduling callback at\", now());\n",
       "      return null;\n",
       "    }\n",
       "    if (js_urls == null || js_urls.length === 0) {\n",
       "      run_callbacks();\n",
       "      return null;\n",
       "    }\n",
       "    console.debug(\"Bokeh: BokehJS not loaded, scheduling load and callback at\", now());\n",
       "    root._bokeh_is_loading = css_urls.length + js_urls.length;\n",
       "\n",
       "    function on_load() {\n",
       "      root._bokeh_is_loading--;\n",
       "      if (root._bokeh_is_loading === 0) {\n",
       "        console.debug(\"Bokeh: all BokehJS libraries/stylesheets loaded\");\n",
       "        run_callbacks()\n",
       "      }\n",
       "    }\n",
       "\n",
       "    function on_error(url) {\n",
       "      console.error(\"failed to load \" + url);\n",
       "    }\n",
       "\n",
       "    for (let i = 0; i < css_urls.length; i++) {\n",
       "      const url = css_urls[i];\n",
       "      const element = document.createElement(\"link\");\n",
       "      element.onload = on_load;\n",
       "      element.onerror = on_error.bind(null, url);\n",
       "      element.rel = \"stylesheet\";\n",
       "      element.type = \"text/css\";\n",
       "      element.href = url;\n",
       "      console.debug(\"Bokeh: injecting link tag for BokehJS stylesheet: \", url);\n",
       "      document.body.appendChild(element);\n",
       "    }\n",
       "\n",
       "    for (let i = 0; i < js_urls.length; i++) {\n",
       "      const url = js_urls[i];\n",
       "      const element = document.createElement('script');\n",
       "      element.onload = on_load;\n",
       "      element.onerror = on_error.bind(null, url);\n",
       "      element.async = false;\n",
       "      element.src = url;\n",
       "      console.debug(\"Bokeh: injecting script tag for BokehJS library: \", url);\n",
       "      document.head.appendChild(element);\n",
       "    }\n",
       "  };\n",
       "\n",
       "  function inject_raw_css(css) {\n",
       "    const element = document.createElement(\"style\");\n",
       "    element.appendChild(document.createTextNode(css));\n",
       "    document.body.appendChild(element);\n",
       "  }\n",
       "\n",
       "  const js_urls = [\"https://cdn.bokeh.org/bokeh/release/bokeh-2.4.3.min.js\", \"https://cdn.bokeh.org/bokeh/release/bokeh-gl-2.4.3.min.js\", \"https://cdn.bokeh.org/bokeh/release/bokeh-widgets-2.4.3.min.js\", \"https://cdn.bokeh.org/bokeh/release/bokeh-tables-2.4.3.min.js\", \"https://cdn.bokeh.org/bokeh/release/bokeh-mathjax-2.4.3.min.js\"];\n",
       "  const css_urls = [];\n",
       "\n",
       "  const inline_js = [    function(Bokeh) {\n",
       "      Bokeh.set_log_level(\"info\");\n",
       "    },\n",
       "function(Bokeh) {\n",
       "    }\n",
       "  ];\n",
       "\n",
       "  function run_inline_js() {\n",
       "    if (root.Bokeh !== undefined || force === true) {\n",
       "          for (let i = 0; i < inline_js.length; i++) {\n",
       "      inline_js[i].call(root, root.Bokeh);\n",
       "    }\n",
       "if (force === true) {\n",
       "        display_loaded();\n",
       "      }} else if (Date.now() < root._bokeh_timeout) {\n",
       "      setTimeout(run_inline_js, 100);\n",
       "    } else if (!root._bokeh_failed_load) {\n",
       "      console.log(\"Bokeh: BokehJS failed to load within specified timeout.\");\n",
       "      root._bokeh_failed_load = true;\n",
       "    } else if (force !== true) {\n",
       "      const cell = $(document.getElementById(\"1002\")).parents('.cell').data().cell;\n",
       "      cell.output_area.append_execute_result(NB_LOAD_WARNING)\n",
       "    }\n",
       "  }\n",
       "\n",
       "  if (root._bokeh_is_loading === 0) {\n",
       "    console.debug(\"Bokeh: BokehJS loaded, going straight to plotting\");\n",
       "    run_inline_js();\n",
       "  } else {\n",
       "    load_libs(css_urls, js_urls, function() {\n",
       "      console.debug(\"Bokeh: BokehJS plotting callback run at\", now());\n",
       "      run_inline_js();\n",
       "    });\n",
       "  }\n",
       "}(window));"
      ],
      "application/vnd.bokehjs_load.v0+json": "(function(root) {\n  function now() {\n    return new Date();\n  }\n\n  const force = true;\n\n  if (typeof root._bokeh_onload_callbacks === \"undefined\" || force === true) {\n    root._bokeh_onload_callbacks = [];\n    root._bokeh_is_loading = undefined;\n  }\n\n\n  if (typeof (root._bokeh_timeout) === \"undefined\" || force === true) {\n    root._bokeh_timeout = Date.now() + 5000;\n    root._bokeh_failed_load = false;\n  }\n\n  const NB_LOAD_WARNING = {'data': {'text/html':\n     \"<div style='background-color: #fdd'>\\n\"+\n     \"<p>\\n\"+\n     \"BokehJS does not appear to have successfully loaded. If loading BokehJS from CDN, this \\n\"+\n     \"may be due to a slow or bad network connection. Possible fixes:\\n\"+\n     \"</p>\\n\"+\n     \"<ul>\\n\"+\n     \"<li>re-rerun `output_notebook()` to attempt to load from CDN again, or</li>\\n\"+\n     \"<li>use INLINE resources instead, as so:</li>\\n\"+\n     \"</ul>\\n\"+\n     \"<code>\\n\"+\n     \"from bokeh.resources import INLINE\\n\"+\n     \"output_notebook(resources=INLINE)\\n\"+\n     \"</code>\\n\"+\n     \"</div>\"}};\n\n  function display_loaded() {\n    const el = document.getElementById(\"1002\");\n    if (el != null) {\n      el.textContent = \"BokehJS is loading...\";\n    }\n    if (root.Bokeh !== undefined) {\n      if (el != null) {\n        el.textContent = \"BokehJS \" + root.Bokeh.version + \" successfully loaded.\";\n      }\n    } else if (Date.now() < root._bokeh_timeout) {\n      setTimeout(display_loaded, 100)\n    }\n  }\n\n  function run_callbacks() {\n    try {\n      root._bokeh_onload_callbacks.forEach(function(callback) {\n        if (callback != null)\n          callback();\n      });\n    } finally {\n      delete root._bokeh_onload_callbacks\n    }\n    console.debug(\"Bokeh: all callbacks have finished\");\n  }\n\n  function load_libs(css_urls, js_urls, callback) {\n    if (css_urls == null) css_urls = [];\n    if (js_urls == null) js_urls = [];\n\n    root._bokeh_onload_callbacks.push(callback);\n    if (root._bokeh_is_loading > 0) {\n      console.debug(\"Bokeh: BokehJS is being loaded, scheduling callback at\", now());\n      return null;\n    }\n    if (js_urls == null || js_urls.length === 0) {\n      run_callbacks();\n      return null;\n    }\n    console.debug(\"Bokeh: BokehJS not loaded, scheduling load and callback at\", now());\n    root._bokeh_is_loading = css_urls.length + js_urls.length;\n\n    function on_load() {\n      root._bokeh_is_loading--;\n      if (root._bokeh_is_loading === 0) {\n        console.debug(\"Bokeh: all BokehJS libraries/stylesheets loaded\");\n        run_callbacks()\n      }\n    }\n\n    function on_error(url) {\n      console.error(\"failed to load \" + url);\n    }\n\n    for (let i = 0; i < css_urls.length; i++) {\n      const url = css_urls[i];\n      const element = document.createElement(\"link\");\n      element.onload = on_load;\n      element.onerror = on_error.bind(null, url);\n      element.rel = \"stylesheet\";\n      element.type = \"text/css\";\n      element.href = url;\n      console.debug(\"Bokeh: injecting link tag for BokehJS stylesheet: \", url);\n      document.body.appendChild(element);\n    }\n\n    for (let i = 0; i < js_urls.length; i++) {\n      const url = js_urls[i];\n      const element = document.createElement('script');\n      element.onload = on_load;\n      element.onerror = on_error.bind(null, url);\n      element.async = false;\n      element.src = url;\n      console.debug(\"Bokeh: injecting script tag for BokehJS library: \", url);\n      document.head.appendChild(element);\n    }\n  };\n\n  function inject_raw_css(css) {\n    const element = document.createElement(\"style\");\n    element.appendChild(document.createTextNode(css));\n    document.body.appendChild(element);\n  }\n\n  const js_urls = [\"https://cdn.bokeh.org/bokeh/release/bokeh-2.4.3.min.js\", \"https://cdn.bokeh.org/bokeh/release/bokeh-gl-2.4.3.min.js\", \"https://cdn.bokeh.org/bokeh/release/bokeh-widgets-2.4.3.min.js\", \"https://cdn.bokeh.org/bokeh/release/bokeh-tables-2.4.3.min.js\", \"https://cdn.bokeh.org/bokeh/release/bokeh-mathjax-2.4.3.min.js\"];\n  const css_urls = [];\n\n  const inline_js = [    function(Bokeh) {\n      Bokeh.set_log_level(\"info\");\n    },\nfunction(Bokeh) {\n    }\n  ];\n\n  function run_inline_js() {\n    if (root.Bokeh !== undefined || force === true) {\n          for (let i = 0; i < inline_js.length; i++) {\n      inline_js[i].call(root, root.Bokeh);\n    }\nif (force === true) {\n        display_loaded();\n      }} else if (Date.now() < root._bokeh_timeout) {\n      setTimeout(run_inline_js, 100);\n    } else if (!root._bokeh_failed_load) {\n      console.log(\"Bokeh: BokehJS failed to load within specified timeout.\");\n      root._bokeh_failed_load = true;\n    } else if (force !== true) {\n      const cell = $(document.getElementById(\"1002\")).parents('.cell').data().cell;\n      cell.output_area.append_execute_result(NB_LOAD_WARNING)\n    }\n  }\n\n  if (root._bokeh_is_loading === 0) {\n    console.debug(\"Bokeh: BokehJS loaded, going straight to plotting\");\n    run_inline_js();\n  } else {\n    load_libs(css_urls, js_urls, function() {\n      console.debug(\"Bokeh: BokehJS plotting callback run at\", now());\n      run_inline_js();\n    });\n  }\n}(window));"
     },
     "metadata": {},
     "output_type": "display_data"
    },
    {
     "data": {
      "text/html": [
       "\n",
       "  <div class=\"bk-root\" id=\"861bfd1d-2e4b-4456-9851-ee872792a9ce\" data-root-id=\"1003\"></div>\n"
      ]
     },
     "metadata": {},
     "output_type": "display_data"
    },
    {
     "data": {
      "application/javascript": [
       "(function(root) {\n",
       "  function embed_document(root) {\n",
       "  const docs_json = {\"36d1b5c7-98ea-4174-8e1e-f5f542cc40c0\":{\"defs\":[],\"roots\":{\"references\":[{\"attributes\":{\"below\":[{\"id\":\"1014\"}],\"center\":[{\"id\":\"1017\"},{\"id\":\"1021\"},{\"id\":\"1041\"}],\"left\":[{\"id\":\"1018\"}],\"renderers\":[{\"id\":\"1039\"}],\"title\":{\"id\":\"1004\"},\"toolbar\":{\"id\":\"1028\"},\"toolbar_location\":\"above\",\"x_range\":{\"id\":\"1006\"},\"x_scale\":{\"id\":\"1010\"},\"y_range\":{\"id\":\"1008\"},\"y_scale\":{\"id\":\"1012\"}},\"id\":\"1003\",\"subtype\":\"Figure\",\"type\":\"Plot\"},{\"attributes\":{\"coordinates\":null,\"group\":null,\"text\":\"word2vec T-SNE embedding representation\"},\"id\":\"1004\",\"type\":\"Title\"},{\"attributes\":{},\"id\":\"1010\",\"type\":\"LinearScale\"},{\"attributes\":{\"coordinates\":null,\"formatter\":{\"id\":\"1048\"},\"group\":null,\"major_label_policy\":{\"id\":\"1049\"},\"ticker\":{\"id\":\"1015\"}},\"id\":\"1014\",\"type\":\"LinearAxis\"},{\"attributes\":{\"axis\":{\"id\":\"1018\"},\"coordinates\":null,\"dimension\":1,\"group\":null,\"ticker\":null},\"id\":\"1021\",\"type\":\"Grid\"},{\"attributes\":{\"axis\":{\"id\":\"1014\"},\"coordinates\":null,\"group\":null,\"ticker\":null},\"id\":\"1017\",\"type\":\"Grid\"},{\"attributes\":{},\"id\":\"1008\",\"type\":\"DataRange1d\"},{\"attributes\":{},\"id\":\"1050\",\"type\":\"UnionRenderers\"},{\"attributes\":{\"fill_color\":{\"value\":\"#1f77b4\"},\"line_color\":{\"value\":\"#1f77b4\"},\"size\":{\"value\":8},\"x\":{\"field\":\"x1\"},\"y\":{\"field\":\"x2\"}},\"id\":\"1036\",\"type\":\"Scatter\"},{\"attributes\":{\"fill_alpha\":{\"value\":0.1},\"fill_color\":{\"value\":\"#1f77b4\"},\"hatch_alpha\":{\"value\":0.1},\"line_alpha\":{\"value\":0.1},\"line_color\":{\"value\":\"#1f77b4\"},\"size\":{\"value\":8},\"x\":{\"field\":\"x1\"},\"y\":{\"field\":\"x2\"}},\"id\":\"1037\",\"type\":\"Scatter\"},{\"attributes\":{},\"id\":\"1015\",\"type\":\"BasicTicker\"},{\"attributes\":{},\"id\":\"1022\",\"type\":\"PanTool\"},{\"attributes\":{\"coordinates\":null,\"group\":null,\"source\":{\"id\":\"1034\"},\"text\":{\"field\":\"names\"},\"text_align\":{\"value\":\"center\"},\"text_color\":{\"value\":\"#555555\"},\"text_font_size\":{\"value\":\"8pt\"},\"x\":{\"field\":\"x1\"},\"y\":{\"field\":\"x2\"},\"y_offset\":{\"value\":6}},\"id\":\"1041\",\"type\":\"LabelSet\"},{\"attributes\":{},\"id\":\"1006\",\"type\":\"DataRange1d\"},{\"attributes\":{},\"id\":\"1019\",\"type\":\"BasicTicker\"},{\"attributes\":{\"source\":{\"id\":\"1034\"}},\"id\":\"1040\",\"type\":\"CDSView\"},{\"attributes\":{\"coordinates\":null,\"data_source\":{\"id\":\"1034\"},\"glyph\":{\"id\":\"1036\"},\"group\":null,\"hover_glyph\":null,\"muted_glyph\":{\"id\":\"1038\"},\"nonselection_glyph\":{\"id\":\"1037\"},\"view\":{\"id\":\"1040\"}},\"id\":\"1039\",\"type\":\"GlyphRenderer\"},{\"attributes\":{},\"id\":\"1023\",\"type\":\"WheelZoomTool\"},{\"attributes\":{\"overlay\":{\"id\":\"1027\"}},\"id\":\"1024\",\"type\":\"BoxZoomTool\"},{\"attributes\":{},\"id\":\"1025\",\"type\":\"ResetTool\"},{\"attributes\":{},\"id\":\"1049\",\"type\":\"AllLabels\"},{\"attributes\":{},\"id\":\"1026\",\"type\":\"SaveTool\"},{\"attributes\":{\"bottom_units\":\"screen\",\"coordinates\":null,\"fill_alpha\":0.5,\"fill_color\":\"lightgrey\",\"group\":null,\"left_units\":\"screen\",\"level\":\"overlay\",\"line_alpha\":1.0,\"line_color\":\"black\",\"line_dash\":[4,4],\"line_width\":2,\"right_units\":\"screen\",\"syncable\":false,\"top_units\":\"screen\"},\"id\":\"1027\",\"type\":\"BoxAnnotation\"},{\"attributes\":{},\"id\":\"1046\",\"type\":\"AllLabels\"},{\"attributes\":{\"fill_alpha\":{\"value\":0.2},\"fill_color\":{\"value\":\"#1f77b4\"},\"hatch_alpha\":{\"value\":0.2},\"line_alpha\":{\"value\":0.2},\"line_color\":{\"value\":\"#1f77b4\"},\"size\":{\"value\":8},\"x\":{\"field\":\"x1\"},\"y\":{\"field\":\"x2\"}},\"id\":\"1038\",\"type\":\"Scatter\"},{\"attributes\":{\"data\":{\"names\":[\"<UNK>\",\"orders\",\"an\",\"report\",\"prevalent\",\"pilgrim\",\"enemies\",\"curbstone\",\"possibly\",\"act\",\"van\",\"elsewhere\",\"rockaway\",\"precisely\",\"winds\",\"broad\",\"death\",\"justly\",\"weight\",\"deformed\",\"managers\",\"leaves\",\"fishermen\",\"sense\",\"am\",\"moment\",\"decks\",\"parallel\",\"tom\",\"barbed\",\"snaps\",\"jump\",\"rude\",\"tribulations\",\"portion\",\"ishmael\",\"shilling\",\"spray\",\"world\",\"besides\",\"boldest\",\"ungraspable\",\"phospher\",\"way\",\"interesting\",\"1671\",\"middle\",\"mower\",\"oriental\",\"corkscrew\",\"swiftness\",\"manage\",\"rub\",\"lies\",\"disposition\",\"displays\",\"porch\",\"outs\",\"cape\",\"bring\",\"moral\",\"ignoring\",\"mischievous\",\"shipwreck\",\"interlude\",\"high\",\"shady\",\"harvesting\",\"pillow\",\"cheeriest\",\"baleine\",\"crosslights\",\"goblets\",\"pliny\",\"jaws\",\"vault\",\"horror\",\"root\",\"dick\",\"doom\",\"fear\",\"circumnavigation\",\"outside\",\"unless\",\"hermit\",\"everybody\",\"incredible\",\"corlears\",\"peaceful\",\"thomas\",\"gills\",\"1652\",\"den\",\"horn\",\"commonalty\",\"artificial\",\"moonlight\",\"fare\",\"fife\",\"thrown\",\"sibbald\",\"henry\",\"misty\",\"picked\",\"romantic\",\"cursed\",\"lins\",\"civitas\",\"hypos\",\"wondered\",\"elbe\",\"after\",\"nantuckois\",\"1821\",\"moluccas\",\"numerous\",\"shadows\",\"trouble\",\"newspaper\",\"gable\",\"valley\",\"asia\",\"persevering\",\"central\",\"set\",\"melville\",\"crannies\",\"swain\",\"dryden\",\"fine\",\"piping\",\"hobbes\",\"glass\",\"boys\",\"delusion\",\"sights\",\"thou\",\"unwieldy\",\"dreadful\",\"speak\",\"yon\",\"state\",\"needles\",\"black\",\"judgmatically\",\"table\",\"never\",\"abundant\",\"species\",\"entering\",\"find\",\"lodge\",\"burrower\",\"meanwhile\",\"ignorance\",\"fuego\",\"touches\",\"moses\",\"informed\",\"shores\",\"banks\",\"gale\",\"northward\",\"inferred\",\"castle\",\"prevent\",\"cherish\",\"inlanders\",\"spiles\",\"ice\",\"!\",\"phil\",\"insect\",\"dangerous\",\"underneath\",\"any\",\"silly\",\"barques\",\"cockpits\",\"shone\",\"sickle\",\"young\",\"endeavor\",\"comparison\",\"rest\",\"muttered\",\"tho\",\"saco\",\"reaching\",\"relate\",\"beating\",\"u\",\"home\",\"bowes\",\"said\",\"itself\",\"tis\",\"rosy\",\"boy\",\"ay\",\"honour\",\"1851\",\"sixty\",\"bit\",\"mouth\",\"business\",\"supplied\",\"divers\",\"therefore\",\"seems\",\"gnashing\",\"utterly\",\"pacing\",\"coral\",\"easy\",\"chase\",\"possible\",\"contemptible\",\"mortality\",\"shirt\",\"millions\",\"\\\"--\",\"kept\",\"particularly\",\"without\",\"portentous\",\"slain\",\"no\",\"bacon\",\"reefs\",\"satisfaction\",\"balaene\",\"terms\",\"random\",\"twelve\",\"lines\",\"essex\",\"arrive\",\"parmacetti\",\"survivors\",\"respectfully\",\"puzzled\",\"etymology\",\"boundless\",\"every\",\"matter\",\"1\",\"mown\",\"year\",\"40\",\"cruise\",\"afterwards\",\"instinct\",\"clews\",\"court\",\"lath\",\"steel\",\"proceed\",\"ominous\",\"invisible\",\"smoky\",\"fireplaces\",\"cuvier\",\"io\",\"pythagorean\",\"thence\",\"genteel\",\"sitting\",\"ere\",\"cannibal\",\"\\\"'\",\"arches\",\"church\",\"downwards\",\"port\",\"white\",\"adventures\",\"rags\",\"mountains\",\"gets\",\"formed\",\"choked\",\"them\",\"perpendicular\",\"same\",\"works\",\"performing\",\"nearly\",\"manner\",\"forlorn\",\"wainscots\",\"expanse\",\"wake\",\"halting\",\"weltering\",\"propelled\",\"spitzbergen\",\"coat\",\"missionary\",\"charles\",\"ocean\",\"progress\",\"howling\",\"needed\",\"minister\",\"horrid\",\"guarding\",\"dan\",\"broiled\",\"do\",\"things\",\"telling\",\"spermacetti\",\"striving\",\"smell\",\"yes\",\"storm\",\"they\",\"mystic\",\"desert\",\"sally\",\"orion\",\"india\",\"points\",\"still\",\"infliction\",\"purpose\",\"turning\",\"unite\",\"then\",\"knew\",\"impaling\",\"mild\",\"population\",\"enable\",\"straight\",\"reason\",\"flail\",\"known\",\"rushes\",\"deep\",\"judging\",\"farces\",\"fairly\",\"primer\",\"good\",\"greenland\",\"sleeps\",\"carries\",\"furious\",\"roundness\",\"described\",\"scrape\",\"--(\",\"visible\",\"higgledy\",\"opening\",\"pay\",\"wretched\",\"enter\",\"police\",\"was\",\"patient\",\"painstaking\",\"naturalist\",\"comstock\",\"england\",\"altogether\",\"obey\",\"belongest\",\"could\",\"arched\",\"bringing\",\"interest\",\"from\",\".)\",\"deliberately\",\"degree\",\"vast\",\"reasonest\",\"schouten\",\"tail\",\"voyage\",\"methodically\",\"sentinels\",\"behind\",\"visited\",\"deserted\",\"rare\",\"seneca\",\"vessels\",\"breathes\",\"failed\",\"reminding\",\"trucks\",\"foul\",\"distance\",\"simple\",\"excited\",\"too\",\"keen\",\"glitters\",\"vibration\",\"frosty\",\"cartloads\",\"palsied\",\"dust\",\"parts\",\"purse\",\"land\",\"attempt\",\"venture\",\"gods\",\"saws\",\"quitting\",\"peter\",\"inward\",\"grasshopper\",\"presented\",\"noise\",\"drizzly\",\"spring\",\"pecked\",\"dear\",\"dismantled\",\"mazy\",\"demanded\",\"infallibly\",\"american\",\"gradually\",\"scene\",\"arm\",\"bridge\",\"dusting\",\"grove\",\"annus\",\"observest\",\"monument\",\"nick\",\"deliver\",\"history\",\"velocity\",\"aggregated\",\"called\",\"nothing\",\"cooled\",\"paean\",\"tophet\",\"mr\",\"t\",\"fore\",\"alfred\",\"twice\",\"pistol\",\"wooden\",\"weary\",\"she\",\"morals\",\"ashore\",\"returned\",\"vain\",\"rag\",\"javan\",\"tomb\",\"faint\",\"hugest\",\"funeral\",\"penalties\",\"o\",\"inquiry\",\"woodlands\",\"jove\",\"suspect\",\"tyerman\",\"knee\",\"greek\",\"afternoon\",\"general\",\"left\",\"lights\",\"seven\",\"blades\",\"copy\",\"creation\",\"be\",\"employs\",\"hooked\",\"weeping\",\"including\",\"immediately\",\"e\",\"whether\",\"about\",\"liver\",\"imported\",\"fellow\",\"loud\",\"doubt\",\"hearing\",\"opportunities\",\"only\",\"toils\",\"conscious\",\"generations\",\"based\",\"papers\",\"raising\",\"wonderful\",\"appears\",\"bed\",\"tree\",\"wood\",\"swam\",\"afraid\",\"before\",\"]\",\"angel\",\"life\",\"go\",\"aloft\",\"spanish\",\"trip\",\"landscape\",\"falconer\",\"ian\",\"bluntly\",\"killer\",\"thump\",\"silent\",\"indignity\",\"gazed\",\"tyre\",\"such\",\"entertainment\",\"diligent\",\"almost\",\"sought\",\"returne\",\"anything\",\"isaiah\",\"upright\",\"oath\",\"appeared\",\"fancy\",\"quarrelsome\",\"night\",\"toasting\",\"nailed\",\"tragedies\",\"london\",\"seamen\",\"rarities\",\"programme\",\"scanning\",\"lowly\",\"fashioned\",\"orchard\",\"grim\",\"knows\",\"because\",\"lint\",\"coach\",\"told\",\"vessel\",\"overwhelming\",\"chattering\",\"pier\",\"oft\",\"harpooneer\",\"pray\",\"daniel\",\"afford\",\"devil\",\"president\",\"fuzzing\",\"pipes\",\"some\",\"terrify\",\"wrapper\",\"pointing\",\"prophet\",\"frederick\",\"icebound\",\"observed\",\"choice\",\"beast\",\"coll\",\"slay\",\"reminded\",\"fierceness\",\")\",\"revenue\",\"benches\",\"deeper\",\"little\",\"best\",\"sleep\",\"started\",\"crossed\",\"another\",\"bold\",\"faintly\",\"hussey\",\"connected\",\"replied\",\"flies\",\"assault\",\"gabriel\",\"raphael\",\"athirst\",\"universe\",\"decanters\",\"abandon\",\"whom\",\"temperance\",\";--'\",\"cetology\",\"established\",\"tormenting\",\"adventurous\",\"long\",\"famous\",\"breakwater\",\"lads\",\"observing\",\"undeliverable\",\"tenth\",\"pyramids\",\"persons\",\"sperma\",\"counters\",\"employ\",\"enough\",\"giant\",\"representing\",\"path\",\"charge\",\"eagerly\",\"supposed\",\"officer\",\"ducat\",\"french\",\"entertaining\",\"packed\",\"taking\",\"strange\",\"nine\",\"meadow\",\"run\",\"blew\",\"inns\",\"miles\",\"please\",\"swinging\",\"suppose\",\"distant\",\"rays\",\"rope\",\"passengers\",\"stone\",\"whoel\",\"hook\",\"floating\",\"unerring\",\"virtue\",\"take\",\"battery\",\"thirteen\",\"try\",\"amounted\",\"heavens\",\"hundred\",\"possess\",\"juniper\",\"candidates\",\"rebounds\",\"yea\",\"masses\",\"berlin\",\"insular\",\"entirely\",\"poison\",\"whenever\",\"expanded\",\"abundance\",\"butt\",\"metaphysical\",\"senate\",\"wave\",\"sublimity\",\"followed\",\"fire\",\":\",\"performances\",\"finished\",\"comedies\",\"sides\",\"clean\",\"sight\",\"...\",\"particles\",\"substitute\",\"sporting\",\"deliberate\",\"mysterious\",\"meditation\",\"frequently\",\"elizabeth\",\"squitchy\",\"smoke\",\"dive\",\"sport\",\"strong\",\"--\\\"\",\"psalms\",\"pedestrians\",\"served\",\"shepherd\",\"point\",\"enormous\",\"pine\",\"fail\",\"teach\",\"election\",\"agreed\",\"heath\",\"alcoves\",\"circumstances\",\"whirlpooles\",\"observers\",\"rivers\",\"sore\",\"everything\",\"place\",\"tossed\",\"this\",\"abominate\",\"perpendicularly\",\"subject\",\"serves\",\"n\",\"avenues\",\"swift\",\"circumambulate\",\"dimmed\",\"preserved\",\"myself\",\"friendly\",\"canoes\",\"wailing\",\"miriam\",\"he\",\"falling\",\"language\",\"feelings\",\"ash\",\"iceberg\",\"downtown\",\"gathered\",\"paine\",\"late\",\"seas\",\"sign\",\"who\",\"enrolled\",\"alas\",\"usher\",\"shoals\",\"davenant\",\"paul\",\"oceans\",\"forbidden\",\"fill\",\"turned\",\"chosen\",\"worse\",\"asiatics\",\"waste\",\"sperm\",\"attending\",\"ranged\",\"lazarus\",\"fervent\",\"story\",\"approach\",\"secure\",\"cato\",\"scarcely\",\"cataract\",\"earnestly\",\"?\",\"united\",\"heard\",\"saturday\",\"might\",\"enchanting\",\"breath\",\"each\",\"trap\",\"bear\",\"sallow\",\"retaking\",\"commentator\",\"ago\",\"wheel\",\"hyperborean\",\"absent\",\"carpet\",\"north\",\"text\",\"line\",\"own\",\"hawthorne\",\"brother\",\"negro\",\"wall\",\"whaleman\",\"mirabilis\",\"transition\",\"breezes\",\"cottage\",\"slip\",\"think\",\"resulting\",\"appearance\",\"wisdom\",\"attacks\",\"salt\",\"rape\",\"resembling\",\"richardson\",\"stuffed\",\"ork\",\"stands\",\"catched\",\"abode\",\"recall\",\"richard\",\"monied\",\"philosophical\",\"contested\",\"seated\",\"setting\",\"time\",\"1690\",\"mere\",\"primal\",\"six\",\"shine\",\"till\",\"island\",\"so\",\"systematic\",\"magnetic\",\"carry\",\"inevitable\",\"paced\",\"green\",\"susan\",\"give\",\"jolly\",\"maine\",\"directly\",\"pale\",\"meet\",\"czar\",\"part\",\"side\",\"hoops\",\"scoresby\",\"reciprocal\",\"gazette\",\"idea\",\"words\",\"mildly\",\"theology\",\"blackness\",\"promontory\",\"bloody\",\"while\",\"calm\",\"africa\",\"destined\",\"possessing\",\"difference\",\"regular\",\"lakes\",\"pirates\",\"patched\",\"self\",\"rears\",\"royal\",\"foot\",\"peopling\",\"del\",\"cowper\",\"kind\",\"thought\",\"scales\",\"wales\",\"withdrawn\",\"narcissus\",\"buttered\",\"thieves\",\"itch\",\"hampton\",\"creaking\",\"horse\",\"monster\",\"yards\",\"several\",\"others\",\"testament\",\"out\",\"object\",\"universal\",\"constant\",\"us\",\"view\",\"experiment\",\"preble\",\"lucian\",\"laying\",\"shetland\",\"quarter\",\"earthly\",\"piercing\",\"caution\",\"loves\",\"michael\",\"skrimshander\",\"hang\",\"other\",\"struck\",\"sharp\",\"grapnels\",\"frozen\",\"measure\",\"agonies\",\"broiling\",\"til\",\"names\",\"put\",\"unbiased\",\"activity\",\"glare\",\"clubs\",\"stoics\",\"shrouds\",\"sabbath\",\"chaos\",\"deal\",\"going\",\"times\",\"send\",\"whitehall\",\"persians\",\"chewing\",\"travel\",\"aboriginal\",\"midst\",\"heathenish\",\"reverentially\",\"violate\",\"coffee\",\"sit\",\"penny\",\"curiosity\",\"possessed\",\"hist\",\"degrees\",\"deceptive\",\"globe\",\"tied\",\"bottom\",\"raimond\",\"blocks\",\"pavement\",\"walw\",\"together\",\"possession\",\"room\",\"domes\",\"mansoul\",\"backing\",\"arrived\",\"building\",\"happen\",\"hackluyt\",\"certain\",\"throw\",\"alleys\",\"grammars\",\"copestone\",\"we\",\"joy\",\"ruin\",\"harpoons\",\"first\",\"these\",\"tumblers\",\"eyes\",\"flasks\",\"least\",\"bowsprit\",\"everywhere\",\"beams\",\"leaving\",\"master\",\"bird\",\"respect\",\"pulpit\",\"extracted\",\"fowl\",\"corn\",\"duskier\",\"come\",\"occurred\",\"largest\",\"mind\",\"debell\",\"swallowed\",\"drinks\",\"endless\",\"vide\",\"swimming\",\"remotest\",\"nations\",\"sadness\",\"hands\",\"street\",\"where\",\"bake\",\"wherever\",\"lungs\",\"family\",\"poverty\",\"snow\",\"must\",\"posted\",\"requires\",\"unaccountable\",\"sand\",\"opinions\",\"villanous\",\"will\",\"surrounds\",\"bruise\",\"entailed\",\"bethink\",\"onset\",\"exercise\",\"sail\",\"sturgeon\",\"professor\",\"chips\",\"erection\",\"patagonian\",\"dubious\",\"springs\",\"unimaginable\",\"providence\",\"exceeding\",\"window\",\"grasp\",\"colour\",\"hooded\",\"crowds\",\"boiling\",\"triumph\",\"quid\",\"mass\",\"mote\",\"vicinity\",\"wholesome\",\"ponderings\",\"combat\",\"jav\",\"commercial\",\"stepping\",\"single\",\"judgment\",\"bill\",\"yonder\",\"disappointed\",\"ross\",\"fifty\",\"grow\",\"ruins\",\"cases\",\"allusions\",\"address\",\"rushed\",\"schoolmaster\",\"peer\",\"name\",\"ribs\",\"cetus\",\"surprising\",\"already\",\"transactions\",\"understanding\",\"old\",\"desks\",\"conversations\",\"pea\",\"flood\",\"rows\",\"grub\",\"whales\",\"everlasting\",\"drawn\",\"fulller\",\"oilpainting\",\"departed\",\"glancing\",\"samuel\",\"previous\",\"er\",\"discoverer\",\"hardicanutes\",\"viewed\",\"edge\",\"round\",\"rolled\",\"meant\",\"paying\",\"sebond\",\"instincts\",\"silver\",\"arpens\",\"brain\",\"breedeth\",\"bodies\",\"\\\"...\",\"four\",\"would\",\"roofs\",\"pekee\",\"close\",\"november\",\"shall\",\"stand\",\"marvels\",\"poets\",\"driving\",\"elbowed\",\"commonwealth\",\"tribe\",\"house\",\"gleamed\",\"atlantic\",\"remorseless\",\"raise\",\"browne\",\"west\",\"wine\",\"fountain\",\"thee\",\"1778\",\"impossible\",\"maketh\",\"children\",\"helped\",\"tatters\",\"boat\",\"may\",\"fly\",\"h\",\"erromangoan\",\"day\",\"play\",\"my\",\"china\",\"peculiar\",\"harpooneers\",\"!'\",\"cowley\",\"fangs\",\"perisheth\",\"sunrise\",\"stumble\",\"magnificent\",\"but\",\"especially\",\"learning\",\"veritable\",\"how\",\"refugees\",\"flounders\",\"sighs\",\"niagara\",\"monstrous\",\"dread\",\"instant\",\"wind\",\"assure\",\"sovereignest\",\"?--\",\"respectable\",\"washed\",\"mortal\",\"conceal\",\"gateways\",\"invest\",\"insomuch\",\"earth\",\"earnest\",\"draws\",\"johnson\",\"sadly\",\"empty\",\"quietest\",\"stretched\",\"coenties\",\"threatening\",\"meridians\",\"breast\",\"suddenly\",\"order\",\"doubtless\",\"pacific\",\"plumb\",\"ha\",\"southern\",\"branches\",\"being\",\"around\",\"york\",\"retires\",\"hamlet\",\"whatsoever\",\"flinty\",\"thro\",\"coming\",\":--\",\"abominable\",\"turn\",\"ain\",\"conservatories\",\"decoction\",\"nantucket\",\"voracious\",\"look\",\"dictionary\",\"specimens\",\"wish\",\"manhatto\",\"yeast\",\"gulp\",\"smelt\",\"supper\",\"perceive\",\"surveillance\",\"dives\",\"job\",\"more\",\"once\",\"idolatrous\",\"winter\",\"fierce\",\"2\",\"cajoling\",\"tallest\",\"redder\",\"horner\",\"charm\",\"letter\",\"homeward\",\"june\",\"1772\",\"stricken\",\"men\",\"deepest\",\"imbedded\",\"skill\",\"fatter\",\"yielded\",\"ancient\",\"poor\",\"crew\",\"wild\",\"following\",\"came\",\"wonder\",\"care\",\"plutarch\",\"unpublished\",\"magnitude\",\"built\",\"unwarranted\",\"blanket\",\"human\",\"number\",\"solander\",\"splintered\",\"houses\",\"blubbering\",\"carted\",\"security\",\"broom\",\"pocket\",\"wharton\",\"pursued\",\"though\",\"boots\",\"spot\",\"thick\",\"monopolising\",\"expensive\",\"examining\",\"leagues\",\"seem\",\"picture\",\"when\",\"frosted\",\"were\",\"latin\",\"sure\",\"should\",\"ketos\",\"avoid\",\"v\",\"thousands\",\"smith\",\"bulwarks\",\"ended\",\"which\",\"since\",\"wade\",\"segment\",\",\\\"\",\"500\",\"hell\",\"rather\",\"pleasant\",\"quietly\",\"brief\",\"are\",\"sentence\",\"privilege\",\"needs\",\"belly\",\"verbal\",\"hoary\",\"involuntarily\",\"hobomack\",\"troops\",\"threatens\",\"south\",\"study\",\"watery\",\"express\",\"small\",\"storied\",\"fish\",\"extended\",\"whose\",\"overlapping\",\"pan\",\"red\",\"engaged\",\"coffin\",\"rabelais\",\"doors\",\"living\",\"[\",\"inducements\",\"harpoon\",\"harris\",\"landsmen\",\"extant\",\"sized\",\"tapered\",\"attained\",\"peep\",\"sometimes\",\"larger\",\"presidency\",\"two\",\"industry\",\"macy\",\"oil\",\"mutineer\",\"lodges\",\"note\",\"consign\",\"foam\",\"acres\",\"america\",\"terra\",\"million\",\"feel\",\"truly\",\"ark\",\"your\",\"fifteen\",\"laid\",\"journal\",\"nigh\",\"bewitched\",\"pitferren\",\"hacking\",\"froze\",\"hvalt\",\"short\",\"prey\",\"leaning\",\"above\",\"frost\",\"withered\",\"appearing\",\"interior\",\"mightier\",\"wears\",\"gazers\",\"cook\",\"valuable\",\"grin\",\"tufted\",\"pent\",\"perils\",\"social\",\"flags\",\"queer\",\"strafford\",\"mad\",\"3\",\"have\",\"jaw\",\"tow\",\"nescio\",\"forecastle\",\"killed\",\"further\",\"genesis\",\"northern\",\"hold\",\"by\",\"gulf\",\"shot\",\"nervous\",\"tell\",\"totally\",\"cheapest\",\"ceti\",\"sashless\",\"lie\",\"faces\",\"clinched\",\"monday\",\"confounded\",\"however\",\"indefinite\",\"whatever\",\"cheery\",\"belonged\",\"artful\",\"roasted\",\"invitingly\",\"1729\",\"swim\",\"finny\",\"uncomfortable\",\"what\",\"statements\",\"sway\",\"repeated\",\"nameless\",\"trans\",\"rigging\",\"low\",\"cracked\",\"dissection\",\"commodore\",\"dreamy\",\"lord\",\"reference\",\"availle\",\"always\",\"lanes\",\"coasts\",\"christian\",\"school\",\"thinks\",\"last\",\"all\",\"open\",\"art\",\"blackstone\",\"europe\",\"orphans\",\"wrinkled\",\"cheever\",\"somehow\",\"disguises\",\"kill\",\"pot\",\"worker\",\"attended\",\"voyager\",\"seaward\",\"lengthwise\",\"perhaps\",\"hie\",\"seemed\",\"fisherman\",\"spurs\",\"mystical\",\"hear\",\"separate\",\"full\",\"visit\",\"battle\",\"confess\",\"boats\",\"preface\",\"nights\",\"goggling\",\"indian\",\"appliance\",\"ballena\",\"os\",\"one\",\"region\",\"sumatra\",\"says\",\"mark\",\"duly\",\"receiving\",\"shoulders\",\"our\",\"mistake\",\"chimney\",\"floundered\",\"1840\",\"front\",\"herbert\",\"pool\",\"glasses\",\"seemingly\",\"oh\",\"robust\",\"answer\",\"d\",\"animal\",\"ships\",\"habits\",\"lead\",\"bound\",\"probably\",\"series\",\"rear\",\"key\",\"gather\",\"receives\",\"pasture\",\"deity\",\"glittering\",\"attract\",\"sylphs\",\"knocking\",\"flourish\",\"circulation\",\"wantonness\",\"country\",\"cunningly\",\"inches\",\"themselves\",\"assaulted\",\"baleen\",\"tears\",\"hard\",\"hit\",\"arch\",\"weapons\",\"plug\",\"laden\",\"equator\",\"neglected\",\"shakes\",\"instance\",\"therein\",\"heaven\",\"packet\",\"floated\",\"mcculloch\",\"angle\",\"sweeping\",\"himself\",\"shouldering\",\"dotings\",\"dilapidated\",\"1846\",\"loitering\",\"ears\",\"hosmannus\",\"feet\",\",--\",\"surf\",\"influences\",\"tinkling\",\"call\",\"ulloa\",\"national\",\"seldom\",\"flung\",\"islands\",\"spiral\",\"cold\",\"stroke\",\"suffice\",\"incontinently\",\"deck\",\"climb\",\"stood\",\"contrary\",\"roused\",\"door\",\"induced\",\"plight\",\"free\",\"whaling\",\"fowls\",\"represents\",\"between\",\"manhattoes\",\"unpleasant\",\"attends\",\"work\",\"(\",\"shelves\",\"embark\",\"entry\",\"trod\",\"tales\",\"bottles\",\"proved\",\"whereas\",\"tennessee\",\"ambitious\",\"forth\",\"summer\",\"upper\",\"putting\",\"shaking\",\"mouthed\",\"thirty\",\"edmund\",\"took\",\"shoal\",\"!\\\"\",\"tongue\",\"artist\",\"stove\",\"capture\",\"witnessing\",\"public\",\"bleak\",\"repair\",\"marvellous\",\"pit\",\"fields\",\"say\",\"quick\",\"tall\",\"gallons\",\"phantom\",\"burnt\",\"bustles\",\"main\",\"rensselaers\",\"bred\",\"swims\",\"society\",\"streets\",\"against\",\"handfuls\",\"docks\",\"archangel\",\"led\",\"colnett\",\"gateway\",\"breaches\",\"wharves\",\"dark\",\"aged\",\"nooks\",\"dung\",\"whip\",\"extending\",\"english\",\"sounded\",\"crews\",\"dutch\",\"sailors\",\"motion\",\"serpent\",\"burke\",\"hags\",\"attacked\",\"picking\",\"limber\",\"people\",\"pure\",\"wanting\",\"paradise\",\".--\",\"dusty\",\"anglo\",\"better\",\"bedford\",\"king\",\"voyages\",\"fat\",\"largely\",\"man\",\"active\",\"?\\\"\",\"sleepy\",\"lookest\",\"entered\",\"property\",\"much\",\"huge\",\"kinross\",\"named\",\"sherry\",\"passenger\",\"sung\",\"resemblance\",\"pity\",\"down\",\"distinction\",\"their\",\"waterward\",\"recollect\",\"slowly\",\"up\",\"thar\",\"caught\",\"condemned\",\"partly\",\"proceeded\",\"herman\",\"opposite\",\"vaticans\",\"gay\",\"december\",\"uses\",\"holy\",\"healthy\",\"noble\",\"chace\",\"hwal\",\"climes\",\"buy\",\"roaring\",\"related\",\"lime\",\"trials\",\"cooper\",\"hunks\",\"destruction\",\"value\",\"stream\",\"risk\",\"towing\",\"spouting\",\"conceits\",\"ashes\",\"length\",\"foundered\",\"array\",\"beech\",\"dismal\",\"cobblestones\",\"taken\",\"days\",\"bones\",\"dusky\",\"fixed\",\"cob\",\"moby\",\"mention\",\"word\",\"account\",\"rolling\",\"worm\",\"even\",\"regarded\",\").\",\"swords\",\"sprat\",\"strike\",\"ten\",\"gates\",\"been\",\"sojourning\",\"wedded\",\"damn\",\"gondibert\",\"carthage\",\"sacred\",\"yourself\",\"stranded\",\"spar\",\"spears\",\"armed\",\"particular\",\"loomings\",\"spleen\",\"defaced\",\"loved\",\"shadiest\",\"exactly\",\"under\",\"warm\",\"content\",\"quite\",\"nevertheless\",\"leaping\",\"final\",\"soon\",\"gigantic\",\"candle\",\"librarian\",\"melted\",\"there\",\"driven\",\"comrades\",\"paint\",\"crooked\",\"paley\",\"raal\",\"something\",\"brought\",\"along\",\"shelf\",\"mid\",\"pushed\",\"infuriated\",\"mine\",\"finally\",\"prairies\",\"hats\",\"off\",\"generally\",\"conclusion\",\"travelled\",\"spouts\",\"else\",\"ivory\",\"swallow\",\"introduced\",\"purchas\",\"watch\",\"wal\",\"grounded\",\"corner\",\"case\",\"fishery\",\"important\",\"hump\",\"forty\",\"discriminating\",\"chinks\",\"fry\",\"harpooned\",\"straggling\",\"common\",\"animals\",\"covered\",\"rudely\",\"pair\",\"fact\",\"jonas\",\"flying\",\"piggledy\",\"teeth\",\"offer\",\"wounded\",\"plaster\",\"hung\",\"pipe\",\"body\",\"barrel\",\"fence\",\"within\",\"conversed\",\"13\",\"secretly\",\"powerful\",\"pedestrian\",\"affghanistan\",\"slave\",\"stowe\",\"protecting\",\"sing\",\"well\",\"three\",\"owen\",\"dreary\",\"beyond\",\"talk\",\"ball\",\"fates\",\"district\",\"broken\",\"swedish\",\"),\",\"branch\",\"sprout\",\"many\",\"sixth\",\"application\",\"heads\",\"remote\",\"enjoy\",\"conclude\",\"purposing\",\"anchored\",\"caravan\",\"cruize\",\"zephyr\",\"tucked\",\"cut\",\"spermaceti\",\"went\",\"letters\",\"webster\",\"gushing\",\"like\",\"towards\",\"pursuit\",\"ahoy\",\"leaders\",\"bow\",\"visits\",\"damp\",\"dead\",\"gudgeon\",\"freewill\",\"cracking\",\"petticoat\",\"parliament\",\"troil\",\"true\",\"wight\",\"waller\",\"steady\",\"welcome\",\"aground\",\"paunch\",\"grand\",\"profane\",\"pausing\",\"mummies\",\"looked\",\"wound\",\"equal\",\"bo\",\"mean\",\"city\",\"ourselves\",\"currents\",\"destroyed\",\"tar\",\"lances\",\"emerged\",\"fancies\",\"throwing\",\"filled\",\"isles\",\"passed\",\"motives\",\"parried\",\"striking\",\"pilot\",\"sweep\",\"lightning\",\"plainly\",\"or\",\"alone\",\"has\",\"surely\",\"inquire\",\"compasses\",\"1839\",\"if\",\"besmoked\",\"tremendous\",\"weighed\",\"barbarous\",\"fancied\",\"threadbare\",\"sharks\",\"forward\",\"!'\\\"\",\"service\",\"rockets\",\"hovering\",\"bulk\",\"spouter\",\"vaulted\",\"1828\",\"shuddered\",\"hazy\",\"talus\",\"elements\",\"original\",\"had\",\"iceland\",\"dreamiest\",\"shabby\",\"brigs\",\"sick\",\"coals\",\"440\",\"tuileries\",\"octher\",\"sub\",\"subs\",\"greeks\",\"extremest\",\"centre\",\"commerce\",\"cannot\",\"answered\",\"dearly\",\"needle\",\"bitingly\",\"sloop\",\"palace\",\"planks\",\"seethe\",\"large\",\"cheerfully\",\"nay\",\"bennett\",\"gothic\",\"drive\",\"nature\",\"unequal\",\"catching\",\"euroclydon\",\"looking\",\"modern\",\"surround\",\"entrances\",\"bottomless\",\"soles\",\"plenty\",\"cylinders\",\"unbroken\",\"wherefore\",\"bright\",\"swung\",\"impetus\",\"saith\",\"cattle\",\"nuee\",\"attack\",\"just\",\"knots\",\"dint\",\"tooke\",\"air\",\"quantity\",\"neighbors\",\"haunts\",\"regulating\",\"salted\",\"can\",\"montaigne\",\"horrifying\",\"both\",\"not\",\"ship\",\"grammar\",\"anon\",\"became\",\"minded\",\"improvements\",\"plain\",\"convivial\",\"eckermann\",\"monsters\",\"thickly\",\"glory\",\"sunset\",\"somewhere\",\"god\",\"heart\",\"prepared\",\"fable\",\"faerie\",\"congealed\",\"hand\",\"various\",\"crucifix\",\"horns\",\"darkness\",\"reveries\",\"projecting\",\"biggest\",\"habit\",\"extreme\",\"silken\",\"hind\",\"lee\",\"footpads\",\"ye\",\"most\",\"spires\",\"peppered\",\"urbane\",\"coast\",\"physical\",\"shaped\",\"sea\",\"herrings\",\"distended\",\"thus\",\"emigrant\",\"lording\",\"articles\",\"890\",\"vents\",\"swayed\",\"sort\",\"blows\",\"anxious\",\"narrative\",\"east\",\"eighty\",\"1668\",\"return\",\"jefferson\",\"trust\",\"ponderous\",\"threw\",\"restless\",\"boggy\",\"colt\",\"perdition\",\"breaking\",\"lock\",\"lamb\",\"hearts\",\"weapon\",\"deceitfully\",\"placed\",\"shore\",\"far\",\"devilish\",\"immense\",\"boldness\",\"concernment\",\"solely\",\"goldsmith\",\"nor\",\"states\",\"belted\",\"town\",\"week\",\"tormented\",\"pooh\",\"lexicons\",\"new\",\"begin\",\"legs\",\"john\",\"nathan\",\"unsplinterable\",\"captain\",\"hours\",\"projections\",\"pieces\",\"wildly\",\"male\",\"fold\",\"let\",\"voice\",\"etchings\",\"blasted\",\"steps\",\"her\",\"atmosphere\",\"now\",\"von\",\"randolphs\",\"thunder\",\"drowned\",\"dale\",\"less\",\"handkerchief\",\"poet\",\"careless\",\"adding\",\"money\",\"pretty\",\"again\",\"boisterous\",\"cheerless\",\"occasion\",\"hurricane\",\"---\\\"\",\"either\",\"dinting\",\"goethe\",\"mammiferous\",\"beach\",\"captains\",\"jonah\",\"trackless\",\"make\",\"bag\",\"wide\",\"version\",\"resounds\",\"exclaimed\",\"scores\",\"creak\",\"touching\",\"created\",\"thoroughly\",\"rock\",\"its\",\"sat\",\"whalemen\",\"knowing\",\"crazy\",\"special\",\"consideration\",\"garden\",\"dart\",\"extremity\",\"spencer\",\"polar\",\"astern\",\"why\",\"mate\",\"pains\",\"thing\",\"discover\",\"eye\",\"passage\",\"lilies\",\"sounds\",\"ger\",\"shiverings\",\"whites\",\"fiery\",\"queen\",\"presently\",\"blood\",\"baron\",\"thousand\",\"growing\",\"tiger\",\"furiously\",\"learned\",\"robbers\",\"trunk\",\"chapter\",\"indirectly\",\"forced\",\"ex\",\";--\",\"honourable\",\"rusty\",\"years\",\"sir\",\"frequendy\",\"beale\",\"handle\",\"shoulder\",\"writer\",\"cometh\",\"wealth\",\"j\",\"limit\",\"paid\",\"here\",\"rodmond\",\"saw\",\"friends\",\"deliriums\",\"gloom\",\"formidable\",\"boil\",\"competent\",\"cheap\",\"ordinary\",\"tempestuous\",\"right\",\"made\",\"great\",\"astonishment\",\"hunter\",\"masts\",\"endeavored\",\"mole\",\"having\",\"bread\",\"eight\",\"fell\",\"inn\",\"pours\",\"attend\",\"10\",\"wallow\",\"anno\",\"seen\",\"through\",\"insupportable\",\"does\",\"inmost\",\"delineate\",\"believe\",\"bathed\",\"mast\",\"away\",\"grass\",\"processions\",\"consumptive\",\"design\",\"lodgings\",\"awe\",\"song\",\"ibid\",\"icelandic\",\"stopping\",\"annals\",\"dragon\",\"indeed\",\"gaping\",\"former\",\"againe\",\"water\",\"pampered\",\"memorial\",\"moored\",\"savages\",\"bore\",\"magic\",\"crossing\",\"throws\",\"goes\",\"theory\",\"female\",\"merchant\",\"rainbows\",\"bespeak\",\"bar\",\"me\",\"sw\",\"thrust\",\"trees\",\"midnight\",\"lost\",\"darwin\",\"gomorrah\",\"dived\",\"captors\",\"light\",\"affording\",\"offices\",\"element\",\"suspends\",\"pleased\",\"appear\",\"uno\",\"love\",\"bermudas\",\"opened\",\"aorta\",\"extensive\",\"book\",\"craft\",\"william\",\"considering\",\"judiciously\",\"dogs\",\"embellished\",\"see\",\"miserable\",\"clear\",\"convenient\",\"egyptians\",\"lay\",\"contemplation\",\"amazingly\",\"blanco\",\"soever\",\"hval\",\"really\",\"also\",\"fresh\",\"compare\",\"amount\",\"stop\",\"tepid\",\"ever\",\"ills\",\"tranced\",\"disorder\",\"spouted\",\"chance\",\"blue\",\"october\",\"back\",\"inferior\",\"distracted\",\"sailor\",\"shades\",\"among\",\"dim\",\"inmates\",\"oakes\",\"write\",\"second\",\"ah\",\"glazier\",\"dut\",\"holding\",\"rocked\",\"painting\",\"asphaltic\",\"iron\",\"fegee\",\"hill\",\"at\",\"than\",\"warehouses\",\"hour\",\"solo\",\"few\",\"repeatedly\",\"jet\",\"danish\",\"very\",\"connexion\",\"thankless\",\"near\",\"chief\",\"exasperated\",\"beneath\",\"wallen\",\"head\",\"pikes\",\"biography\",\"arctic\",\"schooners\",\"hopeless\",\"received\",\"punish\",\"soggy\",\"nat\",\"price\",\"sailed\",\"cachalot\",\"stern\",\"him\",\"sword\",\"saxon\",\"lives\",\"bone\",\"hast\",\"meaning\",\"unnatural\",\"different\",\"mariner\",\"proceeding\",\"roll\",\"rolls\",\"into\",\"windows\",\"creatures\",\"plunged\",\"extracts\",\"holland\",\"image\",\"signification\",\"offensively\",\"box\",\"mixed\",\"keep\",\"apology\",\"get\",\"rev\",\"stalls\",\"over\",\"promptly\",\"quiet\",\"board\",\"size\",\"montgomery\",\"comparing\",\"upon\",\"clearing\",\"desires\",\"landlord\",\"found\",\"endures\",\"ibis\",\"spain\",\"speech\",\"considerable\",\"soul\",\"anyways\",\"implement\",\"careful\",\"leach\",\"authors\",\"obed\",\"gone\",\"stage\",\"authentic\",\"drop\",\"lance\",\"form\",\"sells\",\"mockingly\",\"half\",\"river\",\"momentary\",\"savage\",\"principle\",\"curved\",\"did\",\"maxim\",\"waves\",\"hair\",\"doing\",\"yet\",\"making\",\"gate\",\"habitudes\",\"eat\",\"don\",\"mighty\",\"punch\",\"moving\",\"fishes\",\"preacher\",\"gospel\",\"promiscuously\",\"thither\",\"didn\",\"hob\",\"those\",\"hollow\",\"leviathan\",\"cheating\"],\"x1\":{\"__ndarray__\":\"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\",\"dtype\":\"float32\",\"order\":\"little\",\"shape\":[2556]},\"x2\":{\"__ndarray__\":\"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\",\"dtype\":\"float32\",\"order\":\"little\",\"shape\":[2556]}},\"selected\":{\"id\":\"1051\"},\"selection_policy\":{\"id\":\"1050\"}},\"id\":\"1034\",\"type\":\"ColumnDataSource\"},{\"attributes\":{},\"id\":\"1048\",\"type\":\"BasicTickFormatter\"},{\"attributes\":{\"tools\":[{\"id\":\"1022\"},{\"id\":\"1023\"},{\"id\":\"1024\"},{\"id\":\"1025\"},{\"id\":\"1026\"}]},\"id\":\"1028\",\"type\":\"Toolbar\"},{\"attributes\":{},\"id\":\"1045\",\"type\":\"BasicTickFormatter\"},{\"attributes\":{},\"id\":\"1051\",\"type\":\"Selection\"},{\"attributes\":{\"coordinates\":null,\"formatter\":{\"id\":\"1045\"},\"group\":null,\"major_label_policy\":{\"id\":\"1046\"},\"ticker\":{\"id\":\"1019\"}},\"id\":\"1018\",\"type\":\"LinearAxis\"},{\"attributes\":{},\"id\":\"1012\",\"type\":\"LinearScale\"}],\"root_ids\":[\"1003\"]},\"title\":\"Bokeh Application\",\"version\":\"2.4.3\"}};\n",
       "  const render_items = [{\"docid\":\"36d1b5c7-98ea-4174-8e1e-f5f542cc40c0\",\"root_ids\":[\"1003\"],\"roots\":{\"1003\":\"861bfd1d-2e4b-4456-9851-ee872792a9ce\"}}];\n",
       "  root.Bokeh.embed.embed_items_notebook(docs_json, render_items);\n",
       "  }\n",
       "  if (root.Bokeh !== undefined) {\n",
       "    embed_document(root);\n",
       "  } else {\n",
       "    let attempts = 0;\n",
       "    const timer = setInterval(function(root) {\n",
       "      if (root.Bokeh !== undefined) {\n",
       "        clearInterval(timer);\n",
       "        embed_document(root);\n",
       "      } else {\n",
       "        attempts++;\n",
       "        if (attempts > 100) {\n",
       "          clearInterval(timer);\n",
       "          console.log(\"Bokeh: ERROR: Unable to run BokehJS code because BokehJS library is missing\");\n",
       "        }\n",
       "      }\n",
       "    }, 10, root)\n",
       "  }\n",
       "})(window);"
      ],
      "application/vnd.bokehjs_exec.v0+json": ""
     },
     "metadata": {
      "application/vnd.bokehjs_exec.v0+json": {
       "id": "1003"
      }
     },
     "output_type": "display_data"
    }
   ],
   "source": [
    "from bokeh.models import ColumnDataSource, LabelSet\n",
    "from bokeh.plotting import figure, show, output_file\n",
    "from bokeh.io import output_notebook\n",
    "output_notebook()\n",
    "\n",
    "p = figure(tools=\"pan,wheel_zoom,box_zoom,reset,save\",\n",
    "           toolbar_location=\"above\",\n",
    "           title=\"word2vec T-SNE embedding representation\")\n",
    "\n",
    "source = ColumnDataSource(data=dict(x1=top_words_tsne[:,0],\n",
    "                                    x2=top_words_tsne[:,1],\n",
    "                                    names=list(vectors.index)))\n",
    "\n",
    "p.scatter(x=\"x1\", y=\"x2\", size=8, source=source)\n",
    "\n",
    "labels = LabelSet(x=\"x1\", y=\"x2\", text=\"names\", y_offset=6,\n",
    "                  text_font_size=\"8pt\", text_color=\"#555555\",\n",
    "                  source=source, text_align='center')\n",
    "p.add_layout(labels)\n",
    "\n",
    "show(p)"
   ]
  }
 ],
 "metadata": {
  "kernelspec": {
   "display_name": "Python 3",
   "language": "python",
   "name": "python3"
  },
  "language_info": {
   "codemirror_mode": {
    "name": "ipython",
    "version": 3
   },
   "file_extension": ".py",
   "mimetype": "text/x-python",
   "name": "python",
   "nbconvert_exporter": "python",
   "pygments_lexer": "ipython3",
   "version": "3.10.10"
  },
  "papermill": {
   "default_parameters": {},
   "duration": 166.735434,
   "end_time": "2023-06-05T06:49:51.806719",
   "environment_variables": {},
   "exception": null,
   "input_path": "__notebook__.ipynb",
   "output_path": "__notebook__.ipynb",
   "parameters": {},
   "start_time": "2023-06-05T06:47:05.071285",
   "version": "2.4.0"
  }
 },
 "nbformat": 4,
 "nbformat_minor": 5
}
