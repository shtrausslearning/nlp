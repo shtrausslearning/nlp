{
 "cells": [
  {
   "cell_type": "markdown",
   "id": "f1c47cb2",
   "metadata": {
    "papermill": {
     "duration": 0.008607,
     "end_time": "2023-06-05T19:41:18.997656",
     "exception": false,
     "start_time": "2023-06-05T19:41:18.989049",
     "status": "completed"
    },
    "tags": []
   },
   "source": [
    "# Skip-gram with negative sampling\n",
    "\n",
    "Getting the embeddings by solving the skip-gram fake problem"
   ]
  },
  {
   "cell_type": "code",
   "execution_count": 1,
   "id": "c36134be",
   "metadata": {
    "execution": {
     "iopub.execute_input": "2023-06-05T19:41:19.015629Z",
     "iopub.status.busy": "2023-06-05T19:41:19.015026Z",
     "iopub.status.idle": "2023-06-05T19:41:24.131723Z",
     "shell.execute_reply": "2023-06-05T19:41:24.130768Z"
    },
    "papermill": {
     "duration": 5.129037,
     "end_time": "2023-06-05T19:41:24.134929",
     "exception": false,
     "start_time": "2023-06-05T19:41:19.005892",
     "status": "completed"
    },
    "tags": []
   },
   "outputs": [],
   "source": [
    "import torch\n",
    "import torch.nn as nn\n",
    "from torch.autograd import Variable\n",
    "import torch.optim as optim\n",
    "import torch.nn.functional as F\n",
    "import nltk\n",
    "import random\n",
    "import numpy as np\n",
    "from collections import Counter\n",
    "flatten = lambda l: [item for sublist in l for item in sublist]\n",
    "random.seed(1024)"
   ]
  },
  {
   "cell_type": "code",
   "execution_count": 2,
   "id": "5404cc77",
   "metadata": {
    "execution": {
     "iopub.execute_input": "2023-06-05T19:41:24.160621Z",
     "iopub.status.busy": "2023-06-05T19:41:24.160041Z",
     "iopub.status.idle": "2023-06-05T19:41:24.253183Z",
     "shell.execute_reply": "2023-06-05T19:41:24.252312Z"
    },
    "papermill": {
     "duration": 0.108707,
     "end_time": "2023-06-05T19:41:24.255840",
     "exception": false,
     "start_time": "2023-06-05T19:41:24.147133",
     "status": "completed"
    },
    "tags": []
   },
   "outputs": [],
   "source": [
    "USE_CUDA = torch.cuda.is_available()\n",
    "gpus = [0]\n",
    "if(USE_CUDA):\n",
    "    torch.cuda.set_device(gpus[0])\n",
    "\n",
    "FloatTensor = torch.cuda.FloatTensor if USE_CUDA else torch.FloatTensor\n",
    "LongTensor = torch.cuda.LongTensor if USE_CUDA else torch.LongTensor\n",
    "ByteTensor = torch.cuda.ByteTensor if USE_CUDA else torch.ByteTensor"
   ]
  },
  {
   "cell_type": "code",
   "execution_count": 3,
   "id": "02d10eba",
   "metadata": {
    "execution": {
     "iopub.execute_input": "2023-06-05T19:41:24.280495Z",
     "iopub.status.busy": "2023-06-05T19:41:24.280150Z",
     "iopub.status.idle": "2023-06-05T19:41:24.292538Z",
     "shell.execute_reply": "2023-06-05T19:41:24.291765Z"
    },
    "papermill": {
     "duration": 0.027227,
     "end_time": "2023-06-05T19:41:24.294895",
     "exception": false,
     "start_time": "2023-06-05T19:41:24.267668",
     "status": "completed"
    },
    "tags": []
   },
   "outputs": [],
   "source": [
    "def getBatch(batch_size, train_data):\n",
    "    random.shuffle(train_data)\n",
    "    sindex = 0\n",
    "    eindex = batch_size\n",
    "    while eindex < len(train_data):\n",
    "        batch = train_data[sindex: eindex]\n",
    "        temp = eindex\n",
    "        eindex = eindex + batch_size\n",
    "        sindex = temp\n",
    "        yield batch\n",
    "    \n",
    "    if eindex >= len(train_data):\n",
    "        batch = train_data[sindex:]\n",
    "        yield batch\n",
    "        \n",
    "def prepare_sequence(seq, word2index):\n",
    "    idxs = list(map(lambda w: word2index[w] if word2index.get(w) is not None else word2index[\"<UNK>\"], seq))\n",
    "    return Variable(LongTensor(idxs))\n",
    "\n",
    "def prepare_word(word, word2index):\n",
    "    return Variable(LongTensor([word2index[word]]) if word2index.get(word) is not None else LongTensor([word2index[\"<UNK>\"]]))"
   ]
  },
  {
   "cell_type": "markdown",
   "id": "cfa43994",
   "metadata": {
    "papermill": {
     "duration": 0.0112,
     "end_time": "2023-06-05T19:41:24.318508",
     "exception": false,
     "start_time": "2023-06-05T19:41:24.307308",
     "status": "completed"
    },
    "tags": []
   },
   "source": [
    "## 1. Data load and Preprocessing \n",
    "\n",
    "### 1.1. Load corpus : Gutenberg corpus\n",
    "\n",
    "Let's use melvill-moby_dick corpus from Gutenberg corpus"
   ]
  },
  {
   "cell_type": "code",
   "execution_count": 4,
   "id": "d881fa40",
   "metadata": {
    "execution": {
     "iopub.execute_input": "2023-06-05T19:41:24.341432Z",
     "iopub.status.busy": "2023-06-05T19:41:24.341133Z",
     "iopub.status.idle": "2023-06-05T19:41:26.136013Z",
     "shell.execute_reply": "2023-06-05T19:41:26.135078Z"
    },
    "papermill": {
     "duration": 1.809225,
     "end_time": "2023-06-05T19:41:26.138658",
     "exception": false,
     "start_time": "2023-06-05T19:41:24.329433",
     "status": "completed"
    },
    "tags": []
   },
   "outputs": [],
   "source": [
    "corpus = list(nltk.corpus.gutenberg.sents('melville-moby_dick.txt'))[:500]\n",
    "corpus = [[word.lower() for word in sent] for sent in corpus]"
   ]
  },
  {
   "cell_type": "markdown",
   "id": "11c33efc",
   "metadata": {
    "papermill": {
     "duration": 0.007836,
     "end_time": "2023-06-05T19:41:26.154892",
     "exception": false,
     "start_time": "2023-06-05T19:41:26.147056",
     "status": "completed"
    },
    "tags": []
   },
   "source": [
    "### 1.2. Exclude sparse words \n",
    "\n",
    "Remove stopwords from the corpus dictionary"
   ]
  },
  {
   "cell_type": "code",
   "execution_count": 5,
   "id": "f0fc0c13",
   "metadata": {
    "execution": {
     "iopub.execute_input": "2023-06-05T19:41:26.172355Z",
     "iopub.status.busy": "2023-06-05T19:41:26.172062Z",
     "iopub.status.idle": "2023-06-05T19:41:26.179421Z",
     "shell.execute_reply": "2023-06-05T19:41:26.178477Z"
    },
    "papermill": {
     "duration": 0.018364,
     "end_time": "2023-06-05T19:41:26.181342",
     "exception": false,
     "start_time": "2023-06-05T19:41:26.162978",
     "status": "completed"
    },
    "tags": []
   },
   "outputs": [],
   "source": [
    "word_count = Counter(flatten(corpus))\n",
    "\n",
    "MIN_COUNT = 3\n",
    "exclude = []\n",
    "\n",
    "for w, c in word_count.items():\n",
    "    if c < MIN_COUNT:\n",
    "        exclude.append(w)"
   ]
  },
  {
   "cell_type": "markdown",
   "id": "7b2a7d7a",
   "metadata": {
    "papermill": {
     "duration": 0.007782,
     "end_time": "2023-06-05T19:41:26.197131",
     "exception": false,
     "start_time": "2023-06-05T19:41:26.189349",
     "status": "completed"
    },
    "tags": []
   },
   "source": [
    "### 1.3. Prepare train data "
   ]
  },
  {
   "cell_type": "code",
   "execution_count": 6,
   "id": "d28c745c",
   "metadata": {
    "execution": {
     "iopub.execute_input": "2023-06-05T19:41:26.214509Z",
     "iopub.status.busy": "2023-06-05T19:41:26.214008Z",
     "iopub.status.idle": "2023-06-05T19:41:26.220646Z",
     "shell.execute_reply": "2023-06-05T19:41:26.219749Z"
    },
    "papermill": {
     "duration": 0.01752,
     "end_time": "2023-06-05T19:41:26.222526",
     "exception": false,
     "start_time": "2023-06-05T19:41:26.205006",
     "status": "completed"
    },
    "tags": []
   },
   "outputs": [],
   "source": [
    "vocab = list(set(flatten(corpus)) - set(exclude))\n",
    "\n",
    "# Create mapping dictionary\n",
    "\n",
    "word2index = {}\n",
    "for vo in vocab:\n",
    "    if word2index.get(vo) is None:\n",
    "        word2index[vo] = len(word2index)\n",
    "        \n",
    "index2word = {v:k for k, v in word2index.items()}"
   ]
  },
  {
   "cell_type": "code",
   "execution_count": 7,
   "id": "7a970cb3",
   "metadata": {
    "execution": {
     "iopub.execute_input": "2023-06-05T19:41:26.240324Z",
     "iopub.status.busy": "2023-06-05T19:41:26.239607Z",
     "iopub.status.idle": "2023-06-05T19:41:26.245663Z",
     "shell.execute_reply": "2023-06-05T19:41:26.244752Z"
    },
    "papermill": {
     "duration": 0.017194,
     "end_time": "2023-06-05T19:41:26.247749",
     "exception": false,
     "start_time": "2023-06-05T19:41:26.230555",
     "status": "completed"
    },
    "tags": []
   },
   "outputs": [
    {
     "name": "stdout",
     "output_type": "stream",
     "text": [
      "2607 478\n"
     ]
    }
   ],
   "source": [
    "# length of all corpus token, filtered corpus token length\n",
    "print(len(set(flatten(corpus))), len(vocab))"
   ]
  },
  {
   "cell_type": "code",
   "execution_count": 8,
   "id": "cae857f3",
   "metadata": {
    "execution": {
     "iopub.execute_input": "2023-06-05T19:41:26.265800Z",
     "iopub.status.busy": "2023-06-05T19:41:26.265307Z",
     "iopub.status.idle": "2023-06-05T19:41:29.383576Z",
     "shell.execute_reply": "2023-06-05T19:41:29.382609Z"
    },
    "papermill": {
     "duration": 3.130348,
     "end_time": "2023-06-05T19:41:29.386159",
     "exception": false,
     "start_time": "2023-06-05T19:41:26.255811",
     "status": "completed"
    },
    "tags": []
   },
   "outputs": [
    {
     "name": "stdout",
     "output_type": "stream",
     "text": [
      "[('(', 'supplied'), ('(', 'by'), ('(', 'a'), ('supplied', '('), ('supplied', 'by'), ('supplied', 'a')]\n"
     ]
    },
    {
     "data": {
      "text/plain": [
       "('(', 'supplied')"
      ]
     },
     "execution_count": 8,
     "metadata": {},
     "output_type": "execute_result"
    }
   ],
   "source": [
    "WINDOW_SIZE = 3\n",
    "\n",
    "def create_data(ws=3):\n",
    "\n",
    "    windows =  flatten([list(nltk.ngrams(['<DUMMY>'] * ws + c + ['<DUMMY>'] * ws, ws * 2 + 1)) for c in corpus])\n",
    "\n",
    "    train_data = []\n",
    "\n",
    "    for window in windows:\n",
    "        for i in range(ws * 2 + 1):\n",
    "            if window[i] in exclude or window[ws] in exclude: \n",
    "                continue # min_count\n",
    "            if i == ws or window[i] == '<DUMMY>': \n",
    "                continue\n",
    "            train_data.append((window[ws], window[i]))\n",
    "            \n",
    "    print(train_data[:ws * 2])\n",
    "    return train_data\n",
    "\n",
    "train_data = create_data()\n",
    "train_data[0] # first document"
   ]
  },
  {
   "cell_type": "code",
   "execution_count": 9,
   "id": "813b66b4",
   "metadata": {
    "execution": {
     "iopub.execute_input": "2023-06-05T19:41:29.405712Z",
     "iopub.status.busy": "2023-06-05T19:41:29.405128Z",
     "iopub.status.idle": "2023-06-05T19:41:34.282378Z",
     "shell.execute_reply": "2023-06-05T19:41:34.281110Z"
    },
    "papermill": {
     "duration": 4.889288,
     "end_time": "2023-06-05T19:41:34.284582",
     "exception": false,
     "start_time": "2023-06-05T19:41:29.395294",
     "status": "completed"
    },
    "tags": []
   },
   "outputs": [
    {
     "name": "stdout",
     "output_type": "stream",
     "text": [
      "31522  training data pairs\n"
     ]
    }
   ],
   "source": [
    "X_p = []\n",
    "y_p = []\n",
    "\n",
    "for tr in train_data:\n",
    "    X_p.append(prepare_word(tr[0], word2index).view(1, -1))\n",
    "    y_p.append(prepare_word(tr[1], word2index).view(1, -1))\n",
    "\n",
    "train_data = list(zip(X_p, y_p))\n",
    "print(len(train_data),' training data pairs')"
   ]
  },
  {
   "cell_type": "markdown",
   "id": "f47935e0",
   "metadata": {
    "papermill": {
     "duration": 0.008243,
     "end_time": "2023-06-05T19:41:34.301571",
     "exception": false,
     "start_time": "2023-06-05T19:41:34.293328",
     "status": "completed"
    },
    "tags": []
   },
   "source": [
    "### 1.4. Build Unigram Distribution**0.75 "
   ]
  },
  {
   "cell_type": "markdown",
   "id": "e3873e40",
   "metadata": {
    "papermill": {
     "duration": 0.008212,
     "end_time": "2023-06-05T19:41:34.318050",
     "exception": false,
     "start_time": "2023-06-05T19:41:34.309838",
     "status": "completed"
    },
    "tags": []
   },
   "source": [
    "$$P(w)=U(w)^{3/4}/Z$$"
   ]
  },
  {
   "cell_type": "code",
   "execution_count": 10,
   "id": "6ee5d6ed",
   "metadata": {
    "execution": {
     "iopub.execute_input": "2023-06-05T19:41:34.336808Z",
     "iopub.status.busy": "2023-06-05T19:41:34.335811Z",
     "iopub.status.idle": "2023-06-05T19:41:34.388687Z",
     "shell.execute_reply": "2023-06-05T19:41:34.387771Z"
    },
    "papermill": {
     "duration": 0.06445,
     "end_time": "2023-06-05T19:41:34.390821",
     "exception": false,
     "start_time": "2023-06-05T19:41:34.326371",
     "status": "completed"
    },
    "tags": []
   },
   "outputs": [],
   "source": [
    "Z = 0.001\n",
    "\n",
    "word_count = Counter(flatten(corpus))\n",
    "num_total_words = sum([c for w, c in word_count.items() if w not in exclude])"
   ]
  },
  {
   "cell_type": "code",
   "execution_count": 11,
   "id": "ced77353",
   "metadata": {
    "execution": {
     "iopub.execute_input": "2023-06-05T19:41:34.412806Z",
     "iopub.status.busy": "2023-06-05T19:41:34.412524Z",
     "iopub.status.idle": "2023-06-05T19:41:34.418657Z",
     "shell.execute_reply": "2023-06-05T19:41:34.417630Z"
    },
    "papermill": {
     "duration": 0.018759,
     "end_time": "2023-06-05T19:41:34.420856",
     "exception": false,
     "start_time": "2023-06-05T19:41:34.402097",
     "status": "completed"
    },
    "tags": []
   },
   "outputs": [
    {
     "name": "stdout",
     "output_type": "stream",
     "text": [
      "478 3500\n"
     ]
    }
   ],
   "source": [
    "unigram_table = []\n",
    "\n",
    "for vo in vocab:\n",
    "    unigram_table.extend([vo] * int(((word_count[vo]/num_total_words)**0.75)/Z))\n",
    "    \n",
    "print(len(vocab), len(unigram_table))"
   ]
  },
  {
   "cell_type": "markdown",
   "id": "01a2bdd7",
   "metadata": {
    "papermill": {
     "duration": 0.008389,
     "end_time": "2023-06-05T19:41:34.437604",
     "exception": false,
     "start_time": "2023-06-05T19:41:34.429215",
     "status": "completed"
    },
    "tags": []
   },
   "source": [
    "### 1.5. Negative Sampling "
   ]
  },
  {
   "cell_type": "code",
   "execution_count": 12,
   "id": "ac1f92ac",
   "metadata": {
    "execution": {
     "iopub.execute_input": "2023-06-05T19:41:34.455584Z",
     "iopub.status.busy": "2023-06-05T19:41:34.455306Z",
     "iopub.status.idle": "2023-06-05T19:41:34.461981Z",
     "shell.execute_reply": "2023-06-05T19:41:34.460952Z"
    },
    "papermill": {
     "duration": 0.018129,
     "end_time": "2023-06-05T19:41:34.464103",
     "exception": false,
     "start_time": "2023-06-05T19:41:34.445974",
     "status": "completed"
    },
    "tags": []
   },
   "outputs": [],
   "source": [
    "def negative_sampling(targets, unigram_table, k):\n",
    "    batch_size = targets.size(0)\n",
    "    neg_samples = []\n",
    "    for i in range(batch_size):\n",
    "        nsample = []\n",
    "        target_index = targets[i].data.cpu().tolist()[0] if USE_CUDA else targets[i].data.tolist()[0]\n",
    "        while len(nsample) < k: # num of sampling\n",
    "            neg = random.choice(unigram_table)\n",
    "            if word2index[neg] == target_index:\n",
    "                continue\n",
    "            nsample.append(neg)\n",
    "        neg_samples.append(prepare_sequence(nsample, word2index).view(1, -1))\n",
    "    \n",
    "    return torch.cat(neg_samples)"
   ]
  },
  {
   "cell_type": "markdown",
   "id": "666731c8",
   "metadata": {
    "papermill": {
     "duration": 0.008287,
     "end_time": "2023-06-05T19:41:34.480851",
     "exception": false,
     "start_time": "2023-06-05T19:41:34.472564",
     "status": "completed"
    },
    "tags": []
   },
   "source": [
    "## 2. Modeling \n",
    "\n",
    "### 2.1 Define model architecture"
   ]
  },
  {
   "cell_type": "code",
   "execution_count": 13,
   "id": "9766e2cf",
   "metadata": {
    "execution": {
     "iopub.execute_input": "2023-06-05T19:41:34.499837Z",
     "iopub.status.busy": "2023-06-05T19:41:34.499116Z",
     "iopub.status.idle": "2023-06-05T19:41:34.508597Z",
     "shell.execute_reply": "2023-06-05T19:41:34.507653Z"
    },
    "papermill": {
     "duration": 0.021266,
     "end_time": "2023-06-05T19:41:34.510673",
     "exception": false,
     "start_time": "2023-06-05T19:41:34.489407",
     "status": "completed"
    },
    "tags": []
   },
   "outputs": [],
   "source": [
    "class SkipgramNegSampling(nn.Module):\n",
    "    \n",
    "    def __init__(self, vocab_size, projection_dim):\n",
    "        super(SkipgramNegSampling, self).__init__()\n",
    "        self.embedding_v = nn.Embedding(vocab_size, projection_dim) # center embedding\n",
    "        self.embedding_u = nn.Embedding(vocab_size, projection_dim) # out embedding\n",
    "        self.logsigmoid = nn.LogSigmoid()\n",
    "                \n",
    "        initrange = (2.0 / (vocab_size + projection_dim))**0.5 # Xavier init\n",
    "        self.embedding_v.weight.data.uniform_(-initrange, initrange) # init\n",
    "        self.embedding_u.weight.data.uniform_(-0.0, 0.0) # init\n",
    "        \n",
    "    def forward(self, center_words, target_words, negative_words):\n",
    "        center_embeds = self.embedding_v(center_words) # B x 1 x D\n",
    "        target_embeds = self.embedding_u(target_words) # B x 1 x D\n",
    "        \n",
    "        neg_embeds = -self.embedding_u(negative_words) # B x K x D\n",
    "        \n",
    "        positive_score = target_embeds.bmm(center_embeds.transpose(1, 2)).squeeze(2) # Bx1\n",
    "        negative_score = torch.sum(neg_embeds.bmm(center_embeds.transpose(1, 2)).squeeze(2), 1).view(negs.size(0), -1) # BxK -> Bx1\n",
    "        \n",
    "        loss = self.logsigmoid(positive_score) + self.logsigmoid(negative_score)\n",
    "        \n",
    "        return -torch.mean(loss)\n",
    "    \n",
    "    def prediction(self, inputs):\n",
    "        embeds = self.embedding_v(inputs)\n",
    "        \n",
    "        return embeds"
   ]
  },
  {
   "cell_type": "markdown",
   "id": "ca6c1a0c",
   "metadata": {
    "papermill": {
     "duration": 0.007949,
     "end_time": "2023-06-05T19:41:34.527126",
     "exception": false,
     "start_time": "2023-06-05T19:41:34.519177",
     "status": "completed"
    },
    "tags": []
   },
   "source": [
    "### 2.2. Train \n",
    "\n",
    "We are interested in generating word embeddings of dimension 30"
   ]
  },
  {
   "cell_type": "code",
   "execution_count": 14,
   "id": "defae0a9",
   "metadata": {
    "execution": {
     "iopub.execute_input": "2023-06-05T19:41:34.545478Z",
     "iopub.status.busy": "2023-06-05T19:41:34.544994Z",
     "iopub.status.idle": "2023-06-05T19:41:34.563387Z",
     "shell.execute_reply": "2023-06-05T19:41:34.562590Z"
    },
    "papermill": {
     "duration": 0.029663,
     "end_time": "2023-06-05T19:41:34.565371",
     "exception": false,
     "start_time": "2023-06-05T19:41:34.535708",
     "status": "completed"
    },
    "tags": []
   },
   "outputs": [],
   "source": [
    "EMBEDDING_SIZE = 30 \n",
    "BATCH_SIZE = 256\n",
    "EPOCH = 100\n",
    "NEG = 10 # Num of Negative Sampling\n",
    "\n",
    "losses = []\n",
    "model = SkipgramNegSampling(len(word2index), EMBEDDING_SIZE)\n",
    "if USE_CUDA:\n",
    "    model = model.cuda()\n",
    "optimizer = optim.Adam(model.parameters(), lr=0.01)"
   ]
  },
  {
   "cell_type": "code",
   "execution_count": 15,
   "id": "51152fae",
   "metadata": {
    "collapsed": false,
    "execution": {
     "iopub.execute_input": "2023-06-05T19:41:34.583903Z",
     "iopub.status.busy": "2023-06-05T19:41:34.583129Z",
     "iopub.status.idle": "2023-06-05T19:45:54.743279Z",
     "shell.execute_reply": "2023-06-05T19:45:54.742316Z"
    },
    "jupyter": {
     "outputs_hidden": false
    },
    "papermill": {
     "duration": 260.171695,
     "end_time": "2023-06-05T19:45:54.745520",
     "exception": false,
     "start_time": "2023-06-05T19:41:34.573825",
     "status": "completed"
    },
    "tags": []
   },
   "outputs": [
    {
     "name": "stdout",
     "output_type": "stream",
     "text": [
      "Epoch : 0, mean_loss : 0.93\n",
      "Epoch : 10, mean_loss : 0.70\n",
      "Epoch : 20, mean_loss : 0.56\n",
      "Epoch : 30, mean_loss : 0.52\n",
      "Epoch : 40, mean_loss : 0.49\n",
      "Epoch : 50, mean_loss : 0.47\n",
      "Epoch : 60, mean_loss : 0.46\n",
      "Epoch : 70, mean_loss : 0.45\n",
      "Epoch : 80, mean_loss : 0.44\n",
      "Epoch : 90, mean_loss : 0.44\n",
      "CPU times: user 4min 16s, sys: 798 ms, total: 4min 17s\n",
      "Wall time: 4min 20s\n"
     ]
    }
   ],
   "source": [
    "%%time\n",
    "\n",
    "for epoch in range(EPOCH):\n",
    "    for i,batch in enumerate(getBatch(BATCH_SIZE, train_data)):\n",
    "        \n",
    "        inputs, targets = zip(*batch)\n",
    "        \n",
    "        inputs = torch.cat(inputs) # B x 1\n",
    "        targets = torch.cat(targets) # B x 1\n",
    "        negs = negative_sampling(targets, unigram_table, NEG)\n",
    "        model.zero_grad()\n",
    "\n",
    "        loss = model(inputs, targets, negs)\n",
    "        \n",
    "        loss.backward()\n",
    "        optimizer.step()\n",
    "    \n",
    "        losses.append(loss.data.item())\n",
    "    if epoch % 10 == 0:\n",
    "        print(\"Epoch : %d, mean_loss : %.02f\" % (epoch, np.mean(losses)))\n",
    "        losses = []"
   ]
  },
  {
   "cell_type": "markdown",
   "id": "1d8a0053",
   "metadata": {
    "papermill": {
     "duration": 0.009204,
     "end_time": "2023-06-05T19:45:54.764363",
     "exception": false,
     "start_time": "2023-06-05T19:45:54.755159",
     "status": "completed"
    },
    "tags": []
   },
   "source": [
    "### 2.3. Test \n",
    "\n",
    "Lets check our created embeddings by finding the most similar words"
   ]
  },
  {
   "cell_type": "code",
   "execution_count": 16,
   "id": "4a8b4710",
   "metadata": {
    "execution": {
     "iopub.execute_input": "2023-06-05T19:45:54.785297Z",
     "iopub.status.busy": "2023-06-05T19:45:54.784488Z",
     "iopub.status.idle": "2023-06-05T19:45:54.792582Z",
     "shell.execute_reply": "2023-06-05T19:45:54.791610Z"
    },
    "papermill": {
     "duration": 0.020368,
     "end_time": "2023-06-05T19:45:54.794512",
     "exception": false,
     "start_time": "2023-06-05T19:45:54.774144",
     "status": "completed"
    },
    "tags": []
   },
   "outputs": [],
   "source": [
    "def word_similarity(target, vocab):\n",
    "    if USE_CUDA:\n",
    "        target_V = model.prediction(prepare_word(target, word2index))\n",
    "    else:\n",
    "        target_V = model.prediction(prepare_word(target, word2index))\n",
    "    similarities = []\n",
    "    for i in range(len(vocab)):\n",
    "        if vocab[i] == target: \n",
    "            continue\n",
    "        \n",
    "        if USE_CUDA:\n",
    "            vector = model.prediction(prepare_word(list(vocab)[i], word2index))\n",
    "        else:\n",
    "            vector = model.prediction(prepare_word(list(vocab)[i], word2index))\n",
    "        \n",
    "        cosine_sim = F.cosine_similarity(target_V, vector).data.tolist()[0]\n",
    "        similarities.append([vocab[i], cosine_sim])\n",
    "    return sorted(similarities, key=lambda x: x[1], reverse=True)[:10]"
   ]
  },
  {
   "cell_type": "code",
   "execution_count": 17,
   "id": "3a446af0",
   "metadata": {
    "collapsed": false,
    "execution": {
     "iopub.execute_input": "2023-06-05T19:45:54.814270Z",
     "iopub.status.busy": "2023-06-05T19:45:54.813984Z",
     "iopub.status.idle": "2023-06-05T19:45:54.819728Z",
     "shell.execute_reply": "2023-06-05T19:45:54.818754Z"
    },
    "jupyter": {
     "outputs_hidden": false
    },
    "papermill": {
     "duration": 0.018042,
     "end_time": "2023-06-05T19:45:54.821915",
     "exception": false,
     "start_time": "2023-06-05T19:45:54.803873",
     "status": "completed"
    },
    "tags": []
   },
   "outputs": [
    {
     "data": {
      "text/plain": [
       "'huge'"
      ]
     },
     "execution_count": 17,
     "metadata": {},
     "output_type": "execute_result"
    }
   ],
   "source": [
    "test = random.choice(list(vocab))\n",
    "test"
   ]
  },
  {
   "cell_type": "code",
   "execution_count": 18,
   "id": "4c7407af",
   "metadata": {
    "collapsed": false,
    "execution": {
     "iopub.execute_input": "2023-06-05T19:45:54.841562Z",
     "iopub.status.busy": "2023-06-05T19:45:54.841315Z",
     "iopub.status.idle": "2023-06-05T19:45:54.967454Z",
     "shell.execute_reply": "2023-06-05T19:45:54.966435Z"
    },
    "jupyter": {
     "outputs_hidden": false
    },
    "papermill": {
     "duration": 0.138872,
     "end_time": "2023-06-05T19:45:54.970078",
     "exception": false,
     "start_time": "2023-06-05T19:45:54.831206",
     "status": "completed"
    },
    "tags": []
   },
   "outputs": [
    {
     "data": {
      "text/plain": [
       "[['red', 0.6175423860549927],\n",
       " ['teeth', 0.6154489517211914],\n",
       " ['saw', 0.6089832782745361],\n",
       " ['board', 0.5986260175704956],\n",
       " ['deep', 0.5942798256874084],\n",
       " ['jaws', 0.592190682888031],\n",
       " ['ships', 0.5905594825744629],\n",
       " ['royal', 0.5871720314025879],\n",
       " ['hand', 0.573773205280304],\n",
       " ['aloft', 0.5672186613082886]]"
      ]
     },
     "execution_count": 18,
     "metadata": {},
     "output_type": "execute_result"
    }
   ],
   "source": [
    "word_similarity(test, vocab)"
   ]
  },
  {
   "cell_type": "markdown",
   "id": "c54ea044",
   "metadata": {
    "papermill": {
     "duration": 0.009319,
     "end_time": "2023-06-05T19:45:54.989013",
     "exception": false,
     "start_time": "2023-06-05T19:45:54.979694",
     "status": "completed"
    },
    "tags": []
   },
   "source": [
    "## 3. Extracting Embeddings\n",
    "\n",
    "Our main goal in this fake task is to extract the word embeddings"
   ]
  },
  {
   "cell_type": "code",
   "execution_count": 19,
   "id": "5fca6093",
   "metadata": {
    "execution": {
     "iopub.execute_input": "2023-06-05T19:45:55.009160Z",
     "iopub.status.busy": "2023-06-05T19:45:55.008845Z",
     "iopub.status.idle": "2023-06-05T19:45:55.016554Z",
     "shell.execute_reply": "2023-06-05T19:45:55.015598Z"
    },
    "papermill": {
     "duration": 0.020062,
     "end_time": "2023-06-05T19:45:55.018595",
     "exception": false,
     "start_time": "2023-06-05T19:45:54.998533",
     "status": "completed"
    },
    "tags": []
   },
   "outputs": [
    {
     "data": {
      "text/plain": [
       "array([[-0.635266  , -3.6268964 ,  0.58066475, ..., -0.7340099 ,\n",
       "         1.76451   ,  2.3171337 ],\n",
       "       [-0.5256893 ,  0.25719434, -1.0269786 , ..., -1.965328  ,\n",
       "        -2.1790724 ,  1.5324991 ],\n",
       "       [-1.4854066 , -0.3895261 , -2.121851  , ..., -1.353419  ,\n",
       "        -2.848737  , -1.5324385 ],\n",
       "       ...,\n",
       "       [ 0.78071016, -1.8877364 , -1.8727735 , ..., -1.3137099 ,\n",
       "        -0.46396822, -0.01122358],\n",
       "       [ 0.51682734, -1.7216606 ,  0.2473447 , ...,  0.10838561,\n",
       "        -0.18622133, -0.20630579],\n",
       "       [-0.49094895, -1.0697956 , -0.07435337, ...,  0.78838664,\n",
       "        -1.7043719 , -1.4479324 ]], dtype=float32)"
      ]
     },
     "execution_count": 19,
     "metadata": {},
     "output_type": "execute_result"
    }
   ],
   "source": [
    "# working on gpu, need cpu()\n",
    "list(model.parameters())[0].cpu().detach().numpy()"
   ]
  },
  {
   "cell_type": "code",
   "execution_count": 20,
   "id": "ba7601f2",
   "metadata": {
    "execution": {
     "iopub.execute_input": "2023-06-05T19:45:55.040505Z",
     "iopub.status.busy": "2023-06-05T19:45:55.039616Z",
     "iopub.status.idle": "2023-06-05T19:45:55.047278Z",
     "shell.execute_reply": "2023-06-05T19:45:55.046458Z"
    },
    "papermill": {
     "duration": 0.020225,
     "end_time": "2023-06-05T19:45:55.049162",
     "exception": false,
     "start_time": "2023-06-05T19:45:55.028937",
     "status": "completed"
    },
    "tags": []
   },
   "outputs": [],
   "source": [
    "import pandas as pd\n",
    "\n",
    "if USE_CUDA:\n",
    "    embeds = list(model.parameters())[0].cpu().detach().numpy()\n",
    "else:\n",
    "    embeds = list(model.parameters())[0].detach().numpy()\n",
    "    \n",
    "vectors = pd.DataFrame(embeds,index=index2word.values())"
   ]
  },
  {
   "cell_type": "markdown",
   "id": "46c1c426",
   "metadata": {
    "papermill": {
     "duration": 0.00943,
     "end_time": "2023-06-05T19:45:55.068231",
     "exception": false,
     "start_time": "2023-06-05T19:45:55.058801",
     "status": "completed"
    },
    "tags": []
   },
   "source": [
    "## 4. Embedding Visualisation\n",
    "\n",
    "We can visualise our word embeddings using a dimension reduction algorithm tsne"
   ]
  },
  {
   "cell_type": "code",
   "execution_count": 21,
   "id": "43c94eed",
   "metadata": {
    "execution": {
     "iopub.execute_input": "2023-06-05T19:45:55.089023Z",
     "iopub.status.busy": "2023-06-05T19:45:55.088298Z",
     "iopub.status.idle": "2023-06-05T19:45:58.585847Z",
     "shell.execute_reply": "2023-06-05T19:45:58.584917Z"
    },
    "papermill": {
     "duration": 3.510455,
     "end_time": "2023-06-05T19:45:58.588289",
     "exception": false,
     "start_time": "2023-06-05T19:45:55.077834",
     "status": "completed"
    },
    "tags": []
   },
   "outputs": [],
   "source": [
    "from sklearn.manifold import TSNE\n",
    "tsne = TSNE(n_components=2, random_state=0)\n",
    "top_words_tsne = tsne.fit_transform(vectors)"
   ]
  },
  {
   "cell_type": "code",
   "execution_count": 22,
   "id": "c241e5b5",
   "metadata": {
    "execution": {
     "iopub.execute_input": "2023-06-05T19:45:58.610770Z",
     "iopub.status.busy": "2023-06-05T19:45:58.609214Z",
     "iopub.status.idle": "2023-06-05T19:45:59.007782Z",
     "shell.execute_reply": "2023-06-05T19:45:59.006915Z"
    },
    "papermill": {
     "duration": 0.411463,
     "end_time": "2023-06-05T19:45:59.009883",
     "exception": false,
     "start_time": "2023-06-05T19:45:58.598420",
     "status": "completed"
    },
    "tags": []
   },
   "outputs": [
    {
     "data": {
      "text/html": [
       "<div class=\"bk-root\">\n",
       "        <a href=\"https://bokeh.org\" target=\"_blank\" class=\"bk-logo bk-logo-small bk-logo-notebook\"></a>\n",
       "        <span id=\"1002\">Loading BokehJS ...</span>\n",
       "    </div>\n"
      ]
     },
     "metadata": {},
     "output_type": "display_data"
    },
    {
     "data": {
      "application/javascript": [
       "(function(root) {\n",
       "  function now() {\n",
       "    return new Date();\n",
       "  }\n",
       "\n",
       "  const force = true;\n",
       "\n",
       "  if (typeof root._bokeh_onload_callbacks === \"undefined\" || force === true) {\n",
       "    root._bokeh_onload_callbacks = [];\n",
       "    root._bokeh_is_loading = undefined;\n",
       "  }\n",
       "\n",
       "const JS_MIME_TYPE = 'application/javascript';\n",
       "  const HTML_MIME_TYPE = 'text/html';\n",
       "  const EXEC_MIME_TYPE = 'application/vnd.bokehjs_exec.v0+json';\n",
       "  const CLASS_NAME = 'output_bokeh rendered_html';\n",
       "\n",
       "  /**\n",
       "   * Render data to the DOM node\n",
       "   */\n",
       "  function render(props, node) {\n",
       "    const script = document.createElement(\"script\");\n",
       "    node.appendChild(script);\n",
       "  }\n",
       "\n",
       "  /**\n",
       "   * Handle when an output is cleared or removed\n",
       "   */\n",
       "  function handleClearOutput(event, handle) {\n",
       "    const cell = handle.cell;\n",
       "\n",
       "    const id = cell.output_area._bokeh_element_id;\n",
       "    const server_id = cell.output_area._bokeh_server_id;\n",
       "    // Clean up Bokeh references\n",
       "    if (id != null && id in Bokeh.index) {\n",
       "      Bokeh.index[id].model.document.clear();\n",
       "      delete Bokeh.index[id];\n",
       "    }\n",
       "\n",
       "    if (server_id !== undefined) {\n",
       "      // Clean up Bokeh references\n",
       "      const cmd_clean = \"from bokeh.io.state import curstate; print(curstate().uuid_to_server['\" + server_id + \"'].get_sessions()[0].document.roots[0]._id)\";\n",
       "      cell.notebook.kernel.execute(cmd_clean, {\n",
       "        iopub: {\n",
       "          output: function(msg) {\n",
       "            const id = msg.content.text.trim();\n",
       "            if (id in Bokeh.index) {\n",
       "              Bokeh.index[id].model.document.clear();\n",
       "              delete Bokeh.index[id];\n",
       "            }\n",
       "          }\n",
       "        }\n",
       "      });\n",
       "      // Destroy server and session\n",
       "      const cmd_destroy = \"import bokeh.io.notebook as ion; ion.destroy_server('\" + server_id + \"')\";\n",
       "      cell.notebook.kernel.execute(cmd_destroy);\n",
       "    }\n",
       "  }\n",
       "\n",
       "  /**\n",
       "   * Handle when a new output is added\n",
       "   */\n",
       "  function handleAddOutput(event, handle) {\n",
       "    const output_area = handle.output_area;\n",
       "    const output = handle.output;\n",
       "\n",
       "    // limit handleAddOutput to display_data with EXEC_MIME_TYPE content only\n",
       "    if ((output.output_type != \"display_data\") || (!Object.prototype.hasOwnProperty.call(output.data, EXEC_MIME_TYPE))) {\n",
       "      return\n",
       "    }\n",
       "\n",
       "    const toinsert = output_area.element.find(\".\" + CLASS_NAME.split(' ')[0]);\n",
       "\n",
       "    if (output.metadata[EXEC_MIME_TYPE][\"id\"] !== undefined) {\n",
       "      toinsert[toinsert.length - 1].firstChild.textContent = output.data[JS_MIME_TYPE];\n",
       "      // store reference to embed id on output_area\n",
       "      output_area._bokeh_element_id = output.metadata[EXEC_MIME_TYPE][\"id\"];\n",
       "    }\n",
       "    if (output.metadata[EXEC_MIME_TYPE][\"server_id\"] !== undefined) {\n",
       "      const bk_div = document.createElement(\"div\");\n",
       "      bk_div.innerHTML = output.data[HTML_MIME_TYPE];\n",
       "      const script_attrs = bk_div.children[0].attributes;\n",
       "      for (let i = 0; i < script_attrs.length; i++) {\n",
       "        toinsert[toinsert.length - 1].firstChild.setAttribute(script_attrs[i].name, script_attrs[i].value);\n",
       "        toinsert[toinsert.length - 1].firstChild.textContent = bk_div.children[0].textContent\n",
       "      }\n",
       "      // store reference to server id on output_area\n",
       "      output_area._bokeh_server_id = output.metadata[EXEC_MIME_TYPE][\"server_id\"];\n",
       "    }\n",
       "  }\n",
       "\n",
       "  function register_renderer(events, OutputArea) {\n",
       "\n",
       "    function append_mime(data, metadata, element) {\n",
       "      // create a DOM node to render to\n",
       "      const toinsert = this.create_output_subarea(\n",
       "        metadata,\n",
       "        CLASS_NAME,\n",
       "        EXEC_MIME_TYPE\n",
       "      );\n",
       "      this.keyboard_manager.register_events(toinsert);\n",
       "      // Render to node\n",
       "      const props = {data: data, metadata: metadata[EXEC_MIME_TYPE]};\n",
       "      render(props, toinsert[toinsert.length - 1]);\n",
       "      element.append(toinsert);\n",
       "      return toinsert\n",
       "    }\n",
       "\n",
       "    /* Handle when an output is cleared or removed */\n",
       "    events.on('clear_output.CodeCell', handleClearOutput);\n",
       "    events.on('delete.Cell', handleClearOutput);\n",
       "\n",
       "    /* Handle when a new output is added */\n",
       "    events.on('output_added.OutputArea', handleAddOutput);\n",
       "\n",
       "    /**\n",
       "     * Register the mime type and append_mime function with output_area\n",
       "     */\n",
       "    OutputArea.prototype.register_mime_type(EXEC_MIME_TYPE, append_mime, {\n",
       "      /* Is output safe? */\n",
       "      safe: true,\n",
       "      /* Index of renderer in `output_area.display_order` */\n",
       "      index: 0\n",
       "    });\n",
       "  }\n",
       "\n",
       "  // register the mime type if in Jupyter Notebook environment and previously unregistered\n",
       "  if (root.Jupyter !== undefined) {\n",
       "    const events = require('base/js/events');\n",
       "    const OutputArea = require('notebook/js/outputarea').OutputArea;\n",
       "\n",
       "    if (OutputArea.prototype.mime_types().indexOf(EXEC_MIME_TYPE) == -1) {\n",
       "      register_renderer(events, OutputArea);\n",
       "    }\n",
       "  }\n",
       "  if (typeof (root._bokeh_timeout) === \"undefined\" || force === true) {\n",
       "    root._bokeh_timeout = Date.now() + 5000;\n",
       "    root._bokeh_failed_load = false;\n",
       "  }\n",
       "\n",
       "  const NB_LOAD_WARNING = {'data': {'text/html':\n",
       "     \"<div style='background-color: #fdd'>\\n\"+\n",
       "     \"<p>\\n\"+\n",
       "     \"BokehJS does not appear to have successfully loaded. If loading BokehJS from CDN, this \\n\"+\n",
       "     \"may be due to a slow or bad network connection. Possible fixes:\\n\"+\n",
       "     \"</p>\\n\"+\n",
       "     \"<ul>\\n\"+\n",
       "     \"<li>re-rerun `output_notebook()` to attempt to load from CDN again, or</li>\\n\"+\n",
       "     \"<li>use INLINE resources instead, as so:</li>\\n\"+\n",
       "     \"</ul>\\n\"+\n",
       "     \"<code>\\n\"+\n",
       "     \"from bokeh.resources import INLINE\\n\"+\n",
       "     \"output_notebook(resources=INLINE)\\n\"+\n",
       "     \"</code>\\n\"+\n",
       "     \"</div>\"}};\n",
       "\n",
       "  function display_loaded() {\n",
       "    const el = document.getElementById(\"1002\");\n",
       "    if (el != null) {\n",
       "      el.textContent = \"BokehJS is loading...\";\n",
       "    }\n",
       "    if (root.Bokeh !== undefined) {\n",
       "      if (el != null) {\n",
       "        el.textContent = \"BokehJS \" + root.Bokeh.version + \" successfully loaded.\";\n",
       "      }\n",
       "    } else if (Date.now() < root._bokeh_timeout) {\n",
       "      setTimeout(display_loaded, 100)\n",
       "    }\n",
       "  }\n",
       "\n",
       "  function run_callbacks() {\n",
       "    try {\n",
       "      root._bokeh_onload_callbacks.forEach(function(callback) {\n",
       "        if (callback != null)\n",
       "          callback();\n",
       "      });\n",
       "    } finally {\n",
       "      delete root._bokeh_onload_callbacks\n",
       "    }\n",
       "    console.debug(\"Bokeh: all callbacks have finished\");\n",
       "  }\n",
       "\n",
       "  function load_libs(css_urls, js_urls, callback) {\n",
       "    if (css_urls == null) css_urls = [];\n",
       "    if (js_urls == null) js_urls = [];\n",
       "\n",
       "    root._bokeh_onload_callbacks.push(callback);\n",
       "    if (root._bokeh_is_loading > 0) {\n",
       "      console.debug(\"Bokeh: BokehJS is being loaded, scheduling callback at\", now());\n",
       "      return null;\n",
       "    }\n",
       "    if (js_urls == null || js_urls.length === 0) {\n",
       "      run_callbacks();\n",
       "      return null;\n",
       "    }\n",
       "    console.debug(\"Bokeh: BokehJS not loaded, scheduling load and callback at\", now());\n",
       "    root._bokeh_is_loading = css_urls.length + js_urls.length;\n",
       "\n",
       "    function on_load() {\n",
       "      root._bokeh_is_loading--;\n",
       "      if (root._bokeh_is_loading === 0) {\n",
       "        console.debug(\"Bokeh: all BokehJS libraries/stylesheets loaded\");\n",
       "        run_callbacks()\n",
       "      }\n",
       "    }\n",
       "\n",
       "    function on_error(url) {\n",
       "      console.error(\"failed to load \" + url);\n",
       "    }\n",
       "\n",
       "    for (let i = 0; i < css_urls.length; i++) {\n",
       "      const url = css_urls[i];\n",
       "      const element = document.createElement(\"link\");\n",
       "      element.onload = on_load;\n",
       "      element.onerror = on_error.bind(null, url);\n",
       "      element.rel = \"stylesheet\";\n",
       "      element.type = \"text/css\";\n",
       "      element.href = url;\n",
       "      console.debug(\"Bokeh: injecting link tag for BokehJS stylesheet: \", url);\n",
       "      document.body.appendChild(element);\n",
       "    }\n",
       "\n",
       "    for (let i = 0; i < js_urls.length; i++) {\n",
       "      const url = js_urls[i];\n",
       "      const element = document.createElement('script');\n",
       "      element.onload = on_load;\n",
       "      element.onerror = on_error.bind(null, url);\n",
       "      element.async = false;\n",
       "      element.src = url;\n",
       "      console.debug(\"Bokeh: injecting script tag for BokehJS library: \", url);\n",
       "      document.head.appendChild(element);\n",
       "    }\n",
       "  };\n",
       "\n",
       "  function inject_raw_css(css) {\n",
       "    const element = document.createElement(\"style\");\n",
       "    element.appendChild(document.createTextNode(css));\n",
       "    document.body.appendChild(element);\n",
       "  }\n",
       "\n",
       "  const js_urls = [\"https://cdn.bokeh.org/bokeh/release/bokeh-2.4.3.min.js\", \"https://cdn.bokeh.org/bokeh/release/bokeh-gl-2.4.3.min.js\", \"https://cdn.bokeh.org/bokeh/release/bokeh-widgets-2.4.3.min.js\", \"https://cdn.bokeh.org/bokeh/release/bokeh-tables-2.4.3.min.js\", \"https://cdn.bokeh.org/bokeh/release/bokeh-mathjax-2.4.3.min.js\"];\n",
       "  const css_urls = [];\n",
       "\n",
       "  const inline_js = [    function(Bokeh) {\n",
       "      Bokeh.set_log_level(\"info\");\n",
       "    },\n",
       "function(Bokeh) {\n",
       "    }\n",
       "  ];\n",
       "\n",
       "  function run_inline_js() {\n",
       "    if (root.Bokeh !== undefined || force === true) {\n",
       "          for (let i = 0; i < inline_js.length; i++) {\n",
       "      inline_js[i].call(root, root.Bokeh);\n",
       "    }\n",
       "if (force === true) {\n",
       "        display_loaded();\n",
       "      }} else if (Date.now() < root._bokeh_timeout) {\n",
       "      setTimeout(run_inline_js, 100);\n",
       "    } else if (!root._bokeh_failed_load) {\n",
       "      console.log(\"Bokeh: BokehJS failed to load within specified timeout.\");\n",
       "      root._bokeh_failed_load = true;\n",
       "    } else if (force !== true) {\n",
       "      const cell = $(document.getElementById(\"1002\")).parents('.cell').data().cell;\n",
       "      cell.output_area.append_execute_result(NB_LOAD_WARNING)\n",
       "    }\n",
       "  }\n",
       "\n",
       "  if (root._bokeh_is_loading === 0) {\n",
       "    console.debug(\"Bokeh: BokehJS loaded, going straight to plotting\");\n",
       "    run_inline_js();\n",
       "  } else {\n",
       "    load_libs(css_urls, js_urls, function() {\n",
       "      console.debug(\"Bokeh: BokehJS plotting callback run at\", now());\n",
       "      run_inline_js();\n",
       "    });\n",
       "  }\n",
       "}(window));"
      ],
      "application/vnd.bokehjs_load.v0+json": "(function(root) {\n  function now() {\n    return new Date();\n  }\n\n  const force = true;\n\n  if (typeof root._bokeh_onload_callbacks === \"undefined\" || force === true) {\n    root._bokeh_onload_callbacks = [];\n    root._bokeh_is_loading = undefined;\n  }\n\n\n  if (typeof (root._bokeh_timeout) === \"undefined\" || force === true) {\n    root._bokeh_timeout = Date.now() + 5000;\n    root._bokeh_failed_load = false;\n  }\n\n  const NB_LOAD_WARNING = {'data': {'text/html':\n     \"<div style='background-color: #fdd'>\\n\"+\n     \"<p>\\n\"+\n     \"BokehJS does not appear to have successfully loaded. If loading BokehJS from CDN, this \\n\"+\n     \"may be due to a slow or bad network connection. Possible fixes:\\n\"+\n     \"</p>\\n\"+\n     \"<ul>\\n\"+\n     \"<li>re-rerun `output_notebook()` to attempt to load from CDN again, or</li>\\n\"+\n     \"<li>use INLINE resources instead, as so:</li>\\n\"+\n     \"</ul>\\n\"+\n     \"<code>\\n\"+\n     \"from bokeh.resources import INLINE\\n\"+\n     \"output_notebook(resources=INLINE)\\n\"+\n     \"</code>\\n\"+\n     \"</div>\"}};\n\n  function display_loaded() {\n    const el = document.getElementById(\"1002\");\n    if (el != null) {\n      el.textContent = \"BokehJS is loading...\";\n    }\n    if (root.Bokeh !== undefined) {\n      if (el != null) {\n        el.textContent = \"BokehJS \" + root.Bokeh.version + \" successfully loaded.\";\n      }\n    } else if (Date.now() < root._bokeh_timeout) {\n      setTimeout(display_loaded, 100)\n    }\n  }\n\n  function run_callbacks() {\n    try {\n      root._bokeh_onload_callbacks.forEach(function(callback) {\n        if (callback != null)\n          callback();\n      });\n    } finally {\n      delete root._bokeh_onload_callbacks\n    }\n    console.debug(\"Bokeh: all callbacks have finished\");\n  }\n\n  function load_libs(css_urls, js_urls, callback) {\n    if (css_urls == null) css_urls = [];\n    if (js_urls == null) js_urls = [];\n\n    root._bokeh_onload_callbacks.push(callback);\n    if (root._bokeh_is_loading > 0) {\n      console.debug(\"Bokeh: BokehJS is being loaded, scheduling callback at\", now());\n      return null;\n    }\n    if (js_urls == null || js_urls.length === 0) {\n      run_callbacks();\n      return null;\n    }\n    console.debug(\"Bokeh: BokehJS not loaded, scheduling load and callback at\", now());\n    root._bokeh_is_loading = css_urls.length + js_urls.length;\n\n    function on_load() {\n      root._bokeh_is_loading--;\n      if (root._bokeh_is_loading === 0) {\n        console.debug(\"Bokeh: all BokehJS libraries/stylesheets loaded\");\n        run_callbacks()\n      }\n    }\n\n    function on_error(url) {\n      console.error(\"failed to load \" + url);\n    }\n\n    for (let i = 0; i < css_urls.length; i++) {\n      const url = css_urls[i];\n      const element = document.createElement(\"link\");\n      element.onload = on_load;\n      element.onerror = on_error.bind(null, url);\n      element.rel = \"stylesheet\";\n      element.type = \"text/css\";\n      element.href = url;\n      console.debug(\"Bokeh: injecting link tag for BokehJS stylesheet: \", url);\n      document.body.appendChild(element);\n    }\n\n    for (let i = 0; i < js_urls.length; i++) {\n      const url = js_urls[i];\n      const element = document.createElement('script');\n      element.onload = on_load;\n      element.onerror = on_error.bind(null, url);\n      element.async = false;\n      element.src = url;\n      console.debug(\"Bokeh: injecting script tag for BokehJS library: \", url);\n      document.head.appendChild(element);\n    }\n  };\n\n  function inject_raw_css(css) {\n    const element = document.createElement(\"style\");\n    element.appendChild(document.createTextNode(css));\n    document.body.appendChild(element);\n  }\n\n  const js_urls = [\"https://cdn.bokeh.org/bokeh/release/bokeh-2.4.3.min.js\", \"https://cdn.bokeh.org/bokeh/release/bokeh-gl-2.4.3.min.js\", \"https://cdn.bokeh.org/bokeh/release/bokeh-widgets-2.4.3.min.js\", \"https://cdn.bokeh.org/bokeh/release/bokeh-tables-2.4.3.min.js\", \"https://cdn.bokeh.org/bokeh/release/bokeh-mathjax-2.4.3.min.js\"];\n  const css_urls = [];\n\n  const inline_js = [    function(Bokeh) {\n      Bokeh.set_log_level(\"info\");\n    },\nfunction(Bokeh) {\n    }\n  ];\n\n  function run_inline_js() {\n    if (root.Bokeh !== undefined || force === true) {\n          for (let i = 0; i < inline_js.length; i++) {\n      inline_js[i].call(root, root.Bokeh);\n    }\nif (force === true) {\n        display_loaded();\n      }} else if (Date.now() < root._bokeh_timeout) {\n      setTimeout(run_inline_js, 100);\n    } else if (!root._bokeh_failed_load) {\n      console.log(\"Bokeh: BokehJS failed to load within specified timeout.\");\n      root._bokeh_failed_load = true;\n    } else if (force !== true) {\n      const cell = $(document.getElementById(\"1002\")).parents('.cell').data().cell;\n      cell.output_area.append_execute_result(NB_LOAD_WARNING)\n    }\n  }\n\n  if (root._bokeh_is_loading === 0) {\n    console.debug(\"Bokeh: BokehJS loaded, going straight to plotting\");\n    run_inline_js();\n  } else {\n    load_libs(css_urls, js_urls, function() {\n      console.debug(\"Bokeh: BokehJS plotting callback run at\", now());\n      run_inline_js();\n    });\n  }\n}(window));"
     },
     "metadata": {},
     "output_type": "display_data"
    },
    {
     "data": {
      "text/html": [
       "\n",
       "  <div class=\"bk-root\" id=\"c1879a79-1848-4ba5-b01c-b5016bf85a3c\" data-root-id=\"1003\"></div>\n"
      ]
     },
     "metadata": {},
     "output_type": "display_data"
    },
    {
     "data": {
      "application/javascript": [
       "(function(root) {\n",
       "  function embed_document(root) {\n",
       "  const docs_json = {\"be482006-c795-49c4-a5b4-4fc931623027\":{\"defs\":[],\"roots\":{\"references\":[{\"attributes\":{\"below\":[{\"id\":\"1014\"}],\"center\":[{\"id\":\"1017\"},{\"id\":\"1021\"},{\"id\":\"1041\"}],\"left\":[{\"id\":\"1018\"}],\"renderers\":[{\"id\":\"1039\"}],\"title\":{\"id\":\"1004\"},\"toolbar\":{\"id\":\"1028\"},\"toolbar_location\":\"above\",\"x_range\":{\"id\":\"1006\"},\"x_scale\":{\"id\":\"1010\"},\"y_range\":{\"id\":\"1008\"},\"y_scale\":{\"id\":\"1012\"}},\"id\":\"1003\",\"subtype\":\"Figure\",\"type\":\"Plot\"},{\"attributes\":{},\"id\":\"1026\",\"type\":\"SaveTool\"},{\"attributes\":{\"bottom_units\":\"screen\",\"coordinates\":null,\"fill_alpha\":0.5,\"fill_color\":\"lightgrey\",\"group\":null,\"left_units\":\"screen\",\"level\":\"overlay\",\"line_alpha\":1.0,\"line_color\":\"black\",\"line_dash\":[4,4],\"line_width\":2,\"right_units\":\"screen\",\"syncable\":false,\"top_units\":\"screen\"},\"id\":\"1027\",\"type\":\"BoxAnnotation\"},{\"attributes\":{\"fill_alpha\":{\"value\":0.2},\"fill_color\":{\"value\":\"#1f77b4\"},\"hatch_alpha\":{\"value\":0.2},\"line_alpha\":{\"value\":0.2},\"line_color\":{\"value\":\"#1f77b4\"},\"size\":{\"value\":8},\"x\":{\"field\":\"x1\"},\"y\":{\"field\":\"x2\"}},\"id\":\"1038\",\"type\":\"Scatter\"},{\"attributes\":{},\"id\":\"1049\",\"type\":\"AllLabels\"},{\"attributes\":{\"tools\":[{\"id\":\"1022\"},{\"id\":\"1023\"},{\"id\":\"1024\"},{\"id\":\"1025\"},{\"id\":\"1026\"}]},\"id\":\"1028\",\"type\":\"Toolbar\"},{\"attributes\":{},\"id\":\"1046\",\"type\":\"AllLabels\"},{\"attributes\":{\"coordinates\":null,\"formatter\":{\"id\":\"1048\"},\"group\":null,\"major_label_policy\":{\"id\":\"1049\"},\"ticker\":{\"id\":\"1015\"}},\"id\":\"1014\",\"type\":\"LinearAxis\"},{\"attributes\":{\"data\":{\"names\":[\"some\",\"up\",\"marvellous\",\"chace\",\"window\",\"'\",\"it\",\"way\",\"nantucket\",\"own\",\"ships\",\"thomas\",\"new\",\"!\\\"\",\"without\",\"dim\",\"streets\",\".--\",\"round\",\"place\",\"nothing\",\"bedford\",\"no\",\"sword\",\"came\",\"made\",\"very\",\"dictionary\",\"time\",\"such\",\"thing\",\"hear\",\"almost\",\")\",\"jaw\",\"wind\",\"length\",\",--\",\"so\",\"dives\",\"with\",\"s\",\"vast\",\"sleeps\",\"penny\",\"passengers\",\"has\",\"part\",\"nigh\",\"mighty\",\"lord\",\"whale\",\"himself\",\"enough\",\"again\",\"run\",\"only\",\"supplied\",\"harpooneer\",\"letter\",\"bag\",\"jaws\",\"south\",\"works\",\"world\",\",\\\"\",\"don\",\"within\",\"high\",\"cannot\",\"much\",\"summer\",\"room\",\"this\",\"shall\",\"between\",\"land\",\"our\",\"find\",\"been\",\"also\",\"think\",\"shore\",\"last\",\"forty\",\"more\",\"where\",\"fixed\",\"craft\",\"making\",\"too\",\"why\",\"stern\",\"wide\",\"thou\",\"gathered\",\"altogether\",\"purse\",\"point\",\"into\",\"whaling\",\"mind\",\"hands\",\"one\",\"under\",\"ribs\",\"say\",\"body\",\"like\",\"blows\",\"\\\"\",\"else\",\"great\",\"tell\",\"them\",\"earth\",\"arched\",\"coffin\",\"jolly\",\"bones\",\"perhaps\",\"euroclydon\",\"english\",\"had\",\"brought\",\"either\",\"most\",\"especially\",\"maketh\",\"goes\",\"yet\",\"portentous\",\"sort\",\"black\",\"house\",\"leviathan\",\"bright\",\"account\",\"ever\",\"commodore\",\"her\",\"years\",\"ceti\",\"will\",\"things\",\"paying\",\"give\",\"two\",\"that\",\"never\",\"teeth\",\"town\",\"half\",\"name\",\".\",\"he\",\"floating\",\"when\",\"themselves\",\"glass\",\"sperm\",\"fishes\",\"head\",\"thinks\",\"the\",\"behind\",\"of\",\"while\",\"armed\",\"another\",\"supper\",\"every\",\"sail\",\"sub\",\"told\",\"inn\",\"strong\",\"rather\",\"board\",\"ye\",\"at\",\"entry\",\"before\",\"my\",\"all\",\"days\",\"lead\",\"image\",\"to\",\"glasses\",\"but\",\"miles\",\"doubtless\",\"swallow\",\"how\",\"tempestuous\",\"sea\",\"besides\",\"voyages\",\"were\",\"what\",\"found\",\"called\",\"same\",\"money\",\"fish\",\"king\",\"do\",\"make\",\"view\",\"kind\",\"life\",\"and\",\"spermacetti\",\"killed\",\";\",\"your\",\"far\",\"ice\",\"whose\",\"something\",\"looked\",\"entering\",\"full\",\"as\",\"pains\",\"against\",\"get\",\"stream\",\"fifty\",\"who\",\"-\",\"?\",\";--\",\"its\",\"red\",\"others\",\"light\",\"ten\",\"ishmael\",\"i\",\"not\",\"come\",\"go\",\"sometimes\",\"few\",\"late\",\"having\",\"sign\",\"other\",\"from\",\"jonah\",\"around\",\"soul\",\"bed\",\"--\",\"off\",\"american\",\"?\\\"\",\",\",\"quantity\",\"we\",\"though\",\"till\",\"these\",\"further\",\"immense\",\"am\",\"e\",\"about\",\"webster\",\"requires\",\"sing\",\"sir\",\"artist\",\"must\",\"royal\",\"four\",\"in\",\"true\",\"still\",\"going\",\"hearts\",\"hand\",\"order\",\"tears\",\"men\",\"destroyed\",\"near\",\"me\",\"long\",\"lay\",\"nuee\",\"beneath\",\"pale\",\"grand\",\"sailor\",\"monstrous\",\"spouter\",\"however\",\"globe\",\"three\",\"take\",\"known\",\"side\",\"(\",\"sleep\",\"less\",\".\\\"\",\"beast\",\"),\",\"broiled\",\"towards\",\"should\",\"ago\",\"through\",\"compare\",\"might\",\"an\",\"captain\",\"ay\",\"sperma\",\"once\",\"can\",\"parts\",\"ship\",\"let\",\"among\",\"whenever\",\"feet\",\"thousand\",\"heads\",\"winds\",\"picture\",\"seas\",\"seemed\",\"door\",\"north\",\"which\",\"idea\",\":\",\"city\",\"be\",\"ocean\",\"passenger\",\"over\",\"!\",\"d\",\"monsters\",\"gone\",\"god\",\"deep\",\"his\",\"huge\",\"street\",\"matter\",\"frost\",\"grow\",\"being\",\"ibid\",\"?--\",\"cape\",\"hill\",\"particular\",\"any\",\"harpoons\",\"than\",\"low\",\"have\",\"because\",\"is\",\"aloft\",\"chapter\",\"away\",\"did\",\"on\",\"enter\",\"for\",\"cook\",\"open\",\"whom\",\"young\",\"voyage\",\"she\",\"northern\",\"here\",\"see\",\"stop\",\"many\",\"well\",\"if\",\"eyes\",\"there\",\"myself\",\"oil\",\"passage\",\"seen\",\"look\",\"moving\",\"old\",\"put\",\"whether\",\"created\",\"better\",\"after\",\"night\",\"island\",\"you\",\"even\",\"boat\",\"little\",\"narrative\",\"monster\",\"stood\",\"vessel\",\"upon\",\"poor\",\"may\",\"country\",\"are\",\"those\",\"a\",\"was\",\"stone\",\"history\",\"they\",\"heart\",\"each\",\"him\",\"ha\",\"stranded\",\"battle\",\"or\",\"lazarus\",\"extracts\",\"blue\",\"down\",\"said\",\"us\",\"death\",\"green\",\"mast\",\"their\",\"would\",\"itself\",\"stand\",\"whales\",\"form\",\"day\",\"t\",\"...\",\"right\",\"yourself\",\"mouth\",\"large\",\"saw\",\"now\",\"wild\",\"out\",\"looking\",\"--\\\"\",\"then\",\"purpose\",\"air\",\"set\",\"man\",\"tail\",\"water\",\"by\",\"animal\",\"could\",\"thought\",\"persons\",\"london\",\"pacific\",\"first\",\"boats\",\"does\"],\"x1\":{\"__ndarray__\":\"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\",\"dtype\":\"float32\",\"order\":\"little\",\"shape\":[478]},\"x2\":{\"__ndarray__\":\"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\",\"dtype\":\"float32\",\"order\":\"little\",\"shape\":[478]}},\"selected\":{\"id\":\"1051\"},\"selection_policy\":{\"id\":\"1050\"}},\"id\":\"1034\",\"type\":\"ColumnDataSource\"},{\"attributes\":{\"coordinates\":null,\"group\":null,\"source\":{\"id\":\"1034\"},\"text\":{\"field\":\"names\"},\"text_align\":{\"value\":\"center\"},\"text_color\":{\"value\":\"#555555\"},\"text_font_size\":{\"value\":\"8pt\"},\"x\":{\"field\":\"x1\"},\"y\":{\"field\":\"x2\"},\"y_offset\":{\"value\":6}},\"id\":\"1041\",\"type\":\"LabelSet\"},{\"attributes\":{},\"id\":\"1048\",\"type\":\"BasicTickFormatter\"},{\"attributes\":{\"coordinates\":null,\"formatter\":{\"id\":\"1045\"},\"group\":null,\"major_label_policy\":{\"id\":\"1046\"},\"ticker\":{\"id\":\"1019\"}},\"id\":\"1018\",\"type\":\"LinearAxis\"},{\"attributes\":{\"coordinates\":null,\"group\":null,\"text\":\"word2vec T-SNE embedding representation\"},\"id\":\"1004\",\"type\":\"Title\"},{\"attributes\":{},\"id\":\"1015\",\"type\":\"BasicTicker\"},{\"attributes\":{\"coordinates\":null,\"data_source\":{\"id\":\"1034\"},\"glyph\":{\"id\":\"1036\"},\"group\":null,\"hover_glyph\":null,\"muted_glyph\":{\"id\":\"1038\"},\"nonselection_glyph\":{\"id\":\"1037\"},\"view\":{\"id\":\"1040\"}},\"id\":\"1039\",\"type\":\"GlyphRenderer\"},{\"attributes\":{\"axis\":{\"id\":\"1014\"},\"coordinates\":null,\"group\":null,\"ticker\":null},\"id\":\"1017\",\"type\":\"Grid\"},{\"attributes\":{\"source\":{\"id\":\"1034\"}},\"id\":\"1040\",\"type\":\"CDSView\"},{\"attributes\":{},\"id\":\"1022\",\"type\":\"PanTool\"},{\"attributes\":{},\"id\":\"1012\",\"type\":\"LinearScale\"},{\"attributes\":{},\"id\":\"1051\",\"type\":\"Selection\"},{\"attributes\":{},\"id\":\"1010\",\"type\":\"LinearScale\"},{\"attributes\":{},\"id\":\"1008\",\"type\":\"DataRange1d\"},{\"attributes\":{\"fill_alpha\":{\"value\":0.1},\"fill_color\":{\"value\":\"#1f77b4\"},\"hatch_alpha\":{\"value\":0.1},\"line_alpha\":{\"value\":0.1},\"line_color\":{\"value\":\"#1f77b4\"},\"size\":{\"value\":8},\"x\":{\"field\":\"x1\"},\"y\":{\"field\":\"x2\"}},\"id\":\"1037\",\"type\":\"Scatter\"},{\"attributes\":{\"axis\":{\"id\":\"1018\"},\"coordinates\":null,\"dimension\":1,\"group\":null,\"ticker\":null},\"id\":\"1021\",\"type\":\"Grid\"},{\"attributes\":{},\"id\":\"1019\",\"type\":\"BasicTicker\"},{\"attributes\":{},\"id\":\"1050\",\"type\":\"UnionRenderers\"},{\"attributes\":{\"fill_color\":{\"value\":\"#1f77b4\"},\"line_color\":{\"value\":\"#1f77b4\"},\"size\":{\"value\":8},\"x\":{\"field\":\"x1\"},\"y\":{\"field\":\"x2\"}},\"id\":\"1036\",\"type\":\"Scatter\"},{\"attributes\":{},\"id\":\"1006\",\"type\":\"DataRange1d\"},{\"attributes\":{},\"id\":\"1023\",\"type\":\"WheelZoomTool\"},{\"attributes\":{},\"id\":\"1045\",\"type\":\"BasicTickFormatter\"},{\"attributes\":{\"overlay\":{\"id\":\"1027\"}},\"id\":\"1024\",\"type\":\"BoxZoomTool\"},{\"attributes\":{},\"id\":\"1025\",\"type\":\"ResetTool\"}],\"root_ids\":[\"1003\"]},\"title\":\"Bokeh Application\",\"version\":\"2.4.3\"}};\n",
       "  const render_items = [{\"docid\":\"be482006-c795-49c4-a5b4-4fc931623027\",\"root_ids\":[\"1003\"],\"roots\":{\"1003\":\"c1879a79-1848-4ba5-b01c-b5016bf85a3c\"}}];\n",
       "  root.Bokeh.embed.embed_items_notebook(docs_json, render_items);\n",
       "  }\n",
       "  if (root.Bokeh !== undefined) {\n",
       "    embed_document(root);\n",
       "  } else {\n",
       "    let attempts = 0;\n",
       "    const timer = setInterval(function(root) {\n",
       "      if (root.Bokeh !== undefined) {\n",
       "        clearInterval(timer);\n",
       "        embed_document(root);\n",
       "      } else {\n",
       "        attempts++;\n",
       "        if (attempts > 100) {\n",
       "          clearInterval(timer);\n",
       "          console.log(\"Bokeh: ERROR: Unable to run BokehJS code because BokehJS library is missing\");\n",
       "        }\n",
       "      }\n",
       "    }, 10, root)\n",
       "  }\n",
       "})(window);"
      ],
      "application/vnd.bokehjs_exec.v0+json": ""
     },
     "metadata": {
      "application/vnd.bokehjs_exec.v0+json": {
       "id": "1003"
      }
     },
     "output_type": "display_data"
    }
   ],
   "source": [
    "from bokeh.models import ColumnDataSource, LabelSet\n",
    "from bokeh.plotting import figure, show, output_file\n",
    "from bokeh.io import output_notebook\n",
    "output_notebook()\n",
    "\n",
    "p = figure(tools=\"pan,wheel_zoom,box_zoom,reset,save\",\n",
    "           toolbar_location=\"above\",\n",
    "           title=\"word2vec T-SNE embedding representation\")\n",
    "\n",
    "source = ColumnDataSource(data=dict(x1=top_words_tsne[:,0],\n",
    "                                    x2=top_words_tsne[:,1],\n",
    "                                    names=list(vectors.index)))\n",
    "\n",
    "p.scatter(x=\"x1\", y=\"x2\", size=8, source=source)\n",
    "\n",
    "labels = LabelSet(x=\"x1\", y=\"x2\", text=\"names\", y_offset=6,\n",
    "                  text_font_size=\"8pt\", text_color=\"#555555\",\n",
    "                  source=source, text_align='center')\n",
    "p.add_layout(labels)\n",
    "\n",
    "show(p)"
   ]
  }
 ],
 "metadata": {
  "kernelspec": {
   "display_name": "Python 3",
   "language": "python",
   "name": "python3"
  },
  "language_info": {
   "codemirror_mode": {
    "name": "ipython",
    "version": 3
   },
   "file_extension": ".py",
   "mimetype": "text/x-python",
   "name": "python",
   "nbconvert_exporter": "python",
   "pygments_lexer": "ipython3",
   "version": "3.10.10"
  },
  "papermill": {
   "default_parameters": {},
   "duration": 292.776896,
   "end_time": "2023-06-05T19:46:01.147471",
   "environment_variables": {},
   "exception": null,
   "input_path": "__notebook__.ipynb",
   "output_path": "__notebook__.ipynb",
   "parameters": {},
   "start_time": "2023-06-05T19:41:08.370575",
   "version": "2.4.0"
  }
 },
 "nbformat": 4,
 "nbformat_minor": 5
}
